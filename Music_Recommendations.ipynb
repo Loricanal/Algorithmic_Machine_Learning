{
 "cells": [
  {
   "cell_type": "markdown",
   "metadata": {
    "collapsed": true
   },
   "source": [
    "2017 edition"
   ]
  },
  {
   "cell_type": "markdown",
   "metadata": {},
   "source": [
    "# Building a music recommender system\n",
    "\n",
    "As its name implies, a recommender system is a tool that helps predicting what a user may or may not like among a list of given items. In some sense, you can view this as an alternative to content search, as recommendation engines help users discover products or content that they may not come across otherwise. For example, Facebook suggests friends and pages to users. Youtube recommends videos which users may be interested in. Amazon suggests the products which users may need... Recommendation engines engage users to services, can be seen as a revenue optimization process, and in general help maintaining interest in a service.\n",
    "\n",
    "In this notebook, we study how to build a simple recommender system: we focus on music recommendations, and we use a simple algorithm to predict which items users might like, that is called ALS, alternating least squares.\n",
    "\n",
    "## Goals\n",
    "\n",
    "In this lecture, we expect students to:\n",
    "\n",
    "- Revisit (or learn) recommender algorithms\n",
    "\n",
    "- Understand the idea of Matrix Factorization and the ALS algorithm (serial and parallel versions)\n",
    "\n",
    "- Build a simple model for a real usecase: music recommender system\n",
    "\n",
    "- Understand how to validate the results\n",
    "\n",
    "## Steps\n",
    "\n",
    "We assume students to work outside lab hours on the learning material. These are the steps by which we guide students, during labs, to build a good basis for the end-to-end development of a recommender system:\n",
    "\n",
    "* Inspect the data using Spark SQL, and build some basic, but very valuable knowledge about the information we have at hand\n",
    "* Formally define what is a sensible algorithm to achieve our goal: given the \"history\" of user taste for music, recommend new music to discover. Essentialy, we want to build a statistical model of user preferences such that we can use it to \"predict\" which additional music the user could like\n",
    "* With our formal definition at hand, we will learn different ways to implement such an algorithm. Our goal here is to illustrate what are the difficulties to overcome when implementing a (parallel) algorithm\n",
    "* Finally, we will focus on an existing implementation, available in the Apache Spark MLLib, which we will use out of the box to build a reliable statistical model\n",
    "\n",
    "Now, you may think at this point we will be done!\n",
    "\n",
    "Well, you'd better think twice: one important topic we will cover in all our Notebooks is **how to validate the results we obtain**, and **how to choose good parameters to train models** especially when using an \"opaque\" library for doing the job. As a consequence, we will focus on the statistical validation of our recommender system.\n",
    "\n",
    "# Important note for grading\n",
    "This notebook displays a series of questions, that we use to grade the work done. Since the following questions are rather basic, and do not change much from year to year, they only allow reaching the grade 10/20. Additional points can be gained by showing originality, depth, algorithmic design and implementations beyond that used in the notebook. Remember that this should become your own notebook: there is ample room for creativity!"
   ]
  },
  {
   "cell_type": "markdown",
   "metadata": {},
   "source": [
    "# 1. Data\n",
    "\n",
    "Understanding data is one of the most important part when designing any machine learning algorithm. In this notebook, we will use a data set published by Audioscrobbler - a music recommendation system for last.fm. Audioscrobbler is also one of the first internet streaming radio sites, founded in 2002. It provided an open API for “scrobbling”, or recording listeners’ plays of artists’ songs. last.fm used this information to build a powerful music recommender engine.\n",
    "\n",
    "## 1.1. Data schema\n",
    "\n",
    "Unlike a rating dataset which contains information about users' preference for products (one star, 3 stars, and so on), the datasets from Audioscrobbler only has information about events: specifically, it keeps track of how many times a user played songs of a given artist and the names of artists. That means it carries less information than a rating: in the literature, this is called explicit vs. implicit ratings.\n",
    "\n",
    "### Reading material\n",
    "\n",
    "- [Implicit Feedback for Inferring User Preference: A Bibliography](http://people.csail.mit.edu/teevan/work/publications/papers/sigir-forum03.pdf)\n",
    "- [Comparing explicit and implicit feedback techniques for web retrieval: TREC-10 interactive track report](http://trec.nist.gov/pubs/trec10/papers/glasgow.pdf)\n",
    "- [Probabilistic Models for Data Combination in Recommender Systems](http://mlg.eng.cam.ac.uk/pub/pdf/WilGha08.pdf)\n",
    "\n",
    "The data we use in this Notebook is available in 3 files (these files are stored in our HDFS layer, in the directory  ```/datasets/lastfm```):\n",
    "\n",
    "- **`user_artist_data.txt`**: It contains about 140,000+ unique users, and 1.6 million unique artists. About 24.2 million users’ plays of artists’ are recorded, along with their count. It has 3 columns separated by spaces: \n",
    "\n",
    "| UserID | ArtistID | PlayCount |\n",
    "|----|----|----|\n",
    "| ...|...|...|\n",
    "\n",
    "\n",
    "- **`artist_data.txt`** : It prodives the names of each artist by their IDs. It has 2 columns separated by tab characters (`\\t`).\n",
    "\n",
    "| ArtistID | Name |\n",
    "|---|---|\n",
    "|...|...|\n",
    "\n",
    "- **`artist_alias.txt`**: Note that when plays are scrobbled, the client application submits the name of the artist being played. This name could be misspelled or nonstandard. For example, \"The Smiths\", \"Smiths, The\", and \"the smiths\" may appear as distinct artist IDs in the data set, even though they are plainly the same. `artist_alias.txt` maps artist IDs that are known misspellings or variants to the canonical ID of that artist. The data in this file has 2 columns separated by tab characters (`\\t`).\n",
    "\n",
    "| MisspelledArtistID | StandardArtistID |\n",
    "|---|---|\n",
    "|...|...|\n",
    "\n"
   ]
  },
  {
   "cell_type": "markdown",
   "metadata": {},
   "source": [
    "## 1.2. Understanding data: simple descriptive statistic\n",
    "\n",
    "In order to choose or design a suitable algorithm for achieving our goals, given the data we have, we should first understand data characteristics. To start, we import the necessary packages to work with regular expressions, Data Frames, and other nice features of our programming environment."
   ]
  },
  {
   "cell_type": "code",
   "execution_count": 81,
   "metadata": {
    "collapsed": false
   },
   "outputs": [],
   "source": [
    "import os\n",
    "import sys\n",
    "import re\n",
    "import random\n",
    "from pyspark import SparkContext\n",
    "from pyspark.sql import SQLContext\n",
    "from pyspark.sql.types import *\n",
    "from pyspark.sql import Row\n",
    "from pyspark.sql.functions import *\n",
    "\n",
    "%matplotlib inline\n",
    "import matplotlib.pyplot as plt\n",
    "import pandas as pd\n",
    "import numpy as np\n",
    "from time import time\n",
    "\n",
    "sqlContext = SQLContext(sc)\n",
    "base = \"/datasets/lastfm/\""
   ]
  },
  {
   "cell_type": "markdown",
   "metadata": {},
   "source": [
    "### Question 1\n",
    "\n",
    "#### Question 1.0 (Non-grading)\n",
    "\n",
    "Using SPARK SQL, load data from `/datasets/lastfm/user_artist_data.txt` and show the first 20 entries (via function `show()`).\n",
    "\n",
    "For this Notebook, from a programming point of view, we are given the schema for the data we use, which is as follows:\n",
    "\n",
    "```\n",
    "userID: long int\n",
    "artistID: long int\n",
    "playCount: int\n",
    "```\n",
    "\n",
    "Each line of the dataset contains the above three fields, separated by a \"white space\"."
   ]
  },
  {
   "cell_type": "code",
   "execution_count": 82,
   "metadata": {
    "collapsed": false
   },
   "outputs": [
    {
     "name": "stdout",
     "output_type": "stream",
     "text": [
      "+-------+--------+---------+\n",
      "| userID|artistID|playCount|\n",
      "+-------+--------+---------+\n",
      "|1000002|       1|       55|\n",
      "|1000002| 1000006|       33|\n",
      "|1000002| 1000007|        8|\n",
      "|1000002| 1000009|      144|\n",
      "|1000002| 1000010|      314|\n",
      "|1000002| 1000013|        8|\n",
      "|1000002| 1000014|       42|\n",
      "|1000002| 1000017|       69|\n",
      "|1000002| 1000024|      329|\n",
      "|1000002| 1000025|        1|\n",
      "|1000002| 1000028|       17|\n",
      "|1000002| 1000031|       47|\n",
      "|1000002| 1000033|       15|\n",
      "|1000002| 1000042|        1|\n",
      "|1000002| 1000045|        1|\n",
      "|1000002| 1000054|        2|\n",
      "|1000002| 1000055|       25|\n",
      "|1000002| 1000056|        4|\n",
      "|1000002| 1000059|        2|\n",
      "|1000002| 1000062|       71|\n",
      "+-------+--------+---------+\n",
      "only showing top 20 rows\n",
      "\n"
     ]
    }
   ],
   "source": [
    "userArtistDataSchema = StructType([ \\\n",
    "    StructField(\"userID\", LongType(), True), \\\n",
    "    StructField(\"artistID\", LongType(), True), \\\n",
    "    StructField(\"playCount\", IntegerType(), True)])\n",
    "\n",
    "userArtistDF = sqlContext.read \\\n",
    "    .format('com.databricks.spark.csv') \\\n",
    "    .options(header='false', delimiter=' ') \\\n",
    "    .load(base + \"user_artist_data.txt\", schema = userArtistDataSchema) \\\n",
    "    .cache()\n",
    "\n",
    "# we can cache an Dataframe to avoid computing it from the beginning everytime it is accessed.\n",
    "userArtistDF.cache()\n",
    "\n",
    "userArtistDF.show()"
   ]
  },
  {
   "cell_type": "markdown",
   "metadata": {},
   "source": [
    "#### Question 1.1: \n",
    "How many distinct users do we have in our data? "
   ]
  },
  {
   "cell_type": "markdown",
   "metadata": {},
   "source": [
    "```python\n",
    "uniqueUsers = userArtistDF.select(...)...\n",
    "print(\"Total n. of users: \", uniqueUsers)\n",
    "```"
   ]
  },
  {
   "cell_type": "code",
   "execution_count": 83,
   "metadata": {
    "collapsed": false
   },
   "outputs": [
    {
     "name": "stdout",
     "output_type": "stream",
     "text": [
      "+------+\n",
      "|userID|\n",
      "+------+\n",
      "|    90|\n",
      "|    98|\n",
      "|   116|\n",
      "|   120|\n",
      "|   128|\n",
      "|   139|\n",
      "|   277|\n",
      "|   321|\n",
      "|   340|\n",
      "|   350|\n",
      "|   384|\n",
      "|   519|\n",
      "|   521|\n",
      "|   536|\n",
      "|   581|\n",
      "|   619|\n",
      "|   629|\n",
      "|   659|\n",
      "|   691|\n",
      "|   713|\n",
      "+------+\n",
      "only showing top 20 rows\n",
      "\n",
      "Total n. of users:  148111\n"
     ]
    }
   ],
   "source": [
    "u1 = userArtistDF.select('userID').orderBy('userID')\n",
    "#u1.show()\n",
    "#print(u1.count())\n",
    "uniqueUsers = userArtistDF.select('userID').distinct().orderBy('userID').cache()\n",
    "uniqueUsers.show()\n",
    "print(\"Total n. of users: \", uniqueUsers.count())"
   ]
  },
  {
   "cell_type": "markdown",
   "metadata": {},
   "source": [
    "#### Question 1.2\n",
    "How many distinct artists do we have in our data ?"
   ]
  },
  {
   "cell_type": "markdown",
   "metadata": {},
   "source": [
    "```python\n",
    "uniqueArtists = userArtistDF.select(...)...\n",
    "print(\"Total n. of artists: \", uniqueArtists)\n",
    "```"
   ]
  },
  {
   "cell_type": "code",
   "execution_count": 84,
   "metadata": {
    "collapsed": false
   },
   "outputs": [
    {
     "name": "stdout",
     "output_type": "stream",
     "text": [
      "+--------+\n",
      "|artistID|\n",
      "+--------+\n",
      "|       1|\n",
      "|       2|\n",
      "|       3|\n",
      "|       4|\n",
      "|       5|\n",
      "|       6|\n",
      "|       7|\n",
      "|       8|\n",
      "|       9|\n",
      "|      11|\n",
      "|      13|\n",
      "|      14|\n",
      "|      15|\n",
      "|      16|\n",
      "|      17|\n",
      "|      18|\n",
      "|      19|\n",
      "|      21|\n",
      "|      22|\n",
      "|      23|\n",
      "+--------+\n",
      "only showing top 20 rows\n",
      "\n",
      "Total n. of artists:  1631028\n"
     ]
    }
   ],
   "source": [
    "uniqueArtists = userArtistDF.select('artistID').distinct().orderBy('artistID').cache()\n",
    "uniqueArtists.show()\n",
    "print(\"Total n. of artists: \", uniqueArtists.count())"
   ]
  },
  {
   "cell_type": "markdown",
   "metadata": {},
   "source": [
    "#### Question 1.3\n",
    "\n",
    "One limitation of Spark MLlib's ALS implementation - which we will use later - is that it requires IDs for users and items to be nonnegative 32-bit integers. This means that IDs larger than Integer.MAX_VALUE, or 2147483647, can't be used. So we need to check whether this data set conforms to the strict requirements of our library.\n",
    "\n",
    "What are the maximum and minimum values of column `userID` ?\n",
    "\n",
    "HINT: Refer to section 4.3 of Laboratory 2."
   ]
  },
  {
   "cell_type": "markdown",
   "metadata": {},
   "source": [
    "```python\n",
    "userArtistDF....show()\n",
    "```"
   ]
  },
  {
   "cell_type": "code",
   "execution_count": 85,
   "metadata": {
    "collapsed": false
   },
   "outputs": [
    {
     "name": "stdout",
     "output_type": "stream",
     "text": [
      "+-----------+\n",
      "|max(userID)|\n",
      "+-----------+\n",
      "|    2443548|\n",
      "+-----------+\n",
      "\n",
      "+-----------+\n",
      "|min(userID)|\n",
      "+-----------+\n",
      "|         90|\n",
      "+-----------+\n",
      "\n"
     ]
    }
   ],
   "source": [
    "#print(uniqueUsers.rdd.max()[0])\n",
    "userArtistDF.select(max('userID')).show()\n",
    "#userArtistDF.agg({\"userID\": \"max\"}).collect()\n",
    "\n",
    "#print(uniqueUsers.rdd.min()[0])\n",
    "userArtistDF.select(min('userID')).show()\n",
    "#userArtistDF.agg({\"userID\": \"min\"}).collect()"
   ]
  },
  {
   "cell_type": "markdown",
   "metadata": {},
   "source": [
    "#### Question 1.4\n",
    "What is the maximum and minimum values of column `artistID` ?"
   ]
  },
  {
   "cell_type": "markdown",
   "metadata": {},
   "source": [
    "```python\n",
    "userArtistDF...\n",
    "```"
   ]
  },
  {
   "cell_type": "code",
   "execution_count": 86,
   "metadata": {
    "collapsed": false
   },
   "outputs": [
    {
     "name": "stdout",
     "output_type": "stream",
     "text": [
      "+-------------+\n",
      "|max(artistID)|\n",
      "+-------------+\n",
      "|     10794401|\n",
      "+-------------+\n",
      "\n",
      "+-------------+\n",
      "|min(artistID)|\n",
      "+-------------+\n",
      "|            1|\n",
      "+-------------+\n",
      "\n"
     ]
    }
   ],
   "source": [
    "#print(uniqueArtists.rdd.max()[0])\n",
    "userArtistDF.select(max('artistID')).show()\n",
    "#userArtistDF.agg({\"artistID\": \"max\"}).collect()\n",
    "\n",
    "#print(uniqueArtists.rdd.min()[0])\n",
    "userArtistDF.select(min('artistID')).show()\n",
    "#userArtistDF.agg({\"artistID\": \"min\"}).collect()"
   ]
  },
  {
   "cell_type": "markdown",
   "metadata": {},
   "source": [
    "We just discovered that we have a total of 148,111 users in our dataset. Similarly, we have a total of 1,631,028 artists in our dataset. The maximum values of `userID` and `artistID` are still smaller than the biggest number of integer type.  No additional transformation will be necessary to use these IDs.\n",
    "\n",
    "One thing we can see here is that SPARK SQL provides very concise and powerful methods for data analytics (compared to using RDD and their low-level API). You can see more examples [here](https://databricks.com/blog/2015/06/02/statistical-and-mathematical-functions-with-dataframes-in-spark.html)."
   ]
  },
  {
   "cell_type": "markdown",
   "metadata": {},
   "source": [
    "Next, we might want to understand better user activity and artist popularity.\n",
    "\n",
    "Here is a list of simple descriptive queries that helps us reaching these purposes:\n",
    "\n",
    "* How many times each user has played a song? This is a good indicator of who are the most active users of our service. Note that a very active user with many play counts does not necessarily mean that the user is also \"curious\"! Indeed, she could have played the same song several times.\n",
    "* How many play counts for each artist? This is a good indicator of the artist popularity. Since we do not have time information associated to our data, we can only build a, e.g., top-10 ranking of the most popular artists in the dataset. Later in the notebook, we will learn that our dataset has a very \"loose\" definition about artists: very often artist IDs point to song titles as well. This means we have to be careful when establishing popular artists. Indeed, artists whose data is \"well formed\" will have the correct number of play counts associated to them. Instead, artists that appear mixed with song titles may see their play counts \"diluted\" across their songs."
   ]
  },
  {
   "cell_type": "markdown",
   "metadata": {},
   "source": [
    "### Question 2\n",
    "\n",
    "#### Question 2.1\n",
    "How many times each user has played a song? Show 5 samples of the result."
   ]
  },
  {
   "cell_type": "markdown",
   "metadata": {},
   "source": [
    "```python\n",
    "# Compute user activity\n",
    "# We are interested in how many playcounts each user has scored.\n",
    "userActivity = userArtistDF.groupBy(...).sum(...).collect()\n",
    "print(userActivity[0:5])\n",
    "```"
   ]
  },
  {
   "cell_type": "code",
   "execution_count": 87,
   "metadata": {
    "collapsed": false
   },
   "outputs": [
    {
     "name": "stdout",
     "output_type": "stream",
     "text": [
      "+--------------+\n",
      "|max(playCount)|\n",
      "+--------------+\n",
      "|        439771|\n",
      "+--------------+\n",
      "\n",
      "+--------------+\n",
      "|min(playCount)|\n",
      "+--------------+\n",
      "|             1|\n",
      "+--------------+\n",
      "\n",
      "+-------+--------------+\n",
      "| userID|sum(playCount)|\n",
      "+-------+--------------+\n",
      "|1000061|           244|\n",
      "|1000070|         20200|\n",
      "|1000313|           201|\n",
      "|1000832|          1064|\n",
      "|1000905|           214|\n",
      "+-------+--------------+\n",
      "only showing top 5 rows\n",
      "\n",
      "The top 10 users based on playcounts is: \n",
      "+-------+--------------+\n",
      "| userID|sum(playCount)|\n",
      "+-------+--------------+\n",
      "|1059637|        674412|\n",
      "|2064012|        548427|\n",
      "|2069337|        393515|\n",
      "|2023977|        285978|\n",
      "|1046559|        183972|\n",
      "|1052461|        175822|\n",
      "|1070932|        168977|\n",
      "|1031009|        167273|\n",
      "|2020513|        165642|\n",
      "|2062243|        151504|\n",
      "+-------+--------------+\n",
      "\n"
     ]
    }
   ],
   "source": [
    "#check the min and max value of playcounts\n",
    "\n",
    "userArtistDF.select(max('playCount')).show()\n",
    "userArtistDF.select(min('playCount')).show()\n",
    "\n",
    "userActivity = userArtistDF.groupBy('userID').sum('playCount')\n",
    "userActivity.show(5)\n",
    "print(\"The top 10 users based on playcounts is: \")\n",
    "top10_userActivity=userActivity.orderBy('sum(playCount)', ascending=0).limit(10)\n",
    "top10_userActivity.show()"
   ]
  },
  {
   "cell_type": "code",
   "execution_count": 88,
   "metadata": {
    "collapsed": false
   },
   "outputs": [
    {
     "data": {
      "image/png": "[encoded data removed]",
      "text/plain": [
       "<matplotlib.figure.Figure at 0x7f645b080da0>"
      ]
     },
     "metadata": {},
     "output_type": "display_data"
    }
   ],
   "source": [
    "top10_userActivity_PD = pd.DataFrame(data=top10_userActivity.collect())\n",
    "\n",
    "y_pos = np.arange(len(top10_userActivity_PD[0].values))\n",
    "plt.figure(figsize=(13,7))\n",
    "\n",
    "plt.barh(y_pos, top10_userActivity_PD[1].values, align='center', alpha=0.5, color='orange')\n",
    "plt.yticks(y_pos, top10_userActivity_PD[0].values)\n",
    "plt.gca().invert_yaxis()\n",
    "plt.xlabel('Play Count')\n",
    "plt.title('Top 10 users per play counts')\n",
    "plt.show()"
   ]
  },
  {
   "cell_type": "markdown",
   "metadata": {},
   "source": [
    "#### Question 2.2\n",
    "Plot CDF (or ECDF) of the number of play counts per User ID.\n",
    "\n",
    "Explain and comment the figure you just created: \n",
    "\n",
    "* for example, look at important percentiles (25%, median, 75%, tails such as >90%) and cross check with what you have found above to figure out if the result is plausible.\n",
    "* discuss about your users, with respect to the application domain we target in the notebook: you will notice that for some users, there is very little interaction with the system, which means that maybe reccommending something to them is going to be more difficult than for other users who interact more with the system.\n",
    "* look at outliers and reason about their impact on your reccommender algorithm"
   ]
  },
  {
   "cell_type": "markdown",
   "metadata": {},
   "source": [
    "```python\n",
    "pdf = pd.DataFrame(data=userActivity)\n",
    "Y=np.sort( pdf[1] )\n",
    "yvals=np.arange(len(Y))/float(len(Y))\n",
    "\n",
    "print(np.arange(len(Y)))\n",
    "\n",
    "plt....( Y, yvals )\n",
    "plt.xlabel('Play Counts')\n",
    "plt.ylabel('ECDF')\n",
    "plt.grid(True,which=\"both\",ls=\"-\")\n",
    "plt.title('ECDF of number of play counts per User ID')\n",
    "plt.show()\n",
    "```"
   ]
  },
  {
   "cell_type": "code",
   "execution_count": 89,
   "metadata": {
    "collapsed": false
   },
   "outputs": [
    {
     "name": "stdout",
     "output_type": "stream",
     "text": [
      "Percentiles:\n",
      "0.00         1\n",
      "0.10        34\n",
      "0.20       132\n",
      "0.25       204\n",
      "0.30       293\n",
      "0.40       535\n",
      "0.50       892\n",
      "0.60      1415\n",
      "0.70      2226\n",
      "0.75      2800\n",
      "0.80      3584\n",
      "0.90      6484\n",
      "1.00    674412\n",
      "Name: 1, dtype: float64\n"
     ]
    },
    {
     "data": {
      "image/png": "[encoded data removed]",
      "text/plain": [
       "<matplotlib.figure.Figure at 0x7f645ba4e748>"
      ]
     },
     "metadata": {},
     "output_type": "display_data"
    }
   ],
   "source": [
    "pdf = pd.DataFrame(data=userActivity.collect())\n",
    "Y=np.sort(pdf[1])\n",
    "yvals=np.arange(len(Y))/float(len(Y))\n",
    "print('Percentiles:')\n",
    "print(pdf.quantile([.0,.1,.2,.25,.3,.4,.5,.6,.7,.75,.8,.9,1.0])[1])\n",
    "\n",
    "plt.figure(figsize=(13,7))\n",
    "plt.semilogx( Y, yvals )\n",
    "plt.xlabel('Play Counts')\n",
    "plt.ylabel('ECDF')\n",
    "plt.grid(True,which=\"both\",ls=\"-\")\n",
    "plt.title('ECDF of number of play counts per User ID')\n",
    "plt.show()"
   ]
  },
  {
   "cell_type": "markdown",
   "metadata": {},
   "source": [
    "Here we use a semilog plot because otherwise the plot is impossible to read (range of playcounts too wide)\n",
    "\n",
    "Some users have a very low playcount, this says that for this user, it will be more difficult to make accurate predictions, since we have not enough data. On the other hand, there are some users with a very high playcount. We think that for that type of users it will be easier to make some recommendations, unless they listened always the same artist, which is not very plausible.\n",
    "\n",
    "I take the log of the number of counts in order to be able to undersrand the data and look at the percentiles.\n",
    "\n",
    "25% percentile: ~ 200 playcounts \n",
    "\n",
    "50% percentile: ~ 800 playcounts \n",
    "\n",
    "75% percentile: ~ 2800 playcounts \n",
    "\n",
    "90% percentile: ~ 6500 playcounts \n",
    "\n",
    "Between 100 and 3000 playcounts we have about 50% of the users, they are still a lot of users, which exclude without any doubt outliers (too high, too low playcounts).\n",
    "\n",
    "We don't know how the data distribution can influence the recommender system, we need to check. Maybe it's better to leave out users with low playcounts?"
   ]
  },
  {
   "cell_type": "markdown",
   "metadata": {},
   "source": [
    "#### Question 2.3\n",
    "\n",
    "How many play counts for each artist? Plot CDF or ECDF of the result.\n",
    "\n",
    "Similarly to the previous question, you need to comment and interpret your result: what is the figure telling you?"
   ]
  },
  {
   "cell_type": "markdown",
   "metadata": {},
   "source": [
    "```python\n",
    "# Compute artist popularity\n",
    "# We are interested in how many playcounts per artist\n",
    "# ATTENTION! Grouping by artistID may be problematic, as stated above.\n",
    "\n",
    "artistPopularity = userArtistDF. ...\n",
    "```"
   ]
  },
  {
   "cell_type": "markdown",
   "metadata": {},
   "source": [
    "```python\n",
    "pdf = pd.DataFrame(data=artistPopularity)\n",
    "...\n",
    "...\n",
    "...\n",
    "```"
   ]
  },
  {
   "cell_type": "code",
   "execution_count": 90,
   "metadata": {
    "collapsed": false
   },
   "outputs": [
    {
     "name": "stdout",
     "output_type": "stream",
     "text": [
      "Percentiles:\n",
      "0.00          1\n",
      "0.10          1\n",
      "0.20          1\n",
      "0.25          1\n",
      "0.30          1\n",
      "0.40          2\n",
      "0.50          3\n",
      "0.60          5\n",
      "0.70          8\n",
      "0.75         11\n",
      "0.80         15\n",
      "0.90         45\n",
      "0.95        126\n",
      "0.99       1402\n",
      "1.00    2502130\n",
      "Name: 1, dtype: float64\n"
     ]
    },
    {
     "data": {
      "image/png": "[encoded data removed]",
      "text/plain": [
       "<matplotlib.figure.Figure at 0x7f6457de5978>"
      ]
     },
     "metadata": {},
     "output_type": "display_data"
    }
   ],
   "source": [
    "artistPopularity = userArtistDF.groupBy('artistID').sum('playCount').cache().collect()\n",
    "#userArtistDF.groupBy('artistID').sum('playCount').limit(5).show()\n",
    "\n",
    "pdf = pd.DataFrame(data=artistPopularity)\n",
    "Y=np.sort(pdf[1])\n",
    "yvals=np.arange(len(Y))/float(len(Y))\n",
    "print('Percentiles:')\n",
    "print(pdf.quantile([.0,.1,.2,.25,.3,.4,.5,.6,.7,.75,.8,.9,.95,.99,1.0])[1])\n",
    "\n",
    "plt.figure(figsize=(15,9))\n",
    "plt.semilogx( Y, yvals )\n",
    "plt.xlabel('Play Counts')\n",
    "plt.ylabel('ECDF')\n",
    "plt.grid(True,which=\"both\",ls=\"-\")\n",
    "plt.title('ECDF of number of play counts per Artist ID')\n",
    "plt.show()"
   ]
  },
  {
   "cell_type": "markdown",
   "metadata": {},
   "source": [
    "It looks that 75% of artists have less than 10 playcounts and 90% have less than 45 playcounts. This is really bad because it means that many artists are never listened. Actually about 35% of the artists have one playcount. Probably it's because there is something wrong with our data (Artist mispelled). In the following questions we'll cover that.\n",
    "\n",
    "Even considering the 90% percentile we have artists with at most 45 playcounts, this is still very low compared to the highest playcount value,  which is 2502130.\n",
    "Only 10% of the artists have more that 45 playcounts, and only 1% have more than 1%. This means that our system will probably recommend this 1% of the artists.\n",
    "Maybe if we do this way we achieve an high score, but we would exclude 99% of the artists from our recommendation, and this would limit the fairness of our system.\n"
   ]
  },
  {
   "cell_type": "markdown",
   "metadata": {},
   "source": [
    "#### Question 2.4\n",
    "Plot a bar chart to show top 5 artists In terms of absolute play counts.\n",
    "\n",
    "Comment the figure you just obtained:\n",
    "\n",
    "* are these reasonable results?\n",
    "* is looking at top-5 artists enough to learn more about your data?\n",
    "* do you see anything strange in the data?"
   ]
  },
  {
   "cell_type": "markdown",
   "metadata": {},
   "source": [
    "```python\n",
    "sortedArtist = sorted(artistPopularity, key = lambda x: -x[...])[: ...]\n",
    "\n",
    "artistID = [w[...] for w in sortedArtist]\n",
    "\n",
    "y_pos = range(len(sortedArtist))\n",
    "frequency = [w[1] for w in sortedArtist]\n",
    "\n",
    "plt.barh(y_pos, frequency[::-1], align='center', alpha=0.4)\n",
    "plt.yticks(y_pos, artistID[::-1])\n",
    "plt.xlabel('Play Count')\n",
    "plt.ylabel('Artist')\n",
    "plt.title('Top-10 Artist ID per play counts')\n",
    "plt.show()\n",
    "```"
   ]
  },
  {
   "cell_type": "code",
   "execution_count": 91,
   "metadata": {
    "collapsed": true
   },
   "outputs": [],
   "source": [
    "customSchemaArtist = StructType([ \\\n",
    "    StructField(\"artistID\", LongType(), True), \\\n",
    "    StructField(\"name\", StringType(), True)])\n",
    "\n",
    "artistDF = sqlContext.read \\\n",
    "    .format('com.databricks.spark.csv') \\\n",
    "    .options(header='false', delimiter='\\t',mode='DROPMALFORMED') \\\n",
    "    .load(base + \"artist_data.txt\",schema = customSchemaArtist) \\\n",
    "    .cache()"
   ]
  },
  {
   "cell_type": "code",
   "execution_count": 92,
   "metadata": {
    "collapsed": false
   },
   "outputs": [
    {
     "data": {
      "image/png": "[encoded data removed]",
      "text/plain": [
       "<matplotlib.figure.Figure at 0x7f6460073dd8>"
      ]
     },
     "metadata": {},
     "output_type": "display_data"
    },
    {
     "data": {
      "image/png": "[encoded data removed]",
      "text/plain": [
       "<matplotlib.figure.Figure at 0x7f6486dddcf8>"
      ]
     },
     "metadata": {},
     "output_type": "display_data"
    },
    {
     "data": {
      "image/png": "[encoded data removed]",
      "text/plain": [
       "<matplotlib.figure.Figure at 0x7f6457e46e80>"
      ]
     },
     "metadata": {},
     "output_type": "display_data"
    },
    {
     "name": "stdout",
     "output_type": "stream",
     "text": [
      "Artist in position 1 has 2502130 playcounts\n",
      "Artist in position 1000 has 61309 playcounts\n"
     ]
    }
   ],
   "source": [
    "artistPopularity = (\n",
    "    userArtistDF\n",
    "    .groupBy('artistID').sum('playCount')\n",
    "    .join(artistDF, userArtistDF.artistID == artistDF.artistID, \"left_outer\")\n",
    "    .drop(userArtistDF.artistID)\n",
    "    .drop(artistDF.artistID)\n",
    "    .cache()\n",
    "    .rdd\n",
    "    .map(lambda x : (x[1] , x[0]))\n",
    "    .toDF(['name','playcount'])\n",
    "    .collect()\n",
    ")\n",
    "\n",
    "\n",
    "sortedArtist = sorted(artistPopularity, key = lambda x: -x[1])[:5]\n",
    "artistID = [w[0] for w in sortedArtist]\n",
    "\n",
    "y_pos = range(len(sortedArtist))\n",
    "frequency = [w[1] for w in sortedArtist]\n",
    "\n",
    "plt.figure(figsize=(13,5))\n",
    "plt.barh(y_pos, frequency[::-1], align='center', alpha=0.5, color='orange')\n",
    "plt.yticks(y_pos, artistID[::-1])\n",
    "plt.xlabel('Play Count')\n",
    "plt.ylabel('Artist ID')\n",
    "plt.title('Top-5 Artist ID per play counts')\n",
    "plt.show()\n",
    "\n",
    "sortedArtist = sorted(artistPopularity, key = lambda x: -x[1])[:20]\n",
    "artistID = [w[0] for w in sortedArtist]\n",
    "\n",
    "y_pos = range(len(sortedArtist))\n",
    "frequency = [w[1] for w in sortedArtist]\n",
    "\n",
    "plt.figure(figsize=(13,7))\n",
    "plt.barh(y_pos, frequency[::-1], align='center', alpha=0.5, color='orange')\n",
    "plt.yticks(y_pos, artistID[::-1])\n",
    "plt.xlabel('Play Count')\n",
    "plt.ylabel('Artist ID')\n",
    "plt.title('Top-20 Artist ID per play counts')\n",
    "plt.show()\n",
    "\n",
    "sortedArtist = sorted(artistPopularity, key = lambda x: -x[1])[:1000]\n",
    "artistID = [w[0] for w in sortedArtist]\n",
    "\n",
    "y_pos = range(len(sortedArtist))\n",
    "frequency = [w[1] for w in sortedArtist]\n",
    "\n",
    "y_label = [1]\n",
    "y_label.extend(range(100,1001,100))\n",
    "\n",
    "plt.figure(figsize=(15,7))\n",
    "plt.plot(frequency[::-1],y_pos[::-1])\n",
    "plt.gca().invert_yaxis()\n",
    "plt.yticks(y_label)\n",
    "plt.xlabel('Play Count')\n",
    "plt.ylabel('Artist rank')\n",
    "plt.title('Top-1000 Artist per play counts')\n",
    "plt.show()\n",
    "\n",
    "print('Artist in position 1 has %d playcounts' % frequency[0])\n",
    "print('Artist in position 1000 has %d playcounts' % frequency[-1])"
   ]
  },
  {
   "cell_type": "markdown",
   "metadata": {},
   "source": [
    "As we can see, the top 5 artists have more than 1.5 million play counts.\n",
    "If we look at the top 20, we can see that they all have more than 1 million of play counts.\n",
    "\n",
    "When we look at the first 1000 artists we already see the big interval of values for what concerns the playcount.\n",
    "\n",
    "These values seem reasonable, but we are talking about the 99% percentile (artists with more than 1400 play counts)\n",
    "This conferms how much artists are different regarding play counts.\n",
    "Another thing that we see is that the top 3 is actually quite different from the top 20 and the top 100, we can see it clearly looking at the first two plots (top 20 and top 5).\n",
    "Anyway,it looks that after the first 3 artists, the distribution of play counts is more linear.\n",
    "\n",
    "We still need to consider that our data is biased: artists-ids are still dirty (more artist id for each artist)."
   ]
  },
  {
   "cell_type": "markdown",
   "metadata": {},
   "source": [
    "All seems clear right now, but ... wait a second! What about the problems indicated above about artist \"disambiguation\"? Are these artist ID we are using referring to unique artists? How can we make sure that such \"opaque\" identifiers point to different bands? Let's try to use some additional dataset to answer this question:  `artist_data.txt` dataset. This time, the schema of the dataset consists in:\n",
    "\n",
    "```\n",
    "artist ID: long int\n",
    "name: string\n",
    "```\n",
    "\n",
    "We will try to find whether a single artist has two different IDs."
   ]
  },
  {
   "cell_type": "markdown",
   "metadata": {},
   "source": [
    "### Question 3\n",
    "\n",
    "#### Question 3.1\n",
    "Load the data from `/datasets/lastfm/artist_data.txt` and use the SparkSQL API to show 5 samples.\n",
    "\n",
    "HINT: If you encounter some error when parsing lines in data because of invalid entries, parameter `mode='DROPMALFORMED'` will help you to eliminate these entries. The suggested syntax is: `<df>.options(header='false', delimiter='\\t', mode='DROPMALFORMED')`."
   ]
  },
  {
   "cell_type": "markdown",
   "metadata": {},
   "source": [
    "```python\n",
    "customSchemaArtist = StructType([ \\\n",
    "    StructField(\"artistID\", LongType(), True), \\\n",
    "    StructField(\"name\", StringType(), True)])\n",
    "\n",
    "artistDF = sqlContext.read \\\n",
    "    ...\n",
    "    ...\n",
    "    ...\n",
    "    \n",
    "artistDF.show(5)\n",
    "```"
   ]
  },
  {
   "cell_type": "markdown",
   "metadata": {},
   "source": [
    "We do not load /datasets/lastfm/artist_data.txt because we already loaded it before"
   ]
  },
  {
   "cell_type": "code",
   "execution_count": 93,
   "metadata": {
    "collapsed": false
   },
   "outputs": [
    {
     "name": "stdout",
     "output_type": "stream",
     "text": [
      "+--------+--------------------+\n",
      "|artistID|                name|\n",
      "+--------+--------------------+\n",
      "| 1134999|        06Crazy Life|\n",
      "| 6821360|        Pang Nakarin|\n",
      "|10113088|Terfel, Bartoli- ...|\n",
      "|10151459| The Flaming Sidebur|\n",
      "| 6826647|   Bodenstandig 3000|\n",
      "+--------+--------------------+\n",
      "only showing top 5 rows\n",
      "\n"
     ]
    }
   ],
   "source": [
    "artistDF.cache()\n",
    "\n",
    "artistDF.show(5)"
   ]
  },
  {
   "cell_type": "markdown",
   "metadata": {},
   "source": [
    "#### Question 3.2\n",
    "Find 20 artists whose name contains \"Aerosmith\". Take a look at artists that have ID equal to `1000010` and `2082323`. In your opinion, are they pointing to the same artist?\n",
    "\n",
    "HINT: Function `locate(sub_string, string)` can be useful in this case."
   ]
  },
  {
   "cell_type": "markdown",
   "metadata": {},
   "source": [
    "```python\n",
    "# get artists whose name contains \"Aerosmith\"\n",
    "artistDF[locate(\"Aerosmith\", ...) > 0].show(...)\n",
    "\n",
    "# show two examples\n",
    "artistDF[artistDF.artistID==1000010].show()\n",
    "artistDF[artistDF.artistID==2082323].show()\n",
    "```"
   ]
  },
  {
   "cell_type": "code",
   "execution_count": 94,
   "metadata": {
    "collapsed": false
   },
   "outputs": [
    {
     "name": "stdout",
     "output_type": "stream",
     "text": [
      "+--------+--------------------+\n",
      "|artistID|                name|\n",
      "+--------+--------------------+\n",
      "|10586006|Dusty Springfield...|\n",
      "| 6946007|    Aerosmith/RunDMC|\n",
      "|10475683|Aerosmith: Just P...|\n",
      "| 1083031|    Aerosmith/ G n R|\n",
      "| 6872848|Britney, Nsync, N...|\n",
      "|10586963|Green Day - Oasis...|\n",
      "|10028830|The Aerosmith Ant...|\n",
      "|10300357| Run-DMC + Aerosmith|\n",
      "| 2027746|Aerosmith by Musi...|\n",
      "| 1140418|[rap]Run DMC and ...|\n",
      "|10237208| Aerosmith + Run DMC|\n",
      "|10588537|Aerosmith, Kid Ro...|\n",
      "| 9934757|Aerosmith - Big Ones|\n",
      "|10437510|Green Day ft. Oas...|\n",
      "| 6936680| RUN DNC & Aerosmith|\n",
      "|10479781|      Aerosmith Hits|\n",
      "|10114147|Charlies Angels -...|\n",
      "| 1262439|Kid Rock, Run DMC...|\n",
      "| 7032554|Aerosmith & Run-D...|\n",
      "|10033592|          Aerosmith?|\n",
      "+--------+--------------------+\n",
      "only showing top 20 rows\n",
      "\n",
      "+--------+---------+\n",
      "|artistID|     name|\n",
      "+--------+---------+\n",
      "| 1000010|Aerosmith|\n",
      "+--------+---------+\n",
      "\n",
      "+--------+------------+\n",
      "|artistID|        name|\n",
      "+--------+------------+\n",
      "| 2082323|01 Aerosmith|\n",
      "+--------+------------+\n",
      "\n"
     ]
    }
   ],
   "source": [
    "# get artists whose name contains \"Aerosmith\"\n",
    "artistDF[locate(\"Aerosmith\", 'name') > 0].show(20)\n",
    "\n",
    "# show two examples\n",
    "artistDF[artistDF.artistID==1000010].show()\n",
    "artistDF[artistDF.artistID==2082323].show()"
   ]
  },
  {
   "cell_type": "markdown",
   "metadata": {},
   "source": [
    "They are clearly the same artist. The problem is that in same cases we have many featurings, and an optimal approach would be to add a playcount to all the artist mentioned and then eliminate the featuring artistID. This is too difficult to do, so we decided to leave it there"
   ]
  },
  {
   "cell_type": "code",
   "execution_count": 95,
   "metadata": {
    "collapsed": false
   },
   "outputs": [
    {
     "name": "stdout",
     "output_type": "stream",
     "text": [
      "Here another example to show that the featuring problem is  present in all the data :\n",
      "+--------+--------------------+\n",
      "|artistID|                name|\n",
      "+--------+--------------------+\n",
      "|10584756|P. Diddy ft. Noto...|\n",
      "|10435135|Lloyd Banks Feat....|\n",
      "| 1240504| 50 Cent ft. Emninem|\n",
      "|10435218|  Missy Feat 50 Cent|\n",
      "| 7031312|50 Cent/Biggie Sm...|\n",
      "|10024883|Eminem Dr.Dre 50 ...|\n",
      "| 1136301|50 Cent and Madd ...|\n",
      "| 1136311|50 Cent and Missy...|\n",
      "| 1136317|50 Cent and Nate ...|\n",
      "| 1136665|      Eminem 50 Cent|\n",
      "| 1244879|50 Cent & Eminem ...|\n",
      "|10026240|   D12 (ft. 50 Cent)|\n",
      "|10435394|50 Cent Feat. Llo...|\n",
      "| 1245591|50 Cent, Eminem, ...|\n",
      "|10026808| 50 Cent (on hot 97)|\n",
      "|10027151|50 Cent f/ Lloyd ...|\n",
      "| 1138015|50 Cent, Destiiny...|\n",
      "|10027268|Nas F/ 50 Cents, ...|\n",
      "| 1246695|Talib Kweli, Mos ...|\n",
      "| 1247022|Eminem/50 Cent/Bu...|\n",
      "+--------+--------------------+\n",
      "only showing top 20 rows\n",
      "\n"
     ]
    }
   ],
   "source": [
    "print(\"Here another example to show that the featuring problem is  present in all the data :\")\n",
    "\n",
    "artistDF[locate(\"50 Cent\", 'name') > 0].show(20)"
   ]
  },
  {
   "cell_type": "markdown",
   "metadata": {},
   "source": [
    "To answer this question correctly, we need to use an additional dataset `artist_alias.txt` which contains the ids of mispelled artists and standard artists. The schema of the dataset consists in:\n",
    "\n",
    "```\n",
    "mispelledID ID: long int\n",
    "standard ID: long int\n",
    "```"
   ]
  },
  {
   "cell_type": "markdown",
   "metadata": {},
   "source": [
    "#### Question 3.3\n",
    "Using SparkSQL API, load the dataset from `/datasets/lastfm/artist_alias.txt` then show 5 samples."
   ]
  },
  {
   "cell_type": "markdown",
   "metadata": {},
   "source": [
    "```python\n",
    "customSchemaArtistAlias = StructType([ \\\n",
    "    StructField( ... ), \\\n",
    "    StructField( ... )])\n",
    "\n",
    "artistAliasDF = sqlContext.read \\\n",
    "    ...\n",
    "    ...\n",
    "    ...\n",
    "\n",
    "artistAliasDF.show(5)\n",
    "```"
   ]
  },
  {
   "cell_type": "code",
   "execution_count": 96,
   "metadata": {
    "collapsed": false
   },
   "outputs": [
    {
     "name": "stdout",
     "output_type": "stream",
     "text": [
      "+-----------+--------+\n",
      "|mispelledID|standard|\n",
      "+-----------+--------+\n",
      "|    1092764| 1000311|\n",
      "|    1095122| 1000557|\n",
      "|    6708070| 1007267|\n",
      "|   10088054| 1042317|\n",
      "|    1195917| 1042317|\n",
      "+-----------+--------+\n",
      "only showing top 5 rows\n",
      "\n"
     ]
    }
   ],
   "source": [
    "customSchemaArtistAlias = StructType([ \\\n",
    "    StructField( \"mispelledID\", LongType(), True ), \\\n",
    "    StructField( \"standard\", LongType(), True )])\n",
    "\n",
    "artistAliasDF = sqlContext.read \\\n",
    "    .format('com.databricks.spark.csv') \\\n",
    "    .options(header='false', delimiter='\\t',mode='DROPMALFORMED') \\\n",
    "    .load(base + \"artist_alias.txt\",schema = customSchemaArtistAlias) \\\n",
    "    .cache()\n",
    "artistAliasDF.show(5)"
   ]
  },
  {
   "cell_type": "markdown",
   "metadata": {},
   "source": [
    "#### Question 3.4\n",
    "Verify the answer of question 3.2 (\"Are artists that have ID equal to `1000010` and `2082323` the same ?\") by finding the standard ids corresponding to the mispelled ids `1000010` and `2082323` respectively."
   ]
  },
  {
   "cell_type": "markdown",
   "metadata": {},
   "source": [
    "```python\n",
    "artistAliasDF[ ... ].show()\n",
    "artistAliasDF[ ... ].show()\n",
    "\n",
    "# 1000010 is a standard id, so it haven't been considered as mispelled id in the dataset\n",
    "```"
   ]
  },
  {
   "cell_type": "code",
   "execution_count": 97,
   "metadata": {
    "collapsed": false
   },
   "outputs": [
    {
     "name": "stdout",
     "output_type": "stream",
     "text": [
      "+-----------+--------+\n",
      "|mispelledID|standard|\n",
      "+-----------+--------+\n",
      "+-----------+--------+\n",
      "\n",
      "+-----------+--------+\n",
      "|mispelledID|standard|\n",
      "+-----------+--------+\n",
      "|    2082323| 1000010|\n",
      "+-----------+--------+\n",
      "\n"
     ]
    }
   ],
   "source": [
    "artistAliasDF[artistAliasDF.mispelledID==1000010].show()\n",
    "artistAliasDF[artistAliasDF.mispelledID==2082323].show()"
   ]
  },
  {
   "cell_type": "markdown",
   "metadata": {
    "collapsed": false
   },
   "source": [
    "As we can see, the two artists are the same but '01 Aerosmith' is a mispelled name of 'Aerosmith'.\n",
    "In the first table there is nothing because 1000010 is the 'official' ArtistID or the artist."
   ]
  },
  {
   "cell_type": "markdown",
   "metadata": {},
   "source": [
    "### Question 4\n",
    "\n",
    "The mispelled or nonstandard information about artist make our results in the previous queries a bit \"sloppy\". To overcome this problem, we can replace all mispelled artist ids by the corresponding standard ids and re-compute the basic descriptive statistics on the \"amended\" data.\n",
    "First, we construct a \"dictionary\" that maps non-standard ids to a standard ones. Then this \"dictionary\" will be used to replace the mispelled artists.\n",
    "\n",
    "#### Question 4.1\n",
    "From data in the dataframe loaded from `/datasets/lastfm/artist_alias.txt`, construct a dictionary that maps each non-standard id to its standard id.\n",
    "\n",
    "HINT: Instead of using function `collect`, we can use `collectAsMap` to convert the collected data to a dictionary inline."
   ]
  },
  {
   "cell_type": "markdown",
   "metadata": {},
   "source": [
    "```python\n",
    "artistAlias = artistAliasDF.rdd.map(lambda row: ( ... , ...)). ...\n",
    "```"
   ]
  },
  {
   "cell_type": "code",
   "execution_count": 98,
   "metadata": {
    "collapsed": true
   },
   "outputs": [],
   "source": [
    "artistAlias = artistAliasDF.rdd.map(lambda row: (row[0] , row[1])).collectAsMap()"
   ]
  },
  {
   "cell_type": "markdown",
   "metadata": {},
   "source": [
    "#### Question 4.2\n",
    "Using the constructed dictionary in question 4.1, replace the non-standard artist ids in the dataframe that was loaded from `/datasets/lastfm/user_artist_data.txt` by the corresponding standard ids then show 5 samples.\n",
    "\n",
    "**NOTE 1**: If an id doesn't exist in the dictionary as a mispelled id, it is really a standard id.\n",
    "\n",
    "\n",
    "Using funtion `map` on Spark Dataframe will give us an RDD. We can convert this RDD back to Dataframe by using `sqlContext.createDataFrame(rdd_name, sql_schema)`\n",
    "\n",
    "\n",
    "**NOTE 2**: be careful! you need to be able to verify that you indeed solved the problem of having bad artist IDs. In principle, for the new data to be correct, we should to have duplicate pairs (user, artist), potentially with different play counts, right? In answering the question, please **show** that you indeed fixed the problem. "
   ]
  },
  {
   "cell_type": "markdown",
   "metadata": {},
   "source": [
    "```python\n",
    "from time import time\n",
    "\n",
    "def replaceMispelledIDs(fields):\n",
    "    finalID = artistAlias.get(fields[1], fields[1])\n",
    "    return (fields[0], finalID, fields[2])\n",
    "\n",
    "t0 = time()\n",
    "\n",
    "newUserArtistDF = sqlContext.createDataFrame(\n",
    "    userArtistDF.rdd.map( ... ), \n",
    "    userArtistDataSchema\n",
    ")\n",
    "newUserArtistDF.show(5)\n",
    "\n",
    "t1 = time()\n",
    "\n",
    "print('The script takes %f seconds' %(t1-t0))\n",
    "```"
   ]
  },
  {
   "cell_type": "code",
   "execution_count": 99,
   "metadata": {
    "collapsed": false
   },
   "outputs": [
    {
     "name": "stdout",
     "output_type": "stream",
     "text": [
      "+-------+--------+---------+\n",
      "| userID|artistID|playCount|\n",
      "+-------+--------+---------+\n",
      "|1000002|       1|       55|\n",
      "|1000002| 1000006|       33|\n",
      "|1000002| 1000007|        8|\n",
      "|1000002| 1000009|      144|\n",
      "|1000002| 1000010|      314|\n",
      "+-------+--------+---------+\n",
      "only showing top 5 rows\n",
      "\n",
      "The mapping phase takes 1.059718 seconds\n",
      "before we had 1631028 artists\n",
      "after the cleaning we have 1568126 artists\n",
      "The distinct phase takes 46.668435 seconds\n"
     ]
    }
   ],
   "source": [
    "from time import time\n",
    "\n",
    "def replaceMispelledIDs(fields):\n",
    "    finalID = artistAlias.get(fields[1], fields[1])\n",
    "    return (fields[0], finalID, fields[2])\n",
    "\n",
    "t0 = time()\n",
    "#map artist_alias with artist \n",
    "newUserArtistDF = sqlContext.createDataFrame(\n",
    "    userArtistDF.rdd.map(replaceMispelledIDs ), \n",
    "    userArtistDataSchema\n",
    ")\n",
    "newUserArtistDF.show(5)\n",
    "t1 = time()\n",
    "print('The mapping phase takes %f seconds' %(t1-t0))\n",
    "newUserArtistDF.cache()\n",
    "t0 = time()\n",
    "print('before we had ' + str(userArtistDF.select('artistID').distinct().cache().count()) + ' artists')\n",
    "newUniqueArtistsDF = newUserArtistDF.select('artistID').distinct().cache()\n",
    "print('after the cleaning we have ' + str(newUniqueArtistsDF.count()) + ' artists')\n",
    "t1 = time()\n",
    "print('The distinct phase takes %f seconds' %(t1-t0))\n",
    "artistAliasDF_mispelled = artistAliasDF.select('mispelledID')\n"
   ]
  },
  {
   "cell_type": "markdown",
   "metadata": {},
   "source": [
    "As we can see, before the cleaning we had 1631028 artist, while after a first cleaning we have 1568126 artists. In addition, we have seen that the cleaning takes few time, while it takes a lot to do the distinct of the two tables.\n",
    "We also need to be careful because we mapped every artistID to the standard one, but now we have more entries per (userID,artistID)"
   ]
  },
  {
   "cell_type": "code",
   "execution_count": 100,
   "metadata": {
    "collapsed": false
   },
   "outputs": [
    {
     "name": "stdout",
     "output_type": "stream",
     "text": [
      "artist aliases after first clean are: 20\n",
      "+----------------------+\n",
      "|Artist Intersection ID|\n",
      "+----------------------+\n",
      "|               1206735|\n",
      "|               1001864|\n",
      "|               6603878|\n",
      "|                   754|\n",
      "|               1008798|\n",
      "|               6817660|\n",
      "|               1006322|\n",
      "|               1167860|\n",
      "|               1042639|\n",
      "|               1014100|\n",
      "|              10151717|\n",
      "|               1014175|\n",
      "|               1013851|\n",
      "|               1235697|\n",
      "|               1014609|\n",
      "|               1018110|\n",
      "|               1245218|\n",
      "|               1006347|\n",
      "|               1136715|\n",
      "|                    15|\n",
      "+----------------------+\n",
      "\n"
     ]
    }
   ],
   "source": [
    "Artist_intersectionDF = (\n",
    "    sqlContext\n",
    "    .createDataFrame(newUniqueArtistsDF.rdd.intersection(artistAliasDF_mispelled.rdd) ,['Artist Intersection ID'])\n",
    "    .cache()\n",
    ")\n",
    "\n",
    "print('artist aliases after first clean are: ' + str(Artist_intersectionDF.count()))\n",
    "Artist_intersectionDF.show()"
   ]
  },
  {
   "cell_type": "markdown",
   "metadata": {},
   "source": [
    "This looks ok, but we still have some aliases. We discovered this by doing an intersection of the artist column with the 'forbidden' alias column, and the result is not empty, this means that we need to clean our data again.\n",
    "\n",
    "The reason why alias artistIDs remain is that in the first run the mispelled artists are replaced with an id, which might still be invalid. \n",
    "This is because in the alias artist table we have a sort of chained pointer derefence. That means that we need many runs until we completely clean our data. \n",
    "We can do this by applying the same concept until the intersection is empty.\n",
    "In the following code we show an example of such chain of artist aliases"
   ]
  },
  {
   "cell_type": "code",
   "execution_count": 101,
   "metadata": {
    "collapsed": false
   },
   "outputs": [
    {
     "name": "stdout",
     "output_type": "stream",
     "text": [
      "As we can see, first ID found before in the intersection (1206735), is the standard ID associated to an alias (10215049)\n",
      "+-----------+--------+\n",
      "|mispelledID|standard|\n",
      "+-----------+--------+\n",
      "|   10215049| 1206735|\n",
      "+-----------+--------+\n",
      "\n",
      "Since the standard ID (1206735) appears in the intersection, it means that this is still an alias of another standard ID (1240689)\n",
      "+-----------+--------+\n",
      "|mispelledID|standard|\n",
      "+-----------+--------+\n",
      "|    1206735| 1240689|\n",
      "+-----------+--------+\n",
      "\n",
      "As we can see, the last standard ID found, is a real standard ID, this is because it is not an alias of anything\n",
      "+-----------+--------+\n",
      "|mispelledID|standard|\n",
      "+-----------+--------+\n",
      "+-----------+--------+\n",
      "\n",
      "Now, let's look at the names that match those artist ID\n",
      "+--------+------------+\n",
      "|artistID|        name|\n",
      "+--------+------------+\n",
      "|10215049|Chodios Bros|\n",
      "+--------+------------+\n",
      "\n",
      "+--------+------------+\n",
      "|artistID|        name|\n",
      "+--------+------------+\n",
      "| 1206735|chiodos bros|\n",
      "+--------+------------+\n",
      "\n",
      "+--------+----------------+\n",
      "|artistID|            name|\n",
      "+--------+----------------+\n",
      "| 1240689|The Chiodos Bros|\n",
      "+--------+----------------+\n",
      "\n",
      "In order to see if this is a recurrent problem, we did the intersection between the alias column and the standard column, and we have found 45 conflicts\n",
      "+----------------------+\n",
      "|Artist Intersection ID|\n",
      "+----------------------+\n",
      "|               1044091|\n",
      "|               1042639|\n",
      "|               1013851|\n",
      "|               1014609|\n",
      "|               1009175|\n",
      "|              10151717|\n",
      "|               2137055|\n",
      "|               1111535|\n",
      "|               6646349|\n",
      "|               1014175|\n",
      "|               1011293|\n",
      "|               1003219|\n",
      "|               1136715|\n",
      "|               1206735|\n",
      "|               1004143|\n",
      "|               1235697|\n",
      "|               1006347|\n",
      "|               2061299|\n",
      "|               1016035|\n",
      "|                    15|\n",
      "+----------------------+\n",
      "only showing top 20 rows\n",
      "\n"
     ]
    }
   ],
   "source": [
    "print('As we can see, first ID found before in the intersection (1206735), is the standard ID associated to an alias (10215049)')\n",
    "artistAliasDF[artistAliasDF.standard==1206735].show()\n",
    "print('Since the standard ID (1206735) appears in the intersection, it means that this is still an alias of another standard ID (1240689)')\n",
    "artistAliasDF[artistAliasDF.mispelledID==1206735].show()\n",
    "\n",
    "print('As we can see, the last standard ID found, is a real standard ID, this is because it is not an alias of anything')\n",
    "artistAliasDF[artistAliasDF.mispelledID==1240689].show()\n",
    "\n",
    "print('Now, let\\'s look at the names that match those artist ID')\n",
    "artistDF[artistDF.artistID==10215049].show()\n",
    "artistDF[artistDF.artistID==1206735].show()\n",
    "artistDF[artistDF.artistID==1240689].show()\n",
    "\n",
    "\n",
    "\n",
    "standard_alias_intersectionDF = (\n",
    "    sqlContext\n",
    "    .createDataFrame(artistAliasDF.select('standard').rdd.intersection(artistAliasDF_mispelled.rdd) ,['Artist Intersection ID'])\n",
    "    .cache()\n",
    ")\n",
    "\n",
    "print('In order to see if this is a recurrent problem, we did the intersection between the alias column and the standard column, and we have found ' + str(standard_alias_intersectionDF.count()) + ' conflicts')\n",
    "\n",
    "standard_alias_intersectionDF.show()"
   ]
  },
  {
   "cell_type": "code",
   "execution_count": 102,
   "metadata": {
    "collapsed": false
   },
   "outputs": [
    {
     "name": "stdout",
     "output_type": "stream",
     "text": [
      "before we had 1568126 artists\n",
      "after the cleaning we have 1568117 artists\n",
      "artist aliases after second clean are: 11\n",
      "+----------------------+\n",
      "|Artist Intersection ID|\n",
      "+----------------------+\n",
      "|               1001864|\n",
      "|                   754|\n",
      "|               1008798|\n",
      "|               1006322|\n",
      "|               1167860|\n",
      "|               1014175|\n",
      "|               1013851|\n",
      "|               1014609|\n",
      "|               1018110|\n",
      "|               1006347|\n",
      "|                    15|\n",
      "+----------------------+\n",
      "\n"
     ]
    }
   ],
   "source": [
    "#map artist_alias with artist \n",
    "newUserArtistDF_2 = sqlContext.createDataFrame(\n",
    "    newUserArtistDF.rdd.map(replaceMispelledIDs ), \n",
    "    userArtistDataSchema\n",
    ").cache()\n",
    "\n",
    "print('before we had ' + str(newUserArtistDF.select('artistID').distinct().cache().count()) + ' artists')\n",
    "newUniqueArtistsDF = newUserArtistDF_2.select('artistID').distinct().cache()\n",
    "print('after the cleaning we have ' + str(newUniqueArtistsDF.count()) + ' artists')\n",
    "\n",
    "Artist_intersectionDF = (\n",
    "    sqlContext\n",
    "    .createDataFrame(newUniqueArtistsDF.rdd.intersection(artistAliasDF_mispelled.rdd) ,['Artist Intersection ID'])\n",
    "    .cache()\n",
    ")\n",
    "\n",
    "print('artist aliases after second clean are: ' + str(Artist_intersectionDF.count()))\n",
    "Artist_intersectionDF.show()"
   ]
  },
  {
   "cell_type": "code",
   "execution_count": 103,
   "metadata": {
    "collapsed": false
   },
   "outputs": [
    {
     "name": "stdout",
     "output_type": "stream",
     "text": [
      "before we had 1568117 artists\n",
      "after the cleaning we have 1568117 artists\n",
      "artist aliases after third clean are: 11\n",
      "+----------------------+\n",
      "|Artist Intersection ID|\n",
      "+----------------------+\n",
      "|               1001864|\n",
      "|                   754|\n",
      "|               1008798|\n",
      "|               1006322|\n",
      "|               1167860|\n",
      "|               1014175|\n",
      "|               1013851|\n",
      "|               1014609|\n",
      "|               1018110|\n",
      "|               1006347|\n",
      "|                    15|\n",
      "+----------------------+\n",
      "\n"
     ]
    }
   ],
   "source": [
    "#map artist_alias with artist \n",
    "newUserArtistDF_3 = sqlContext.createDataFrame(\n",
    "    newUserArtistDF_2.rdd.map(replaceMispelledIDs ), \n",
    "    userArtistDataSchema\n",
    ").cache()\n",
    "\n",
    "print('before we had ' + str(newUserArtistDF_2.select('artistID').distinct().cache().count()) + ' artists')\n",
    "newUniqueArtistsDF = newUserArtistDF_3.select('artistID').distinct().cache()\n",
    "print('after the cleaning we have ' + str(newUniqueArtistsDF.count()) + ' artists')\n",
    "\n",
    "Artist_intersectionDF = (\n",
    "    sqlContext\n",
    "    .createDataFrame(newUniqueArtistsDF.rdd.intersection(artistAliasDF_mispelled.rdd) ,['Artist Intersection ID'])\n",
    "    .cache()\n",
    ")\n",
    "\n",
    "print('artist aliases after third clean are: ' + str(Artist_intersectionDF.count()))\n",
    "Artist_intersectionDF.show()"
   ]
  },
  {
   "cell_type": "markdown",
   "metadata": {},
   "source": [
    "As we can see, two cleaning steps are enough because the result after the third cleaning doesn't change. If more cleaning phases were required, we could loop untile the result does not change."
   ]
  },
  {
   "cell_type": "code",
   "execution_count": 104,
   "metadata": {
    "collapsed": false
   },
   "outputs": [
    {
     "name": "stdout",
     "output_type": "stream",
     "text": [
      "+-----------+--------+\n",
      "|mispelledID|standard|\n",
      "+-----------+--------+\n",
      "|         15|      15|\n",
      "+-----------+--------+\n",
      "\n",
      "+-----------+--------+---------------+\n",
      "|mispelledID|standard|           name|\n",
      "+-----------+--------+---------------+\n",
      "|    1008798| 1008798|          µ-Ziq|\n",
      "|    1013851| 1013851|       Värttinä|\n",
      "|    1167860| 1167860|    Herman Düne|\n",
      "|        754|     754|      Sigur Rós|\n",
      "|    1006322| 1006322|            múm|\n",
      "|    1006347| 1006347|          Dälek|\n",
      "|         15|      15|          Björk|\n",
      "|    1014609| 1014609|    Mötley Crüe|\n",
      "|    1018110| 1018110|Lars Winnerbäck|\n",
      "|    1014175| 1014175|  Señor Coconut|\n",
      "|    1001864| 1001864|       Röyksopp|\n",
      "+-----------+--------+---------------+\n",
      "\n"
     ]
    }
   ],
   "source": [
    "artistAliasDF[artistAliasDF.mispelledID==15].show()\n",
    "equalIDDF = artistAliasDF[artistAliasDF.mispelledID==artistAliasDF.standard].cache()\n",
    "(\n",
    "equalIDDF\n",
    ".join(artistDF, equalIDDF.mispelledID == artistDF.artistID, \"left_outer\")\n",
    ".drop('artistID')\n",
    ".show()\n",
    ")"
   ]
  },
  {
   "cell_type": "markdown",
   "metadata": {},
   "source": [
    "Here we can see that there are some artists that have the same misplelled and standard ID. Since they look legit names, we keep them. We have also noted that these artists are accomunated from the fact that in their name there are accented letters."
   ]
  },
  {
   "cell_type": "code",
   "execution_count": 105,
   "metadata": {
    "collapsed": false
   },
   "outputs": [
    {
     "name": "stdout",
     "output_type": "stream",
     "text": [
      "Before cleaning:\n",
      "+-------+--------+---------+\n",
      "| userID|artistID|playCount|\n",
      "+-------+--------+---------+\n",
      "|2064012|    4468|   439771|\n",
      "|1059637| 1002095|   433060|\n",
      "|1059637| 1026440|   155895|\n",
      "|2069889| 1002095|   101076|\n",
      "|2020513| 1007801|    88908|\n",
      "+-------+--------+---------+\n",
      "only showing top 5 rows\n",
      "\n",
      "After cleaning:\n",
      "+-------+--------+---------+\n",
      "| userID|artistID|playCount|\n",
      "+-------+--------+---------+\n",
      "|2064012|    4468|   439771|\n",
      "|1059637| 1002095|   433060|\n",
      "|1059637| 1026440|   155895|\n",
      "|2069889| 1002095|   101076|\n",
      "|2020513| 1007801|    89592|\n",
      "+-------+--------+---------+\n",
      "only showing top 5 rows\n",
      "\n"
     ]
    }
   ],
   "source": [
    "print('Before cleaning:')\n",
    "userArtistDF.orderBy('playCount', ascending=False).cache().show(5)\n",
    "\n",
    "print('After cleaning:')\n",
    "\n",
    "userArtist_cleanDF = (\n",
    "    newUserArtistDF_3\n",
    "    .groupBy(['userID','artistID'])\n",
    "    .sum('playCount')\n",
    "    .withColumnRenamed(\"sum(playCount)\", \"playCount\")\n",
    "    .orderBy('playCount', ascending=False)\n",
    "    .cache()\n",
    "\n",
    ")\n",
    "userArtist_cleanDF.show(5)\n"
   ]
  },
  {
   "cell_type": "markdown",
   "metadata": {},
   "source": [
    "As we can see, simply looking at the top 5 user, there is a difference in the playcount of the fifth user. Thus we can say that the cleaning has an effect on the playcounts, even if it's not that big."
   ]
  },
  {
   "cell_type": "markdown",
   "metadata": {},
   "source": [
    "#### Question 4.3\n",
    "Spark actions are executed through a set of stages, separated by distributed \"shuffle\" operations. Spark can be instructed to **automatically and efficiently** broadcast common data needed by tasks within **each stage**. The data broadcasted this way is cached in **serialized form** and deserialized before running each task. \n",
    "\n",
    "We can thus improve our answer to question 4.2: we can reduce the communication cost by shipping the \"dictionary\" in a more efficient way by using `broadcast variable`. Broadcast variables allow the programmer to keep a read-only variable cached on **each machine** rather than shipping a copy of it with tasks. They are cached in deserialized form. They can be used, for example, to give every node a copy of a large input dataset in an efficient manner. \n",
    "\n",
    "The broadcast of variable `v` can be created by `bV = sc.broadcast(v)`. Then value of this broadcast variable can be access via `bV.value`\n",
    "\n",
    "To question is then: using a broadcast variable, modify the script in question 4.2 to get better performance in terms of running time.\n"
   ]
  },
  {
   "cell_type": "markdown",
   "metadata": {},
   "source": [
    "```python\n",
    "from time import time\n",
    "\n",
    "bArtistAlias = sc.broadcast(artistAlias)\n",
    "\n",
    "def replaceMispelledIDs(fields):\n",
    "    finalID = bArtistAlias.value.get(... , ...)\n",
    "    return (... , ..., ...)\n",
    "\n",
    "t0 = time()\n",
    "\n",
    "newUserArtistDF = sqlContext.createDataFrame(\n",
    "    userArtistDF.rdd.map(replaceMispelledIDs), \n",
    "    userArtistDataSchema\n",
    ")\n",
    "newUserArtistDF.show(5)\n",
    "t1 = time()\n",
    "\n",
    "print('The script takes %f seconds' %(t1-t0))\n",
    "newUserArtistDF = newUserArtistDF.cache()\n",
    "```"
   ]
  },
  {
   "cell_type": "code",
   "execution_count": 106,
   "metadata": {
    "collapsed": false
   },
   "outputs": [
    {
     "name": "stdout",
     "output_type": "stream",
     "text": [
      "The script takes 0.020072 seconds\n"
     ]
    }
   ],
   "source": [
    "from time import time\n",
    "\n",
    "bArtistAlias = sc.broadcast(artistAlias)\n",
    "\n",
    "def replaceMispelledIDs(fields):\n",
    "    finalID = bArtistAlias.value.get(fields[1], fields[1])\n",
    "    return (fields[0], finalID, fields[2])\n",
    "\n",
    "t0 = time()\n",
    "\n",
    "newUserArtistDF = sqlContext.createDataFrame(\n",
    "    userArtistDF.rdd.map(replaceMispelledIDs ),#if row.artistID in artistAliasDF[0].collect()[0].'misppelledID' ), \n",
    "    userArtistDataSchema\n",
    ")\n",
    "\n",
    "t1 = time()\n",
    "print('The script takes %f seconds' %(t1-t0))"
   ]
  },
  {
   "cell_type": "markdown",
   "metadata": {},
   "source": [
    "As we can see, explicitly creating broadcast variables save us some time (1 second)"
   ]
  },
  {
   "cell_type": "markdown",
   "metadata": {},
   "source": [
    "Although having some advantages, explicitly creating broadcast variables is only useful when tasks across multiple stages need the same data or when caching the data in deserialized form is important."
   ]
  },
  {
   "cell_type": "markdown",
   "metadata": {},
   "source": [
    "### Question 5\n",
    "\n",
    "Well, our data frame contains clean and \"standard\" data. We can use it to redo previous statistic queries.\n",
    "\n",
    "#### Question 5.1\n",
    "\n",
    "How many unique artists? Compare with the result when using old data."
   ]
  },
  {
   "cell_type": "markdown",
   "metadata": {},
   "source": [
    "```python\n",
    "uniqueArtists = newUserArtistDF. ...\n",
    "\n",
    "print(\"Total n. of artists: \", uniqueArtists)\n",
    "```"
   ]
  },
  {
   "cell_type": "code",
   "execution_count": 107,
   "metadata": {
    "collapsed": false
   },
   "outputs": [
    {
     "name": "stdout",
     "output_type": "stream",
     "text": [
      "Total n. of artists before cleaning: 1631028\n",
      "Total n. of artists after cleaning: 1568117\n",
      "Total n. of artists cleaned: 62911\n",
      "3.86% were misspelled\n"
     ]
    }
   ],
   "source": [
    "newUniqueArtistsDF = userArtist_cleanDF.select('artistID').distinct().cache()\n",
    "print(\"Total n. of artists before cleaning: \"+str(uniqueArtists.count()))\n",
    "print(\"Total n. of artists after cleaning: \"+str(newUniqueArtistsDF.count()))\n",
    "print(\"Total n. of artists cleaned: \"+str( uniqueArtists.count() - newUniqueArtistsDF.count()))\n",
    "difference = (uniqueArtists.count() - newUniqueArtistsDF.count())/uniqueArtists.count()\n",
    "print(str( '{0:.2f}'.format(difference*100 )) + '% were misspelled')"
   ]
  },
  {
   "cell_type": "markdown",
   "metadata": {},
   "source": [
    "#### Question 5.2\n",
    "\n",
    "Who are the top-10 artistis?\n",
    "  * In terms of absolute play counts\n",
    "  * In terms of \"audience size\", that is, how many users listened to one of their track at least once\n",
    "  \n",
    "Plot the results, and explain the figures you obtain."
   ]
  },
  {
   "cell_type": "markdown",
   "metadata": {},
   "source": [
    "```python\n",
    "# calculate top-10 artists in term of play counts\n",
    "top10ArtistsPC = newUserArtistDF.groupBy( ... ).sum( ... ).orderBy('sum(playCount)', ascending=0).take(10)\n",
    "\n",
    "y_pos = range(len(top10ArtistsPC))\n",
    "pdf = pd.DataFrame(data=top10ArtistsPC)\n",
    "\n",
    "plt.barh(y_pos, pdf[1][::-1], align='center', alpha=0.4)\n",
    "plt.yticks(y_pos, pdf[0][::-1])\n",
    "plt.xlabel('Play Count')\n",
    "plt.ylabel('Artist')\n",
    "plt.title('Top-10 Artist ID per play counts')\n",
    "plt.show()\n",
    "```"
   ]
  },
  {
   "cell_type": "code",
   "execution_count": 108,
   "metadata": {
    "collapsed": false
   },
   "outputs": [
    {
     "name": "stdout",
     "output_type": "stream",
     "text": [
      "Before cleaning:\n",
      "+--------+----------------+--------------+\n",
      "|artistID|            name|sum(playCount)|\n",
      "+--------+----------------+--------------+\n",
      "|     979|       Radiohead|       2502130|\n",
      "| 1000113|     The Beatles|       2259185|\n",
      "|    4267|       Green Day|       1930592|\n",
      "| 1000024|       Metallica|       1542806|\n",
      "|    4468|System of a Down|       1425942|\n",
      "|      82|      Pink Floyd|       1399418|\n",
      "|     831| Nine Inch Nails|       1361392|\n",
      "| 1001779|    Modest Mouse|       1328869|\n",
      "| 1000130|     Bright Eyes|       1234387|\n",
      "|     976|         Nirvana|       1203226|\n",
      "+--------+----------------+--------------+\n",
      "only showing top 10 rows\n",
      "\n",
      "After cleaning:\n",
      "+--------+----------------+--------------+\n",
      "|artistID|            name|sum(playCount)|\n",
      "+--------+----------------+--------------+\n",
      "|     979|       Radiohead|       2502596|\n",
      "| 1000113|     The Beatles|       2259825|\n",
      "|    4267|       Green Day|       1931143|\n",
      "| 1000024|       Metallica|       1543430|\n",
      "|    4468|System of a Down|       1426254|\n",
      "|      82|      Pink Floyd|       1399665|\n",
      "|     831| Nine Inch Nails|       1361977|\n",
      "| 1001779|    Modest Mouse|       1328969|\n",
      "| 1000130|     Bright Eyes|       1234773|\n",
      "|     976|         Nirvana|       1203348|\n",
      "+--------+----------------+--------------+\n",
      "only showing top 10 rows\n",
      "\n"
     ]
    },
    {
     "data": {
      "image/png": "[encoded data removed]",
      "text/plain": [
       "<matplotlib.figure.Figure at 0x7f6457dd6828>"
      ]
     },
     "metadata": {},
     "output_type": "display_data"
    }
   ],
   "source": [
    "# calculate top-10 artists in term of play counts\n",
    "print('Before cleaning:')\n",
    "ArtistPC_dirty = ( \n",
    "    userArtistDF\n",
    "    .groupBy('artistID')\n",
    "    .sum('playCount')\n",
    "    .join(artistDF, userArtistDF.artistID == artistDF.artistID, \"left_outer\")\n",
    "    .drop(artistDF.artistID)\n",
    "    .orderBy('sum(playCount)', ascending=0)\n",
    "    .select('artistID','name','sum(playCount)')\n",
    "    .cache()\n",
    ")\n",
    "ArtistPC_dirty.show(10)\n",
    "\n",
    "print('After cleaning:')\n",
    "ArtistsPC_clean = ( \n",
    "    userArtist_cleanDF\n",
    "    .groupBy('artistID')\n",
    "    .sum('playCount')\n",
    "    .join(artistDF, userArtist_cleanDF.artistID == artistDF.artistID, \"left_outer\")\n",
    "    .drop(artistDF.artistID)\n",
    "    .orderBy('sum(playCount)', ascending=0)\n",
    "    .select('artistID','name','sum(playCount)')\n",
    "    .cache()\n",
    ")\n",
    "ArtistsPC_clean.show(10)\n",
    "\n",
    "top10ArtistsPC = ArtistsPC_clean.take(10)\n",
    "\n",
    "#plot\n",
    "\n",
    "y_pos = range(len(top10ArtistsPC))\n",
    "x_val = [w[2] for w in top10ArtistsPC]\n",
    "y_val = [w[1] for w in top10ArtistsPC]\n",
    "\n",
    "plt.figure(figsize=(15,7))\n",
    "plt.barh(y_pos, x_val[::-1], align='center', alpha=0.5, color='orange')\n",
    "plt.yticks(y_pos, y_val[::-1])\n",
    "plt.xlabel('Play Count')\n",
    "plt.ylabel('Artist')\n",
    "plt.title('Top-10 Artist ID per play counts')\n",
    "plt.show()\n",
    "\n"
   ]
  },
  {
   "cell_type": "markdown",
   "metadata": {},
   "source": [
    "We have noted that the cleaning has not a significant impact on the ranking, in fact the top 10 is the same before and after the cleaning. In any case, the playcounts values are affected in a limited way. \n"
   ]
  },
  {
   "cell_type": "code",
   "execution_count": 109,
   "metadata": {
    "collapsed": false
   },
   "outputs": [
    {
     "name": "stdout",
     "output_type": "stream",
     "text": [
      "Before cleaning:\n",
      "+--------+--------------------+-------------+\n",
      "|artistID|                name|audience_size|\n",
      "+--------+--------------------+-------------+\n",
      "|     979|           Radiohead|        45628|\n",
      "|    4267|           Green Day|        43879|\n",
      "| 1000113|         The Beatles|        40899|\n",
      "|    1177|            Coldplay|        38489|\n",
      "|     976|             Nirvana|        36823|\n",
      "|    1274|Red Hot Chili Pep...|        36033|\n",
      "|    1205|                  U2|        34841|\n",
      "| 1000024|           Metallica|        32327|\n",
      "|    3327|              Weezer|        31950|\n",
      "| 1231740|     Franz Ferdinand|        30687|\n",
      "+--------+--------------------+-------------+\n",
      "only showing top 10 rows\n",
      "\n",
      "After cleaning:\n",
      "+--------+--------------------+-------------+\n",
      "|artistID|                name|audience_size|\n",
      "+--------+--------------------+-------------+\n",
      "|     979|           Radiohead|        45630|\n",
      "|    4267|           Green Day|        43883|\n",
      "| 1000113|         The Beatles|        40919|\n",
      "|    1177|            Coldplay|        38497|\n",
      "|     976|             Nirvana|        36823|\n",
      "|    1274|Red Hot Chili Pep...|        36036|\n",
      "|    1205|                  U2|        34853|\n",
      "| 1000024|           Metallica|        32337|\n",
      "|    3327|              Weezer|        31951|\n",
      "| 1034635|           [unknown]|        31324|\n",
      "+--------+--------------------+-------------+\n",
      "only showing top 10 rows\n",
      "\n"
     ]
    },
    {
     "data": {
      "image/png": "[encoded data removed]",
      "text/plain": [
       "<matplotlib.figure.Figure at 0x7f645b882c88>"
      ]
     },
     "metadata": {},
     "output_type": "display_data"
    }
   ],
   "source": [
    "# calculate top-10 artists in term of \"audience size\"\n",
    "print('Before cleaning:')\n",
    "ArtistAS_dirty = ( \n",
    "    userArtistDF\n",
    "    .drop('playcount')\n",
    "    .groupBy('artistID')\n",
    "    .count()\n",
    "    .join(artistDF, userArtistDF.artistID == artistDF.artistID, \"left_outer\")\n",
    "    .drop(artistDF.artistID)\n",
    "    .orderBy('count', ascending=0)\n",
    "    .select('artistID','name','count')\n",
    "    .withColumnRenamed(\"count\", \"audience_size\")\n",
    "    .cache()\n",
    ")\n",
    "ArtistAS_dirty.show(10)\n",
    "\n",
    "\n",
    "\n",
    "print('After cleaning:')\n",
    "ArtistsAS_clean = ( \n",
    "    userArtist_cleanDF\n",
    "    .drop('playcount')\n",
    "    .groupBy('artistID')\n",
    "    .count()\n",
    "    .join(artistDF, userArtist_cleanDF.artistID == artistDF.artistID, \"left_outer\")\n",
    "    .drop(artistDF.artistID)\n",
    "    .orderBy('count', ascending=0)\n",
    "    .select('artistID','name','count')\n",
    "    .withColumnRenamed(\"count\", \"audience_size\")\n",
    "    .cache()\n",
    ")\n",
    "ArtistsAS_clean.show(10)\n",
    "\n",
    "top10ArtistsAS = ArtistsAS_clean.take(10)\n",
    "#print(top10ArtistsPC)\n",
    "\n",
    "y_pos = range(len(top10ArtistsAS))\n",
    "\n",
    "x_val = [w[2] for w in top10ArtistsAS]\n",
    "y_val = [w[1] for w in top10ArtistsAS]\n",
    "\n",
    "plt.figure(figsize=(15,7))\n",
    "plt.barh(y_pos, x_val[::-1], align='center', alpha=0.5, color='orange')\n",
    "plt.yticks(y_pos, y_val[::-1])\n",
    "plt.xlabel('Play Count')\n",
    "plt.ylabel('Artist')\n",
    "plt.title('Top-10 Artist ID per audience')\n",
    "plt.show()\n",
    "\n",
    "\n",
    "\n"
   ]
  },
  {
   "cell_type": "markdown",
   "metadata": {},
   "source": [
    "In this case cleaning has a significant impact on the ranking. The real artists in the top 10 are the same, but after the cleaning we have a new 'unknown' artist with an audience of 31324. We believe that this is the result of the clenaing phase, where some misspelled artists, or songs, have been remapped to this 'unknown' artist. We think that we should not consider this artist during the recommendation phase."
   ]
  },
  {
   "cell_type": "code",
   "execution_count": 110,
   "metadata": {
    "collapsed": false
   },
   "outputs": [
    {
     "name": "stdout",
     "output_type": "stream",
     "text": [
      "+--------+--------------------+-------------+\n",
      "|artistID|                name|audience_size|\n",
      "+--------+--------------------+-------------+\n",
      "|     979|           Radiohead|        45630|\n",
      "|    4267|           Green Day|        43883|\n",
      "| 1000113|         The Beatles|        40919|\n",
      "|    1177|            Coldplay|        38497|\n",
      "|     976|             Nirvana|        36823|\n",
      "|    1274|Red Hot Chili Pep...|        36036|\n",
      "|    1205|                  U2|        34853|\n",
      "| 1000024|           Metallica|        32337|\n",
      "|    3327|              Weezer|        31951|\n",
      "| 1034635|           [unknown]|        31324|\n",
      "| 1231740|     Franz Ferdinand|        30692|\n",
      "|      82|          Pink Floyd|        30661|\n",
      "| 1270639|         The Killers|        30214|\n",
      "|    1307|   The White Stripes|        29804|\n",
      "|     189|            The Cure|        29161|\n",
      "|     352|                Beck|        29153|\n",
      "|    1394|        Led Zeppelin|        29117|\n",
      "|     930|              Eminem|        28974|\n",
      "| 1275996|              R.E.M.|        28885|\n",
      "|    1270|               Queen|        28457|\n",
      "+--------+--------------------+-------------+\n",
      "only showing top 20 rows\n",
      "\n"
     ]
    }
   ],
   "source": [
    "ArtistsAS_clean.show()"
   ]
  },
  {
   "cell_type": "code",
   "execution_count": 111,
   "metadata": {
    "collapsed": false
   },
   "outputs": [
    {
     "name": "stdout",
     "output_type": "stream",
     "text": [
      "Percentiles:\n",
      "0.00        1\n",
      "0.10        1\n",
      "0.20        1\n",
      "0.25        1\n",
      "0.30        1\n",
      "0.40        1\n",
      "0.50        1\n",
      "0.60        1\n",
      "0.70        2\n",
      "0.75        2\n",
      "0.80        3\n",
      "0.90        8\n",
      "0.95       19\n",
      "0.99      158\n",
      "1.00    45630\n",
      "Name: 1, dtype: float64\n"
     ]
    },
    {
     "data": {
      "image/png": "[encoded data removed]",
      "text/plain": [
       "<matplotlib.figure.Figure at 0x7f645b0f2470>"
      ]
     },
     "metadata": {},
     "output_type": "display_data"
    }
   ],
   "source": [
    "artistAudience = ArtistsAS_clean.drop('name').collect()\n",
    "\n",
    "pdf = pd.DataFrame(data=artistAudience)\n",
    "Y=np.sort(pdf[1])\n",
    "yvals=np.arange(len(Y))/float(len(Y))\n",
    "print('Percentiles:')\n",
    "print(pdf.quantile([.0,.1,.2,.25,.3,.4,.5,.6,.7,.75,.8,.9,.95,.99,1.0])[1])\n",
    "\n",
    "plt.figure(figsize=(15,7))\n",
    "plt.subplot(121)\n",
    "plt.plot( Y, yvals )\n",
    "plt.xlabel('Audience')\n",
    "plt.ylabel('ECDF')\n",
    "plt.grid(True,which=\"both\",ls=\"-\")\n",
    "plt.title('ECDF of audience per ArtistID')\n",
    "\n",
    "plt.subplot(122)\n",
    "plt.semilogx( Y, yvals )\n",
    "plt.xlabel('Audience')\n",
    "plt.ylabel('ECDF')\n",
    "plt.grid(True,which=\"both\",ls=\"-\")\n",
    "plt.title('ECDF of audience per ArtistID')\n",
    "plt.show()"
   ]
  },
  {
   "cell_type": "markdown",
   "metadata": {},
   "source": [
    "From the graph on the left we can only state that the audience distribution is very unbalanced. From the graph on the right it's a bit more clear the general distribution. With the help of the percentiles showed in table, we can see that 60% of the artists have one user audience. On the other hand, only 1% of the artists have more than 158 fans. This result is similar to the one that we obtained plotting the ECDF of playcounts per artist, but this actually is even more meaningful. We think that this is the proof that also after the cleaning, a great part of our dataset is dirty."
   ]
  },
  {
   "cell_type": "code",
   "execution_count": 112,
   "metadata": {
    "collapsed": false
   },
   "outputs": [
    {
     "name": "stdout",
     "output_type": "stream",
     "text": [
      "+--------+--------------------------------------------------+-------------+\n",
      "|artistID|name                                              |audience_size|\n",
      "+--------+--------------------------------------------------+-------------+\n",
      "|1021907 |Pqm and Dj Dome Pass mix                          |1            |\n",
      "|1010983 |scarlet begonias                                  |1            |\n",
      "|1020867 |Joe Zawinul The Zawinul Syndicate                 |1            |\n",
      "|1006980 |Jeff Johnson Prayers of St. Brendan Shall I(Axioms|1            |\n",
      "|1010843 |You Fuckin' Die                                   |1            |\n",
      "|1016605 |Kekke Kulcha and Spoonhead                        |1            |\n",
      "|1020320 |DIZZY GILLESPIE In South America Vol1 1956        |1            |\n",
      "|2895    |Dax Raiders                                       |1            |\n",
      "|1006707 |Rasa Devotion Jiv Jago (Axioms                    |1            |\n",
      "|1010110 |Ragged Sharp                                      |1            |\n",
      "|1010182 |Khaled and Faudel                                 |1            |\n",
      "|1014594 |5.14                                              |1            |\n",
      "|1015544 |04. The White Spirit                              |1            |\n",
      "|1018035 |allroy plain                                      |1            |\n",
      "|1020104 |Thomas Krome and Jesper Dahlbäck                  |1            |\n",
      "|1840    |Jah Wobble/Invaders Of The Heart                  |1            |\n",
      "|2173    |Uske Orchestra                                    |1            |\n",
      "|1002187 |The Remnantz                                      |1            |\n",
      "|1005298 |Dragnet  08/18/1949                               |1            |\n",
      "|1008479 |tonyb                                             |1            |\n",
      "+--------+--------------------------------------------------+-------------+\n",
      "only showing top 20 rows\n",
      "\n"
     ]
    }
   ],
   "source": [
    "ArtistsAS_clean.orderBy('audience_size').show(20, truncate=False)"
   ]
  },
  {
   "cell_type": "markdown",
   "metadata": {},
   "source": [
    "Looking at the artists with the lowest audience, we note that many of them are actually songs, dirty data and mispelled artists"
   ]
  },
  {
   "cell_type": "code",
   "execution_count": 113,
   "metadata": {
    "collapsed": false
   },
   "outputs": [
    {
     "name": "stdout",
     "output_type": "stream",
     "text": [
      "+--------+-----------+-------------+\n",
      "|artistID|       name|audience_size|\n",
      "+--------+-----------+-------------+\n",
      "| 1093985|Labi Saffre|            1|\n",
      "+--------+-----------+-------------+\n",
      "\n",
      "+--------+-----------+-------------+\n",
      "|artistID|       name|audience_size|\n",
      "+--------+-----------+-------------+\n",
      "| 1008800|Labi Siffre|          456|\n",
      "+--------+-----------+-------------+\n",
      "\n"
     ]
    }
   ],
   "source": [
    "ArtistsAS_clean.filter(ArtistsAS_clean.artistID == 1093985).show()\n",
    "ArtistsAS_clean.filter(ArtistsAS_clean.name == 'Labi Siffre').show()"
   ]
  },
  {
   "cell_type": "markdown",
   "metadata": {},
   "source": [
    "Looking at a specific artist: Labi Saffre, we checked that it's actually the mispelled version of Labi Siffre, which has a much higher audience. In order to fix this we should come up with an algorithm that can match artists with similar name."
   ]
  },
  {
   "cell_type": "code",
   "execution_count": 114,
   "metadata": {
    "collapsed": false
   },
   "outputs": [
    {
     "name": "stdout",
     "output_type": "stream",
     "text": [
      "955 artists are mapped to unknown\n",
      "+-----------+--------+--------------------+\n",
      "|mispelledID|standard|                name|\n",
      "+-----------+--------+--------------------+\n",
      "|    1271879| 1034635|                KPBS|\n",
      "|    1345898| 1034635|Nieuwe artiest (199)|\n",
      "|    2163801| 1034635|some japanese singer|\n",
      "|    6689660| 1034635|                  ><|\n",
      "|    1087215| 1034635|              RMF FM|\n",
      "|    2052313| 1034635|              01  CD|\n",
      "|    9906368| 1034635|    New Artist (481)|\n",
      "|    6606623| 1034635|  ������������������|\n",
      "|    6675539| 1034635|           Untittled|\n",
      "|    1320926| 1034635|www.dancefloor.sp...|\n",
      "|    1346606| 1034635|SORRY, SIREN no l...|\n",
      "|    6798165| 1034635|             unknwon|\n",
      "|    1309926| 1034635|     New Artist (20)|\n",
      "|    6630129| 1034635|         Male singer|\n",
      "|   10025808| 1034635|            asdfadsf|\n",
      "|    1004048| 1034635|              Winamp|\n",
      "|    1028485| 1034635|   D I G I T A L L Y|\n",
      "|    1246861| 1034635|[Buffer: 88%] D I...|\n",
      "|    1333381| 1034635| Nieuwe artiest (39)|\n",
      "|    2167125| 1034635|      AudioScrobbler|\n",
      "+-----------+--------+--------------------+\n",
      "only showing top 20 rows\n",
      "\n"
     ]
    }
   ],
   "source": [
    "artist_unknownDF = artistAliasDF[artistAliasDF.standard == 1034635].cache()\n",
    "print(str(artist_unknownDF.count()) + ' artists are mapped to unknown')\n",
    "\n",
    "(\n",
    "artist_unknownDF\n",
    ".join(artistDF, artist_unknownDF.mispelledID == artistDF.artistID, \"left_outer\")\n",
    ".drop('artistID')\n",
    ".show(20)\n",
    ")"
   ]
  },
  {
   "cell_type": "markdown",
   "metadata": {},
   "source": [
    "As we can see, artists that are mapped to unknown are actually songs or unknown artists. Later we will remove them."
   ]
  },
  {
   "cell_type": "code",
   "execution_count": 115,
   "metadata": {
    "collapsed": false
   },
   "outputs": [
    {
     "data": {
      "image/png": "[encoded data removed]",
      "text/plain": [
       "<matplotlib.figure.Figure at 0x7f6446563438>"
      ]
     },
     "metadata": {},
     "output_type": "display_data"
    }
   ],
   "source": [
    "plt.figure(figsize=(15,7))\n",
    "\n",
    "y_pos = range(len(top10ArtistsPC))\n",
    "x_val = [w[2] for w in top10ArtistsPC]\n",
    "y_val = [w[1] for w in top10ArtistsPC]\n",
    "plt.subplot(121)\n",
    "\n",
    "plt.barh(y_pos, x_val[::-1], align='center', alpha=0.5, color='orange')\n",
    "plt.yticks(y_pos, y_val[::-1])\n",
    "plt.xlabel('Play Count')\n",
    "plt.ylabel('Artist')\n",
    "plt.title('Top-10 Artist ID per play counts')\n",
    "\n",
    "plt.subplot(122)\n",
    "y_pos = range(len(top10ArtistsAS))\n",
    "x_val = [w[2] for w in top10ArtistsAS]\n",
    "y_val = [w[1] for w in top10ArtistsAS]\n",
    "\n",
    "plt.barh(y_pos, x_val[::-1], align='center', alpha=0.5, color='orange')\n",
    "plt.yticks(y_pos, y_val[::-1])\n",
    "plt.xlabel('Play Count')\n",
    "plt.ylabel('Artist')\n",
    "plt.title('Top-10 Artist ID per audience')\n",
    "plt.show()"
   ]
  },
  {
   "cell_type": "markdown",
   "metadata": {},
   "source": [
    "When we compare the top 10 per playcount and per audience size, we see that being listened many times and being famous are not always correlated. \n",
    "\n",
    "One of the exceptions are the Radiohead, which are in the first position in both the rankings, the same is true for The Beatles and the Metallica.\n",
    "\n",
    "There is a clear reason that explains why the unknown is present in the audience ranking and not in the playcount ranking: as seen before, many songs and unknown artists are mapped to 'unknown', this means that we are summing the audience of many different artists which are not related."
   ]
  },
  {
   "cell_type": "code",
   "execution_count": 116,
   "metadata": {
    "collapsed": false
   },
   "outputs": [],
   "source": [
    "artist_play_aud = (\n",
    "ArtistsAS_clean\n",
    ".join(ArtistsPC_clean, ArtistsAS_clean.artistID == ArtistsPC_clean.artistID, \"left_outer\")\n",
    ".drop('artistID')\n",
    ".drop('name')\n",
    ".collect()\n",
    ")\n",
    "\n",
    "audience = [w[0] for w in artist_play_aud]\n",
    "playcount = [w[1] for w in artist_play_aud]"
   ]
  },
  {
   "cell_type": "code",
   "execution_count": 117,
   "metadata": {
    "collapsed": false
   },
   "outputs": [
    {
     "name": "stderr",
     "output_type": "stream",
     "text": [
      "/opt/conda/lib/python3.5/site-packages/matplotlib/collections.py:590: FutureWarning: elementwise comparison failed; returning scalar instead, but in the future will perform elementwise comparison\n",
      "  if self._edgecolors == str('face'):\n"
     ]
    },
    {
     "data": {
      "image/png": "[encoded data removed]",
      "text/plain": [
       "<matplotlib.figure.Figure at 0x7f64463c79b0>"
      ]
     },
     "metadata": {},
     "output_type": "display_data"
    }
   ],
   "source": [
    "plt.figure(figsize=(15,10))\n",
    "\n",
    "plt.scatter(audience, playcount)\n",
    "plt.xlabel('Audience')\n",
    "plt.ylabel('Playcount')\n",
    "plt.grid(True,which=\"both\",ls=\"-\")\n",
    "plt.title('Artist distribution in the curiosity-playcount space', fontsize=20)\n",
    "\n",
    "plt.show()"
   ]
  },
  {
   "cell_type": "markdown",
   "metadata": {},
   "source": [
    "From this plot we can see that artists with higher playcounts also have a larger audience. This was not completely visible comparing only the top 10 artists as we did before. This result is plausible because usually an artist with a large audience also has many playcounts."
   ]
  },
  {
   "cell_type": "markdown",
   "metadata": {},
   "source": [
    "#### Question 5.3\n",
    "\n",
    "Who are the top-10 users?\n",
    "  * In terms of absolute play counts\n",
    "  * In terms of \"curiosity\", that is, how many different artists they listened to\n",
    "\n",
    "Plot the results"
   ]
  },
  {
   "cell_type": "markdown",
   "metadata": {},
   "source": [
    "```python\n",
    "# calculate top 10 users interm of play counts\n",
    "top10UsersByPlayCount = newUserArtistDF. ...\n",
    "\n",
    "y_pos = range(len(top10UsersByPlayCount))\n",
    "pdf = pd.DataFrame(data=top10UsersByPlayCount)\n",
    "\n",
    "plt.barh(y_pos, pdf[1][::-1], align='center', alpha=0.4)\n",
    "plt.yticks(y_pos, pdf[0][::-1])\n",
    "plt.xlabel('Play Count')\n",
    "plt.ylabel('User')\n",
    "plt.title('Top-10 Users ID per play counts')\n",
    "plt.show()\n",
    "```"
   ]
  },
  {
   "cell_type": "code",
   "execution_count": 195,
   "metadata": {
    "collapsed": false
   },
   "outputs": [
    {
     "name": "stdout",
     "output_type": "stream",
     "text": [
      "Before cleaning:\n",
      "+-------+--------------+\n",
      "| userID|sum(playCount)|\n",
      "+-------+--------------+\n",
      "|1059637|        674412|\n",
      "|2064012|        548427|\n",
      "|2069337|        393515|\n",
      "|2023977|        285978|\n",
      "|1046559|        183972|\n",
      "|1052461|        175822|\n",
      "|1070932|        168977|\n",
      "|1031009|        167273|\n",
      "|2020513|        165642|\n",
      "|2062243|        151504|\n",
      "+-------+--------------+\n",
      "only showing top 10 rows\n",
      "\n",
      "After cleaning:\n",
      "+-------+--------------+\n",
      "| userID|sum(playCount)|\n",
      "+-------+--------------+\n",
      "|1059637|        674412|\n",
      "|2064012|        548427|\n",
      "|2069337|        393515|\n",
      "|2023977|        285978|\n",
      "|1046559|        183972|\n",
      "|1052461|        175822|\n",
      "|1070932|        168977|\n",
      "|1031009|        167273|\n",
      "|2020513|        165642|\n",
      "|2062243|        151504|\n",
      "+-------+--------------+\n",
      "only showing top 10 rows\n",
      "\n"
     ]
    },
    {
     "data": {
      "image/png": "[encoded data removed]",
      "text/plain": [
       "<matplotlib.figure.Figure at 0x7f6457d485c0>"
      ]
     },
     "metadata": {},
     "output_type": "display_data"
    }
   ],
   "source": [
    "# calculate top-10 artists in term of play counts\n",
    "print('Before cleaning:')\n",
    "UsersPC_dirty = ( \n",
    "    userArtistDF\n",
    "    .groupBy('userID')\n",
    "    .sum('playCount')\n",
    "    .orderBy('sum(playCount)', ascending=0)\n",
    "    .cache()\n",
    ")\n",
    "UsersPC_dirty.show(10)\n",
    "\n",
    "print('After cleaning:')\n",
    "UsersPC_clean = ( \n",
    "    userArtist_cleanDF\n",
    "    .groupBy('userID')\n",
    "    .sum('playCount')\n",
    "    .orderBy('sum(playCount)', ascending=0)\n",
    "    .cache()\n",
    ")\n",
    "UsersPC_clean.show(10)\n",
    "\n",
    "top10UsersPC = UsersPC_clean.take(10)\n",
    "#print(top10ArtistsPC)\n",
    "\n",
    "y_pos = range(len(top10UsersPC))\n",
    "x_val = [w[1] for w in top10UsersPC]\n",
    "y_val = [w[0] for w in top10UsersPC]\n",
    "\n",
    "plt.figure(figsize=(15,7))\n",
    "plt.barh(y_pos, x_val[::-1], align='center', alpha=0.5, color='orange')\n",
    "plt.yticks(y_pos, y_val[::-1])\n",
    "plt.xlabel('Play Count')\n",
    "plt.ylabel('Users ID')\n",
    "plt.title('Top-10 Users ID per play counts')\n",
    "plt.show()"
   ]
  },
  {
   "cell_type": "markdown",
   "metadata": {},
   "source": [
    "We can see that, except the first four users, the others have a playcount lower than 200000. This chart is not effective to explain the overall distribution of the users, we need to look at a bigger group of users."
   ]
  },
  {
   "cell_type": "code",
   "execution_count": 119,
   "metadata": {
    "collapsed": false
   },
   "outputs": [
    {
     "data": {
      "image/png": "[encoded data removed]",
      "text/plain": [
       "<matplotlib.figure.Figure at 0x7f644669a198>"
      ]
     },
     "metadata": {},
     "output_type": "display_data"
    }
   ],
   "source": [
    "top1000UsersPC = UsersPC_clean.take(1000)\n",
    "#print(top10ArtistsPC)\n",
    "\n",
    "\n",
    "y_pos = range(len(top1000UsersPC))\n",
    "x_val = [w[1] for w in top1000UsersPC]\n",
    "\n",
    "y_label = [1]\n",
    "y_label.extend(range(100,1001,100))\n",
    "plt.figure(figsize=(15,7))\n",
    "plt.plot(x_val[::-1],y_pos[::-1])\n",
    "plt.yticks(y_label)\n",
    "plt.gca().invert_yaxis()\n",
    "plt.xlabel('Play Count')\n",
    "plt.ylabel('Rank')\n",
    "plt.title('Top-1000 Users rank per play counts')\n",
    "plt.show()"
   ]
  },
  {
   "cell_type": "code",
   "execution_count": 120,
   "metadata": {
    "collapsed": false
   },
   "outputs": [
    {
     "name": "stdout",
     "output_type": "stream",
     "text": [
      "Artist in position 1 has 674412 playcounts\n",
      "Artist in position 1000 has 25319 playcounts\n"
     ]
    }
   ],
   "source": [
    "print('Artist in position 1 has %d playcounts' % x_val[0])\n",
    "print('Artist in position 1000 has %d playcounts' % x_val[-1])"
   ]
  },
  {
   "cell_type": "markdown",
   "metadata": {},
   "source": [
    "We note that except the top 50 users, which have a very high playcount, the others in the top 1000 have a range of playcounts which is around 25000"
   ]
  },
  {
   "cell_type": "markdown",
   "metadata": {},
   "source": [
    "```python\n",
    "# calculate top 10 users interm of curiosity\n",
    "top10UsersByCuriosity = (\n",
    "                            ...\n",
    "                            ...\n",
    "                            ...\n",
    "                         )\n",
    "\n",
    "y_pos = range( ... )\n",
    "pdf = ...\n",
    "\n",
    "plt.barh( ... )\n",
    "...\n",
    "...\n",
    "...\n",
    "```"
   ]
  },
  {
   "cell_type": "code",
   "execution_count": 121,
   "metadata": {
    "collapsed": false
   },
   "outputs": [
    {
     "name": "stdout",
     "output_type": "stream",
     "text": [
      "Before cleaning:\n",
      "+-------+---------+\n",
      "| userID|curiosity|\n",
      "+-------+---------+\n",
      "|2030067|     6836|\n",
      "|1024631|     6188|\n",
      "|1059334|     5864|\n",
      "|2016026|     5806|\n",
      "|2023686|     4863|\n",
      "|1045464|     4796|\n",
      "|1004584|     4709|\n",
      "|2010008|     4512|\n",
      "|2232770|     4115|\n",
      "|1006093|     4019|\n",
      "+-------+---------+\n",
      "only showing top 10 rows\n",
      "\n",
      "After cleaning:\n",
      "+-------+---------+\n",
      "| userID|curiosity|\n",
      "+-------+---------+\n",
      "|2030067|     6734|\n",
      "|1024631|     6125|\n",
      "|1059334|     5839|\n",
      "|2016026|     5773|\n",
      "|2023686|     4822|\n",
      "|1045464|     4734|\n",
      "|1004584|     4690|\n",
      "|2010008|     4411|\n",
      "|2232770|     4090|\n",
      "|1006093|     4005|\n",
      "+-------+---------+\n",
      "only showing top 10 rows\n",
      "\n"
     ]
    },
    {
     "data": {
      "image/png": "[encoded data removed]",
      "text/plain": [
       "<matplotlib.figure.Figure at 0x7f645b07b8d0>"
      ]
     },
     "metadata": {},
     "output_type": "display_data"
    }
   ],
   "source": [
    "print('Before cleaning:')\n",
    "UsersAS_dirty = ( \n",
    "    userArtistDF\n",
    "    .drop('playcount')\n",
    "    .groupBy('userID')\n",
    "    .count()\n",
    "    .orderBy('count', ascending=0)\n",
    "    .withColumnRenamed(\"count\", \"curiosity\")\n",
    "    .cache()\n",
    ")\n",
    "UsersAS_dirty.show(10)\n",
    "\n",
    "\n",
    "\n",
    "print('After cleaning:')\n",
    "UsersAS_clean = ( \n",
    "    userArtist_cleanDF\n",
    "    .drop('playcount')\n",
    "    .groupBy('userID')\n",
    "    .count()\n",
    "    .orderBy('count', ascending=0)\n",
    "    .withColumnRenamed(\"count\", \"curiosity\")\n",
    "    .cache()\n",
    ")\n",
    "UsersAS_clean.show(10)\n",
    "\n",
    "top10UsersAS = UsersAS_clean.take(10)\n",
    "#print(top10ArtistsPC)\n",
    "\n",
    "y_pos = range(len(top10UsersAS))\n",
    "\n",
    "x_val = [w[1] for w in top10UsersAS]\n",
    "y_val = [w[0] for w in top10UsersAS]\n",
    "\n",
    "plt.figure(figsize=(15,7))\n",
    "plt.barh(y_pos, x_val[::-1], align='center', alpha=0.5, color='orange')\n",
    "plt.yticks(y_pos, y_val[::-1])\n",
    "plt.xlabel('Curiosity')\n",
    "plt.ylabel('User')\n",
    "plt.title('Top-10 User per curiosity')\n",
    "plt.show()"
   ]
  },
  {
   "cell_type": "markdown",
   "metadata": {},
   "source": [
    "As expected, after the cleaning the curiosity value decreases for every user. This is obvious because before the cleaning the same artist had many artistIDs. "
   ]
  },
  {
   "cell_type": "code",
   "execution_count": 122,
   "metadata": {
    "collapsed": false
   },
   "outputs": [
    {
     "name": "stdout",
     "output_type": "stream",
     "text": [
      "Percentiles:\n",
      "0.00       1\n",
      "0.10       9\n",
      "0.20      25\n",
      "0.25      34\n",
      "0.30      45\n",
      "0.40      68\n",
      "0.50      96\n",
      "0.60     131\n",
      "0.70     179\n",
      "0.75     210\n",
      "0.80     250\n",
      "0.90     386\n",
      "0.95     540\n",
      "0.99    1011\n",
      "1.00    6734\n",
      "Name: 1, dtype: float64\n"
     ]
    },
    {
     "data": {
      "image/png": "[encoded data removed]",
      "text/plain": [
       "<matplotlib.figure.Figure at 0x7f6457cf5f60>"
      ]
     },
     "metadata": {},
     "output_type": "display_data"
    }
   ],
   "source": [
    "userCuriosity = UsersAS_clean.collect()\n",
    "#userArtistDF.groupBy('artistID').sum('playCount').limit(5).show()\n",
    "\n",
    "pdf = pd.DataFrame(data=userCuriosity)\n",
    "Y=np.sort(pdf[1])\n",
    "yvals=np.arange(len(Y))/float(len(Y))\n",
    "print('Percentiles:')\n",
    "print(pdf.quantile([.0,.1,.2,.25,.3,.4,.5,.6,.7,.75,.8,.9,.95,.99,1.0])[1])\n",
    "\n",
    "plt.figure(figsize=(15,7))\n",
    "plt.subplot(121)\n",
    "plt.plot( Y, yvals )\n",
    "plt.xlabel('Curiosity')\n",
    "plt.ylabel('ECDF')\n",
    "plt.grid(True,which=\"both\",ls=\"-\")\n",
    "plt.title('ECDF of curiosity per UserID')\n",
    "\n",
    "plt.subplot(122)\n",
    "plt.semilogx( Y, yvals )\n",
    "plt.xlabel('Curiosity')\n",
    "plt.ylabel('ECDF')\n",
    "plt.grid(True,which=\"both\",ls=\"-\")\n",
    "plt.title('ECDF of curiosity per UserID')\n",
    "plt.show()"
   ]
  },
  {
   "cell_type": "markdown",
   "metadata": {},
   "source": [
    "When we look at the chart on the right, we can see that only 1% of the users have listened to more than 1000 artists.\n",
    "We can also observe that 20% of the users listened less than 25 artists and it could be difficult to make recommendations for them. "
   ]
  },
  {
   "cell_type": "code",
   "execution_count": 123,
   "metadata": {
    "collapsed": false
   },
   "outputs": [
    {
     "name": "stdout",
     "output_type": "stream",
     "text": [
      "+-------+--------+---------+\n",
      "| userID|artistID|playCount|\n",
      "+-------+--------+---------+\n",
      "|2064012|    4468|   439771|\n",
      "|1059637| 1002095|   433060|\n",
      "|1059637| 1026440|   155895|\n",
      "|2069889| 1002095|   101076|\n",
      "|2020513| 1007801|    89592|\n",
      "|1073421| 1004440|    67548|\n",
      "|2023977| 1007903|    62815|\n",
      "|2023977|    2823|    51039|\n",
      "|2014936|      82|    36083|\n",
      "|2069337| 1006134|    34800|\n",
      "+-------+--------+---------+\n",
      "only showing top 10 rows\n",
      "\n",
      "+--------------------+\n",
      "|User Intersection ID|\n",
      "+--------------------+\n",
      "|             1043751|\n",
      "|             1035511|\n",
      "|             2007573|\n",
      "|             1022223|\n",
      "|             1024631|\n",
      "|             2024005|\n",
      "|             1073896|\n",
      "|             1026084|\n",
      "|             2010008|\n",
      "|             2016026|\n",
      "|             1059334|\n",
      "|             1001440|\n",
      "|             2023686|\n",
      "+--------------------+\n",
      "\n",
      "number of intersection in the top 100 per playcount and curiosity 13\n"
     ]
    }
   ],
   "source": [
    "userArtist_cleanDF.show(10)\n",
    "\n",
    "UsersAS_clean_top100 = ( \n",
    "    userArtist_cleanDF\n",
    "    .drop('playcount')\n",
    "    .groupBy('userID')\n",
    "    .count()\n",
    "    .orderBy(['count','userID'], ascending=0)\n",
    "    .withColumnRenamed(\"count\", \"curiosity\")\n",
    "    .limit(100)\n",
    "    .select('userID')\n",
    ")\n",
    "\n",
    "UsersPC_clean_top100 = ( \n",
    "    userArtist_cleanDF\n",
    "    .groupBy('userID')\n",
    "    .sum('playCount')\n",
    "    .orderBy(['sum(playCount)','userID'], ascending=0)\n",
    "    .limit(100)\n",
    "    .select('userID') \n",
    ")\n",
    "\n",
    "User_intersectionDF = (\n",
    "    sqlContext\n",
    "    .createDataFrame(UsersAS_clean_top100.rdd.intersection(UsersPC_clean_top100.rdd) ,['User Intersection ID'])\n",
    ")\n",
    "User_intersectionDF.show()\n",
    "print('number of intersection in the top 100 per playcount and curiosity',User_intersectionDF.count())"
   ]
  },
  {
   "cell_type": "markdown",
   "metadata": {},
   "source": [
    "Comparing the top 10 users in terms of playcounts and in terms of curiosity, we obtain an empty table, which means that the two set are disjointed. When we extend the comparison in the top 100 of both values, we obtain 13 users that are both in top 100 per playcount and per curiosity. This means that many users that are in the top 100 per playcount have a low curiosity value, and the same is true for the ones with high curiosity: they listen few times many artists. "
   ]
  },
  {
   "cell_type": "code",
   "execution_count": 124,
   "metadata": {
    "collapsed": false
   },
   "outputs": [],
   "source": [
    "user_play_cur = (\n",
    "UsersAS_clean\n",
    ".join(UsersPC_clean, UsersAS_clean.userID == UsersPC_clean.userID, \"left_outer\")\n",
    ".drop(UsersPC_clean.userID)\n",
    ".drop('userID')\n",
    ".collect()\n",
    ")\n",
    "\n",
    "curiosity = [w[0] for w in user_play_cur]\n",
    "playcount = [w[1] for w in user_play_cur]"
   ]
  },
  {
   "cell_type": "code",
   "execution_count": 125,
   "metadata": {
    "collapsed": false
   },
   "outputs": [
    {
     "name": "stderr",
     "output_type": "stream",
     "text": [
      "/opt/conda/lib/python3.5/site-packages/matplotlib/collections.py:590: FutureWarning: elementwise comparison failed; returning scalar instead, but in the future will perform elementwise comparison\n",
      "  if self._edgecolors == str('face'):\n"
     ]
    },
    {
     "data": {
      "image/png": "[encoded data removed]",
      "text/plain": [
       "<matplotlib.figure.Figure at 0x7f6457df9eb8>"
      ]
     },
     "metadata": {},
     "output_type": "display_data"
    }
   ],
   "source": [
    "plt.figure(figsize=(15,10))\n",
    "\n",
    "plt.scatter(curiosity, playcount)\n",
    "plt.xlabel('Curiosity')\n",
    "plt.ylabel('Playcount')\n",
    "plt.grid(True,which=\"both\",ls=\"-\")\n",
    "plt.title('User distribution in the curiosity-playcount', fontsize=20)\n",
    "\n",
    "plt.show()"
   ]
  },
  {
   "cell_type": "markdown",
   "metadata": {},
   "source": [
    "Here we can see the generalization of the analysis done before about the user curiosity-playcount relationship. It's evident that users with high playcount have also a very low curiosity. It's also evident that most of the users are in the area limited by 100000 playcounts and 3000 different artists listened. This means that most of the users have the same behaviour. We should still note that the curiosity value is higher than it should be because of mispelled artists."
   ]
  },
  {
   "cell_type": "markdown",
   "metadata": {},
   "source": [
    "Now we have some valuable information about the data. It's the time to study how to build a statistical models."
   ]
  },
  {
   "cell_type": "markdown",
   "metadata": {},
   "source": [
    "# 2. Build a statistical models to make recommendations\n",
    "\n",
    "## 2.1 Introduction to recommender systems\n",
    "\n",
    "In a recommendation-system application there are two classes of entities, which we shall refer to as `users` and `items`. Users have preferences for certain items, and these preferences must be inferred from the data. The data itself is represented as a `preference matrix` $A$, giving for each user-item pair, a value that represents what is known about the degree of preference of that user for that item. The table below is an example for a `preference matrix` of 5 users and `k` items. The `preference matrix` is also known as `utility matrix`.\n",
    "\n",
    "| | IT1 | IT2 | IT3 | ... | ITk |\n",
    "|---|---|---|---|---|---|\n",
    "| U1 | 1 |  | 5 | ... | 3 |\n",
    "| U2 |  | 2 |  | ... | 2 |\n",
    "| U3 | 5 |  | 3 | ... |  |\n",
    "| U4 | 3 | 3 |  | ... | 4 |\n",
    "| U5 |  | 1 |  | ... | ... |\n",
    "\n",
    "The value of row i, column j expresses how much does user `i` like item `j`. The values are often the rating scores of users for items. An unknown value implies that we have no explicit information about the user's preference for the item. The goal of a recommendation system is to predict \"the blanks\" in the `preference matrix`. For example, assume that the rating score is from 1 (dislike) to 5 (love), would user `U5` like `IT3` ? We have two approaches:\n",
    "\n",
    "* Designing our recommendation system to take into account properties of items such as brand, category, price... or even the similarity of their names. We can denote the similarity of items `IT2` and `IT3`, and then conclude that because user `U5` did not like `IT2`, they were unlikely to enjoy SW2 either.\n",
    "\n",
    "* We might observe that the people who rated both `IT2` and `IT3` tended to give them similar ratings. Thus, we could conclude that user `U5` would also give `IT3` a low rating, similar to `U5`'s rating of `IT2`\n",
    "\n",
    "It is not necessary to predict every blank entry in a `utility matrix`. Rather, it is only necessary to discover some entries in each row that are likely to be high. In most applications, the recommendation system does not oﬀer users a ranking of all items, but rather suggests a few that the user should value highly. It may not even be necessary to ﬁnd all items with the highest expected ratings, but only to ﬁnd a large subset of those with the highest ratings.\n",
    "\n",
    "\n",
    "## 2.2 Families of recommender systems\n",
    "\n",
    "In general, recommender systems can be categorized into two groups:\n",
    "\n",
    "* **Content-Based** systems focus on properties of items. Similarity of items is determined by measuring the similarity in their properties.\n",
    "\n",
    "* **Collaborative-Filtering** systems focus on the relationship between users and items. Similarity of items is determined by the similarity of the ratings of those items by the users who have rated both items.\n",
    "\n",
    "In the usecase of this notebook, artists take the role of `items`, and `users` keep the same role as `users`.\n",
    "Since we have no information about `artists`, except their names, we cannot build a `content-based` recommender system.\n",
    "\n",
    "Therefore, in the rest of this notebook, we only focus on `Collaborative-Filtering` algorithms.\n",
    "\n",
    "## 2.3 Collaborative-Filtering \n",
    "In this section, we study a member of a broad class of algorithms called `latent-factor` models. They try to explain observed interactions between large numbers of users and products through a relatively small number of unobserved, underlying reasons. It is analogous to explaining why millions of people buy a particular few of thousands of possible albums by describing users and albums in terms of tastes for perhaps tens of genres, tastes which are **not directly observable or given** as data. \n",
    "\n",
    "First, we formulate the learning problem as a matrix completion problem. Then, we will use a type of `matrix factorization` model to \"fill in\" the blanks.  We are given implicit ratings that users have given certain items (that is, the number of times they played a particular artist) and our goal is to predict their ratings for the rest of the items. Formally, if there are $n$ users and $m$ items, we are given an $n \\times m$ matrix $R$ in which the generic entry $(u, i)$ represents the rating for item $i$ by user $u$. **Matrix $R$ has many missing entries indicating unobserved ratings, and our task is to estimate these unobserved ratings**.\n",
    "\n",
    "A popular approach to the matrix completion problem is **matrix factorization**, where we want to \"summarize\" users and items with their **latent factors**.\n",
    "\n",
    "### 2.3.1 Basic idea and an example of Matrix Factorization\n",
    "For example, given a preference matrix 5x5 as below, we want to approximate this matrix into the product of two smaller matrixes $X$ and $Y$ .\n",
    "\n",
    "$$\n",
    "M = \n",
    "\\begin{bmatrix}\n",
    " 5 & 2 & 4 & 4 & 3 \\\\\n",
    " 3 & 1 & 2 & 4 & 1 \\\\\n",
    " 2 &  & 3 & 1 & 4 \\\\\n",
    " 2 & 5 & 4 & 3 & 5 \\\\\n",
    " 4 & 4 & 5 & 4 &  \\\\\n",
    "\\end{bmatrix}\n",
    "\\approx M^\\prime =\n",
    "\\begin{bmatrix}\n",
    " x_{11} & x_{12} \\\\\n",
    " x_{21} & x_{22} \\\\\n",
    " x_{31} & x_{32} \\\\\n",
    " x_{41} & x_{42} \\\\\n",
    " x_{51} & x_{52} \\\\\n",
    "\\end{bmatrix}\n",
    "\\times\n",
    "\\begin{bmatrix}\n",
    " y_{11} & y_{12} & y_{13} & y_{14} & y_{15} \\\\\n",
    " y_{21} & y_{22} & y_{23} & y_{24} & y_{25} \\\\\n",
    "\\end{bmatrix}\n",
    "$$\n",
    "\n",
    "$M^\\prime$ is an approximation that is as close to A as possible. To calculate how far from $M$ $M^\\prime$ is, we often calculate the sum of squared distances of non-empty elements in $M$ and the corresponding elements in $M^\\prime$.\n",
    "In this way, for $M^\\prime$, besides the approximated elements in $M$, we also have the non-observed elements. Therefore, to see how much does user `i` like item `j`, we simply pick up the value of $M^\\prime_{i,j}$.\n",
    "\n",
    "The challenge is how to calculate $X$ and $Y$. The bad news is that this can't be solved directly for both the best $X$ and best $Y$ at the same time. Fortunately, if $Y$ is known, we can calculate the best of $X$, and vice versa. It means from the initial values of $X$ and $Y$ in the beginning, we calculate best $X$ according to $Y$, and then calculate the best $Y$ according to the new $X$. This process is repeated until the distance from $XY$ to $M$ is converged. It's simple, right ?\n",
    "\n",
    "Let's take an example. To compute the approximation for the above 5x5 matrix $M$, first, we init the value of $X$ and $Y$ as below.\n",
    "\n",
    "$$\n",
    "M^\\prime = X \\times Y =\n",
    "\\begin{bmatrix}\n",
    " 1 & 1 \\\\\n",
    " 1 & 1 \\\\\n",
    " 1 & 1 \\\\\n",
    " 1 & 1 \\\\\n",
    " 1 & 1 \\\\\n",
    "\\end{bmatrix}\n",
    "\\times\n",
    "\\begin{bmatrix}\n",
    " 1 & 1 & 1 & 1 & 1 \\\\\n",
    " 1 & 1 & 1 & 1 & 1 \\\\\n",
    "\\end{bmatrix}\n",
    "=\n",
    "\\begin{bmatrix}\n",
    " 2 & 2 & 2 & 2 & 2 \\\\\n",
    " 2 & 2 & 2 & 2 & 2 \\\\\n",
    " 2 & 2 & 2 & 2 & 2 \\\\\n",
    " 2 & 2 & 2 & 2 & 2 \\\\\n",
    " 2 & 2 & 2 & 2 & 2 \\\\\n",
    "\\end{bmatrix}\n",
    "$$\n",
    "\n",
    "With the initial iteration, we calculate the the Root-Mean-Square Error from $XY$ to $M$.\n",
    "\n",
    "Consider the ﬁrst rows of $M$ and $XY$ . We subtract the first row from $XY$ from the entries in the ﬁrst row of $M$, to get $3,0,2,2,1$. We square and sum these to get $18$. \n",
    "\n",
    "In the second row, we do the same to get $1,−1,0,2,−1$, square and sum to get $7$. \n",
    "\n",
    "In the third row, the second column is blank, so that entry is ignored when computing the RMSE. The diﬀerences are $0,1,−1,2$ and the sum of squares is $6$. \n",
    "\n",
    "For the fourth row, the diﬀerences are $0,3,2,1,3$ and the sum of squares is $23$. \n",
    "\n",
    "The ﬁfth row has a blank entry in the last column, so the diﬀerences are $2,2,3,2$ and the sum of squares is $21$. \n",
    "\n",
    "When we sum the sums from each of the ﬁve rows, we get $18+7+6+23+21 = 75$. So, $RMSE=\\sqrt{75/23}=1.806$ where $23$ is the number of non-empty values in $M$.\n",
    "\n",
    "Next, with the given value of $Y$, we calculate $X$ by finding the best value for $X_{11}$.\n",
    "\n",
    "$$\n",
    "M^\\prime = X \\times Y =\n",
    "\\begin{bmatrix}\n",
    " x & 1 \\\\\n",
    " 1 & 1 \\\\\n",
    " 1 & 1 \\\\\n",
    " 1 & 1 \\\\\n",
    " 1 & 1 \\\\\n",
    "\\end{bmatrix}\n",
    "\\times\n",
    "\\begin{bmatrix}\n",
    " 1 & 1 & 1 & 1 & 1 \\\\\n",
    " 1 & 1 & 1 & 1 & 1 \\\\\n",
    "\\end{bmatrix}\n",
    "=\n",
    "\\begin{bmatrix}\n",
    " x+1 & x+1 & x+1 & x+1 & x+1 \\\\\n",
    " 2 & 2 & 2 & 2 & 2 \\\\\n",
    " 2 & 2 & 2 & 2 & 2 \\\\\n",
    " 2 & 2 & 2 & 2 & 2 \\\\\n",
    " 2 & 2 & 2 & 2 & 2 \\\\\n",
    "\\end{bmatrix}\n",
    "$$\n",
    "\n",
    "Now, to minimize the $RMSE$  we minimize the difference of the first rows $(5−(x+1))^2 + (2−(x+1))^2 + (4−(x+1))^2 + (4−(x+1))^2 + (3−(x+1))^2$. By  taking the derivative and set that equal to 0, we pick $x=2.6$\n",
    "\n",
    "Given the new value of $X$, we can calculate the best value for $Y$.\n",
    "\n",
    "$$\n",
    "M^\\prime = X \\times Y =\n",
    "\\begin{bmatrix}\n",
    " 2.6 & 1 \\\\\n",
    " 1 & 1 \\\\\n",
    " 1 & 1 \\\\\n",
    " 1 & 1 \\\\\n",
    " 1 & 1 \\\\\n",
    "\\end{bmatrix}\n",
    "\\times\n",
    "\\begin{bmatrix}\n",
    " y & 1 & 1 & 1 & 1 \\\\\n",
    " 1 & 1 & 1 & 1 & 1 \\\\\n",
    "\\end{bmatrix}\n",
    "=\n",
    "\\begin{bmatrix}\n",
    " 3.6 & 3.6 & 3.6 & 3.6 & 3.6 \\\\\n",
    " 2 & 2 & 2 & 2 & 2 \\\\\n",
    " 2 & 2 & 2 & 2 & 2 \\\\\n",
    " 2 & 2 & 2 & 2 & 2 \\\\\n",
    " 2 & 2 & 2 & 2 & 2 \\\\\n",
    "\\end{bmatrix}\n",
    "$$\n",
    "\n",
    "By doing the same process as before, we can pick value for $y=1.617$. After that, we can check if the $RMSE$ is not converged, we continue to update $X$ by $Y$ and vice versa. In this example, for simple, we only update one element of each matrix in each iteration. In practice, we can update a full row or full matrix at once.\n"
   ]
  },
  {
   "cell_type": "markdown",
   "metadata": {},
   "source": [
    "### 2.3.2 Matrix Factorization: Objective and ALS Algorithm on a Single Machine\n",
    "\n",
    "More formally, in general, we select $k$ latent features, and describe each user $u$ with a $k-$dimensional vector $x_u$, and each item $i$ with a $k-$dimensional vector $y_i$.\n",
    "\n",
    "Then, to predict user $u$'s rating for item $i$, we do as follows: $ r_{ui} \\approx x_{u}^{T}y_i$.\n",
    "\n",
    "This can be put, more elegantly, in a matrix form. Let $x_1, \\cdots x_n \\in \\mathbb{R}^k$ be the factors for the users, and $y_1, \\cdots y_m \\in \\mathbb{R}^k$ the factors for the items. The $k \\times n$ user matrix $X$ and the $k \\times m$ item matrix $Y$ are then defined by:\n",
    "\n",
    "$$\n",
    "X = \n",
    "\\begin{bmatrix}\n",
    " |   &         & |  \\\\\n",
    "x_1  &  \\cdots & x_n\\\\\n",
    " |   &         & |  \\\\\n",
    "\\end{bmatrix}\n",
    "$$\n",
    "\n",
    "$$\n",
    "Y = \n",
    "\\begin{bmatrix}\n",
    " |   &         & |  \\\\\n",
    "y_1  &  \\cdots & y_i\\\\\n",
    " |   &         & |  \\\\\n",
    "\\end{bmatrix}\n",
    "$$\n",
    "\n",
    "Our goal is to estimate the complete ratings matrix $R \\approx X^{T} Y$. We can formulate this problem as an optimization problem in which we aim to minimize an objective function and find optimal $X$ and $Y$ . In particular, we aim to minimize the least squares error of the observed ratings (and regularize):\n",
    "\n",
    "$$\n",
    "\\min_{X,Y} \\sum_{r_{ui} \\text{observed}}(r_{ui} - x_{u}^{T}y_i)^2 + \\lambda \\left( \\sum_{u} \\|x_u\\|^2 + \\sum_{i} \\|y_i\\|^2 \\right) \n",
    "$$\n",
    "\n",
    "Notice that this objective is non-convex (because of the $x_{u}^{T} y_i$ term); in fact it’s NP-hard to optimize. Gradient descent can be used as an approximate approach here, however it turns out to be slow and costs lots of iterations. Note however, that if we fix the set of variables $X$ and treat them as constants, then the objective is a convex function of $Y$ and vice versa. Our approach will therefore be to fix $Y$ and optimize $X$, then fix $X$ and optimize $Y$, and repeat until convergence. This approach is known as **ALS (Alternating Least Squares)**. For our objective function, the alternating least squares algorithm can be expressed with this simple pseudo-code:"
   ]
  },
  {
   "cell_type": "markdown",
   "metadata": {},
   "source": [
    "Initialize $X$, $Y$\n",
    "\n",
    "**while**(convergence is not true) **do**\n",
    "\n",
    "\n",
    "**for** $u = 1 \\cdots n$ **do**\n",
    "\n",
    "$x_u = \\left( \\sum_{r_ui \\in r_{u*}} y_i y_{i}^{T} + \\lambda I_k \\right)^{-1} \\sum_{r_ui \\in r_{u*}} r_{ui} y_i $ \n",
    "   \n",
    "**end for**\n",
    "\n",
    "**for** $u = 1 \\cdots n$ **do**\n",
    "\n",
    "$y_i = \\left( \\sum_{r_ui \\in r_{*i}} x_u x_{u}^{T} + \\lambda I_k \\right)^{-1} \\sum_{r_ui \\in r_{*i}} r_{ui} x_u $ \n",
    "   \n",
    "**end for**\n",
    "\n",
    "\n",
    "**end while**"
   ]
  },
  {
   "cell_type": "markdown",
   "metadata": {},
   "source": [
    "For a single machine, we can analyze the computational cost of this algorithm. Updating each $x_u$ will cost $O(n_u k^2 + k^3)$, where $n_u$ is the number of items rated by user $u$, and similarly updating each $y_i$ will cost $O(n_i k^2 + k^3)$, where $n_i$ is the number of users that have rated item $i$.\n",
    "\n",
    "\n",
    "Once we’ve computed the matrices $X$ and $Y$, there are several ways compute a prediction. The first is to do what was discussed before, which is to simply predict $ r_{ui} \\approx x_{u}^{T}y_i$ for each user $u$ and item $i$. \n",
    "This approach will cost $O(nmk)$ if we’d like to estimate every user-item pair. \n",
    "\n",
    "However, this approach is prohibitively expensive for most real-world datasets. A second (and more holistic) approach is to use the $x_u$ and $y_i$ as features in another learning algorithm, incorporating these features with others that are relevant to the prediction task."
   ]
  },
  {
   "cell_type": "markdown",
   "metadata": {},
   "source": [
    "### 2.3.3 Parallel Altenating Least Squares\n",
    "\n",
    "There are several ways to distribute the computation of the ALS algorithm depending on how data is partitioned.\n",
    "\n",
    "#### Method 1: using joins\n",
    "First we consider a fully distributed version, in the sense that all data (both input and output) is stored in a distributed file system. In practice, input data (ratings) and parameters ($X$ and $Y$) are stored in an a Spark RDD. Specifically, ratings -- that are always **sparse** -- are stored as RDD of triplets:\n",
    "\n",
    "Ratings: RDD((u, i, $r_{ui}$), . . . )\n",
    "\n",
    "\n",
    "Instead, we can use dense representation for factor matrices $X$ and $Y$, and these are stored as RDDs of vectors. More precisely, we can use the data types introduced in Spark MLLib to store such vectors and matrices:\n",
    "\n",
    "X : RDD($x_1$,...,$x_n$)\n",
    "\n",
    "Y : RDD($y_1$,...,$y_m$)\n",
    "\n",
    "\n",
    "Now, recall the expression to compute $x_u$:\n",
    "\n",
    "$x_u = \\left( \\sum_{r_ui \\in r_{u*}} y_i y_{i}^{T} + \\lambda I_k \\right)^{-1} \\sum_{r_ui \\in r_{u*}} r_{ui} y_i $ \n",
    "\n",
    "Let's call the first summation *part A* and the second summation *part B*. To compute such parts, in parallel, we can proceed with the following high-level pseudocode:\n",
    "\n",
    "* Join the Ratings RDD with the $Y$ matrix RDD using key $i$ (items)\n",
    "* Map to compute $y_i y_{i}^{T}$ and emit using key $u$ (user)\n",
    "* ReduceByKey $u$ (user) to compute 􏰀$\\sum_{r_ui \\in r_{u*}} y_i y_{i}^{T}$\n",
    "* Invert\n",
    "* Another ReduceByKey $u$ (user) to compute 􏰁$\\sum_{r_ui \\in r_{u*}} r_{ui} y_i$\n",
    "\n",
    "We can use the same template to copmute $y_i$.\n",
    "\n",
    "This approach works fine, but note it requires computing $y_i y_{i}^{T}$ for each user that has rated item $i$. \n",
    "\n",
    "#### Method 2: using broadcast variables (advanced topic)\n",
    "The next approach takes advantage of the fact that the $X$ and $Y$ factor matrices are often very small and can be stored locally on each machine.\n",
    "\n",
    "* Partition the Ratings RDD **by user** to create $R_1$, and similarly partition the Ratings RDD **by item** to create $R_2$. This means there are two copies of the same Ratings RDD, albeit with different partitionings. In $R_1$, all ratings by the same user are on the same machine, and in $R_2$ all ratings for same item are on the same machine.\n",
    "* Broadcast the matrices $X$ and $Y$. Note that these matrices are not RDD of vectors: they are now \"local: matrices.\n",
    "* Using $R_1$ and $Y$, we can use expression $x_u$ from above to compute the update of $x_u$ locally on each machine\n",
    "* Using $R_2$ and $X$, we can use expression $y_i$ from above to compute the update of $y_i$ locally on each machine\n",
    "\n",
    "A further optimization to this method is to group the $X$ and $Y$ factors matrices into blocks (user blocks and item blocks) and reduce the communication by only sending to each machine the block of users (or items) that are needed to compute the updates at that machine. \n",
    "\n",
    "This method is called **Block ALS**. It is achieved by precomputing some information about the ratings matrix to determine the \"out-links\" of each user (which blocks of the items it will contribute to) and \"in-link\" information for each item (which of the factor vectors it receives from each user block it will depend on). For exmple, assume that machine 1 is responsible for users 1,2,...,37: these will be block 1 of users. The items rated by these users are block 1 of items. Only the factors of block 1 of users and block 1 of items will be broadcasted to machine 1.\n",
    "\n",
    "### Further readings\n",
    "Other methods for matrix factorization include:\n",
    "\n",
    "* Low Rank Approximation and Regression in Input Sparsity Time, by Kenneth L. Clarkson, David P. Woodruff. http://arxiv.org/abs/1207.6365\n",
    "* Generalized Low Rank Models (GLRM), by Madeleine Udell, Corinne Horn, Reza Zadeh, Stephen Boyd. http://arxiv.org/abs/1410.0342\n",
    "* Matrix Completion and Low-Rank SVD via Fast Alternating Least Squares, by Trevor Hastie, Rahul Mazumder, Jason D. Lee, Reza Zadeh . Statistics Department and ICME, Stanford University, 2014. http://stanford.edu/~rezab/papers/fastals.pdf"
   ]
  },
  {
   "cell_type": "markdown",
   "metadata": {},
   "source": [
    "# 3. Usecase : Music recommender system\n",
    "\n",
    "In this usecase, we use the data of users and artists in the previous sections to build a statistical model to recommend artists for users.\n",
    " \n",
    "## 3.1 Requirements\n",
    "According to the properties of data, we need to choose a recommender algorithm that is suitable for this implicit feedback data. It means that the algorithm should learn without access to user or artist attributes such as age, genre,.... Therefore, an algorithm of type `collaborative filtering` is the best choice.\n",
    "\n",
    "Second, in the data, there are some users that have listened to only 1 artist. We need an algorithm that might provide decent recommendations to even these users. After all, at some point, every user starts out with just one play at some point! \n",
    "\n",
    "Third, we need an algorithm that scales, both in its ability to build large models, and to create recommendations quickly. So, an algorithm which can run on a distributed system (SPARK, Hadoop...) is very suitable.\n",
    "\n",
    "From these requirement, we can choose using ALS algorithm in SPARK's MLLIB.\n",
    "\n",
    "Spark MLlib’s ALS implementation draws on ideas from [1](http://yifanhu.net/PUB/cf.pdf) and [2](http://link.springer.com/chapter/10.1007%2F978-3-540-68880-8_32).\n",
    "\n",
    "## 3.2 Notes\n",
    "\n",
    "Currently, MLLIB can only build models from an RDD. That means we have two ways to prepare data:\n",
    "\n",
    "* Loading to into SPARK SQL DataFrame as before, and then access the corresponding RDD by calling `<dataframe>.rdd`. The invalid data is often sucessfully dropped by using mode `DROPMALFORMED`. However, this way might not work in all cases. Fortunately, we can use it with this usecase.\n",
    "\n",
    "* Loading data directly to RDD. However, we have to deal with the invalid data ourself. In the trade-off, this way is the most reliable, and can work in every case.\n",
    "\n",
    "In this notebook, we will use the second approach: it requires a bit more effort, but the reward is worth it!\n",
    "\n",
    " \n",
    "## 3.3 Cleanup the data\n",
    "In section 1, we already replaced the ids of mispelled artists by the corresponding standard ids by using SPARK SQL API.\n",
    "However, if the data has the invalid entries such that SPARK SQL API is stuck, the best way to work with it is using an RDD.\n",
    "\n",
    "Just as a recall, we work with three datasets in `user_artist_data.txt`, `` and `artist_alias.txt`. The entries in these file can be empty or have only one field. \n",
    "\n",
    "In details our goal now is:\n",
    "\n",
    "* Read the input ```user_artist_data.txt``` and transforms its representation into an output dataset.\n",
    "* To produce an output \"tuple\" containing the original user identifier and play counts, but with the artist identifier replaced by its most common alias, as found in the ```artist_alias.txt``` dataset.\n",
    "* Since the ```artist_alias.txt``` file is small, we can use a technique called **broadcast variables** to make such transformation more efficient.\n"
   ]
  },
  {
   "cell_type": "markdown",
   "metadata": {},
   "source": [
    "### Question 6\n",
    "\n",
    "#### Question 6.1\n",
    "Load data from `/datasets/lastfm/artist_alias.txt` and filter out the invalid entries to construct a dictionary to map from mispelled artists' ids to standard ids.\n",
    "\n",
    "NOTE: From now on, we will use the \"standard\" data to train our model.\n",
    "\n",
    "HINT: If a line contains less than 2 fields or contains invalid numerial values, we can return a special tuple. After that, we can filter out these special tuples."
   ]
  },
  {
   "cell_type": "markdown",
   "metadata": {},
   "source": [
    "```python\n",
    "rawArtistAlias = sc.textFile(base + \"artist_alias.txt\")\n",
    "\n",
    "def xtractFields(s):\n",
    "    # Using white space or tab character as separetors,\n",
    "    # split a line into list of strings \n",
    "    line = re.split(\"\\s|\\t\",s,1)\n",
    "    # if this line has at least 2 characters\n",
    "    if (len(line) > 1):\n",
    "        try:\n",
    "            # try to parse the first and the second components to integer type\n",
    "            return (int(line[0]), int(line[1]))\n",
    "        except ValueError:\n",
    "            # if parsing has any error, return a special tuple\n",
    "            return (-1,-1)\n",
    "    else:\n",
    "        # if this line has less than 2 characters, return a special tuple\n",
    "        return (-1,-1)\n",
    "\n",
    "artistAlias = (\n",
    "                rawArtistAlias\n",
    "                    # extract fields using function xtractFields\n",
    "                    .map( ... )\n",
    "    \n",
    "                    # fileter out the special tuples\n",
    "                    .filter( ... )\n",
    "    \n",
    "                    # collect result to the driver as a \"dictionary\"\n",
    "                    .collectAsMap()\n",
    "                )\n",
    "```"
   ]
  },
  {
   "cell_type": "code",
   "execution_count": 53,
   "metadata": {
    "collapsed": true
   },
   "outputs": [],
   "source": [
    "rawArtistAlias = sc.textFile(base + \"artist_alias.txt\")\n",
    "\n",
    "def xtractFields(s):\n",
    "    # Using white space or tab character as separetors,\n",
    "    # split a line into list of strings \n",
    "    line = re.split(\"\\s|\\t\",s,1)\n",
    "    # if this line has at least 2 characters\n",
    "    if (len(line) > 1):\n",
    "        try:\n",
    "            # try to parse the first and the second components to integer type\n",
    "            return (int(line[0]), int(line[1]))\n",
    "        except ValueError:\n",
    "            # if parsing has any error, return a special tuple\n",
    "            return (-1,-1)\n",
    "    else:\n",
    "        # if this line has less than 2 characters, return a special tuple\n",
    "        return (-1,-1)\n",
    "\n",
    "artistAlias = (\n",
    "                rawArtistAlias  # extract fields using function xtractFields\n",
    "                    .map(xtractFields)\n",
    "    \n",
    "                    # fileter out the special tuples\n",
    "                    .filter(lambda tup : tup != (-1,-1))\n",
    "    \n",
    "                    # collect result to the driver as a \"dictionary\"\n",
    "                    .collectAsMap()\n",
    "                )\n"
   ]
  },
  {
   "cell_type": "markdown",
   "metadata": {
    "collapsed": false
   },
   "source": [
    "#### Question 6.2\n",
    "Using the dictionary in question 6.1, prepare RDD `userArtistDataRDD` by replacing mispelled artists' ids to standard ids. Show 5 samples.\n",
    "\n",
    "HINT: Using broadcast varible can help us increase the effiency."
   ]
  },
  {
   "cell_type": "markdown",
   "metadata": {},
   "source": [
    "```python\n",
    "bArtistAlias = sc.broadcast(artistAlias)\n",
    "rawUserArtistData = sc.textFile(base + \"user_artist_data.txt\")\n",
    "\n",
    "def disambiguate(line):\n",
    "    [userID, artistID, count] = line.split(' ')\n",
    "    finalArtistID = bArtistAlias. ...\n",
    "    return (..., ..., ...)\n",
    "\n",
    "userArtistDataRDD = rawUserArtistData.map(...)\n",
    "userArtistDataRDD.take(5)\n",
    "```"
   ]
  },
  {
   "cell_type": "code",
   "execution_count": 54,
   "metadata": {
    "collapsed": true
   },
   "outputs": [],
   "source": [
    "bArtistAlias = sc.broadcast(artistAlias)\n",
    "rawUserArtistData = sc.textFile(base + \"user_artist_data.txt\")\n",
    "\n",
    "def flat(line):\n",
    "    [userID, artistID, count] = line.split(' ')\n",
    "    return artistID\n",
    "\n",
    "def disamb(artistID):\n",
    "    finalArtistID = bArtistAlias.value.get(int(artistID),int(artistID))\n",
    "    return str(finalArtistID)\n",
    "\n",
    "#userArtistDataRDD = rawUserArtistData.map(disambiguate).map(lambda x : x[1])\n",
    "#print(userArtistDataRDD.distinct().map(disamb).count())\n"
   ]
  },
  {
   "cell_type": "code",
   "execution_count": 55,
   "metadata": {
    "collapsed": false
   },
   "outputs": [
    {
     "name": "stdout",
     "output_type": "stream",
     "text": [
      "Number of distinct artists before any clean:  1631028\n",
      "As we can see, the number of artists is the same as calculated using the dataframe\n",
      "Number of distinct artists before first clean:  1568126\n",
      "Number of distinct artists before second clean:  1568117\n"
     ]
    }
   ],
   "source": [
    "ArtistDataRDD_dirty = rawUserArtistData.map(flat).distinct().cache()\n",
    "print('Number of distinct artists before any clean: ',ArtistDataRDD_dirty.count())\n",
    "print('As we can see, the number of artists is the same as calculated using the dataframe')\n",
    "\n",
    "ArtistDataRDD_clean_1 = ArtistDataRDD_dirty.map(disamb).distinct().cache()\n",
    "print('Number of distinct artists before first clean: ',ArtistDataRDD_clean_1.count())\n",
    "\n",
    "ArtistDataRDD_clean_2 = ArtistDataRDD_clean_1.map(disamb).distinct().cache()\n",
    "print('Number of distinct artists before second clean: ',ArtistDataRDD_clean_2.count())"
   ]
  },
  {
   "cell_type": "code",
   "execution_count": 58,
   "metadata": {
    "collapsed": true
   },
   "outputs": [],
   "source": [
    "def split_line(line):\n",
    "    [userID, artistID, count] = line.split(' ')\n",
    "    return (userID, artistID, count)\n",
    "\n",
    "def disamb_2(line):\n",
    "    finalArtistID_1 = bArtistAlias.value.get(int(line[1]),int(line[1]))\n",
    "    finalArtistID_2 = bArtistAlias.value.get(int(finalArtistID_1),int(finalArtistID_1))\n",
    "    return (line[0], str(finalArtistID_2), line[2])\n",
    "\n",
    "userArtistDataRDD = rawUserArtistData.map(split_line).map(disamb_2).cache()\n",
    "#print(userArtistDataRDD.take(5))\n",
    "\n",
    "#print(userArtistDataRDD.map(lambda line : line[1]).distinct().count(),'distinct artists, this is used as a proof that the cleaning works')\n"
   ]
  },
  {
   "cell_type": "code",
   "execution_count": 59,
   "metadata": {
    "collapsed": false
   },
   "outputs": [],
   "source": [
    "def part(line):\n",
    "    return ((line[0],line[1]),int(line[2]))\n",
    "\n",
    "def my_pack(line):\n",
    "    return (line[0][0], line[0][1], str(line[1]))\n",
    "\n",
    "\n",
    "userArtistDataRDD_final = userArtistDataRDD.map(part).reduceByKey(lambda x,y : x + y).map(my_pack).cache()\n",
    "userArtistDataRDD_take5 = userArtistDataRDD_final.take(5)"
   ]
  },
  {
   "cell_type": "code",
   "execution_count": 60,
   "metadata": {
    "collapsed": false
   },
   "outputs": [
    {
     "name": "stdout",
     "output_type": "stream",
     "text": [
      "[('2069960', '1033643', '2'), ('2077373', '1001412', '113'), ('2343111', '733', '31'), ('2348562', '1001479', '1'), ('2161777', '5369', '1')]\n"
     ]
    }
   ],
   "source": [
    "print(userArtistDataRDD_take5)"
   ]
  },
  {
   "cell_type": "markdown",
   "metadata": {},
   "source": [
    "## 3.4 Training our statistical model\n",
    "To train a model using ALS, we must use a preference matrix  as an input. MLLIB uses the class `Rating` to support the construction of a distributed preference matrix."
   ]
  },
  {
   "cell_type": "markdown",
   "metadata": {},
   "source": [
    "### Question 7\n",
    "\n",
    "#### Question 7.1\n",
    "Given RDD `userArtistDataRDD` in question 6.2, construct a new RDD `trainingData` by tranforming each item of it into a `Rating` object."
   ]
  },
  {
   "cell_type": "code",
   "execution_count": 132,
   "metadata": {
    "collapsed": false
   },
   "outputs": [],
   "source": [
    "from pyspark.mllib.recommendation import ALS, MatrixFactorizationModel, Rating"
   ]
  },
  {
   "cell_type": "markdown",
   "metadata": {},
   "source": [
    "```python\n",
    "allData = userArtistDataRDD.map(lambda r: Rating(..., ..., ...)).repartition(...).cache()\n",
    "```"
   ]
  },
  {
   "cell_type": "code",
   "execution_count": 62,
   "metadata": {
    "collapsed": true
   },
   "outputs": [],
   "source": [
    "allData = userArtistDataRDD_final.map(lambda r: Rating(r[0],r[1],r[2])).repartition(48).cache()"
   ]
  },
  {
   "cell_type": "markdown",
   "metadata": {},
   "source": [
    "We tried many repartition values and we have seen that after 12, which is the number of cores that we have, the time needed to train our model remains constant. Actually, we have read that using a value which is 3-4 times the number of cores is optimal, so we used 48."
   ]
  },
  {
   "cell_type": "markdown",
   "metadata": {
    "collapsed": false
   },
   "source": [
    "#### Question 7.2\n",
    "A model can be trained by using `ALS.trainImplicit(<training data>, <rank>)`, where:\n",
    "* `training data` is the input data you decide to feed to the ALS algorithm\n",
    "* `rank` is the number of laten features\n",
    "\n",
    "We can also use some additional parameters to adjust the quality of the model. Currently, let's set \n",
    "\n",
    "- `rank=10`\n",
    "- `iterations=5`\n",
    "- `lambda_=0.01`\n",
    "- `alpha=1.0` \n",
    "\n",
    "to build model."
   ]
  },
  {
   "cell_type": "markdown",
   "metadata": {},
   "source": [
    "```python\n",
    "t0 = time()\n",
    "model = ALS.trainImplicit( ... )\n",
    "t1 = time()\n",
    "print(\"finish training model in %f secs\" % (t1 - t0))\n",
    "```"
   ]
  },
  {
   "cell_type": "code",
   "execution_count": 63,
   "metadata": {
    "collapsed": false
   },
   "outputs": [
    {
     "name": "stdout",
     "output_type": "stream",
     "text": [
      "finish training model in 153.329641 secs\n"
     ]
    }
   ],
   "source": [
    "t0 = time()\n",
    "model = ALS.trainImplicit(ratings=allData, rank=10, iterations=5, lambda_=0.01, alpha=1.0)\n",
    "t1 = time()\n",
    "print(\"finish training model in %f secs\" % (t1 - t0))"
   ]
  },
  {
   "cell_type": "markdown",
   "metadata": {},
   "source": [
    "#### Question 7.3\n",
    "The trained model can be saved into HDFS for later use. This can be done via `model.save(sc, <file_name>)`.\n",
    "Let's use this function to store our model as name `lastfm_model.spark`.\n",
    "\n",
    "NOTE 1: since you may have noticed that building the model takes some time, it might come to your mind that this information could be stored, such that you can \"interrupt\" your laboratory session here, and restart next time by loading your model.\n",
    "\n",
    "NOTE 2: funnily enough, it could take more time to save the model than to build it from scratch! So take a look at the execution time to save the model: this method actually stores the model as Parquet files, which are column-oriented and compressed.\n",
    "\n",
    "NOTE 3: to check you have your file on HDFS, you are invited to open a terminal from the \"Home\" Jupyter dashboard, and type `hdfs dfs -ls` to check."
   ]
  },
  {
   "cell_type": "markdown",
   "metadata": {},
   "source": [
    "```python\n",
    "! hdfs dfs -rm -R -f -skipTrash lastfm_model.spark\n",
    "model.save( ... , ...)\n",
    "```"
   ]
  },
  {
   "cell_type": "code",
   "execution_count": 64,
   "metadata": {
    "collapsed": false
   },
   "outputs": [
    {
     "name": "stdout",
     "output_type": "stream",
     "text": [
      "Deleted lastfm_model.spark\r\n"
     ]
    }
   ],
   "source": [
    "! hdfs dfs -rm -R -f -skipTrash lastfm_model.spark\n",
    "model.save( sc , \"lastfm_model.spark\")"
   ]
  },
  {
   "cell_type": "markdown",
   "metadata": {},
   "source": [
    "#### Question 7.4\n",
    "A saved model can be load from file by using `MatrixFactorizationModel.load(sc, <file_name>)`. \n",
    "\n",
    "Let's load our model from file."
   ]
  },
  {
   "cell_type": "markdown",
   "metadata": {},
   "source": [
    "```python\n",
    "t0 = time()\n",
    "model = MatrixFactorizationModel.load(..., ...)\n",
    "t1 = time()\n",
    "print(\"finish loading model in %f secs\" % (t1 - t0))\n",
    "```"
   ]
  },
  {
   "cell_type": "code",
   "execution_count": 65,
   "metadata": {
    "collapsed": false
   },
   "outputs": [
    {
     "name": "stdout",
     "output_type": "stream",
     "text": [
      "finish loading model in 0.980635 secs\n"
     ]
    }
   ],
   "source": [
    "t0 = time()\n",
    "model = MatrixFactorizationModel.load(sc, 'lastfm_model.spark')\n",
    "t1 = time()\n",
    "print(\"finish loading model in %f secs\" % (t1 - t0))"
   ]
  },
  {
   "cell_type": "markdown",
   "metadata": {},
   "source": [
    "#### Question 7.5\n",
    "Print the first row of user features in our model."
   ]
  },
  {
   "cell_type": "markdown",
   "metadata": {},
   "source": [
    "```python\n",
    "model.userFeatures(). ...\n",
    "```"
   ]
  },
  {
   "cell_type": "code",
   "execution_count": 66,
   "metadata": {
    "collapsed": false
   },
   "outputs": [
    {
     "data": {
      "text/plain": [
       "[(90,\n",
       "  array('d', [0.6674767732620239, 1.0309081077575684, -0.01374572329223156, 0.5634956359863281, -0.3563999533653259, -0.7609330415725708, -0.3101719915866852, 0.11530221253633499, -0.394693523645401, 0.30670619010925293]))]"
      ]
     },
     "execution_count": 66,
     "metadata": {},
     "output_type": "execute_result"
    }
   ],
   "source": [
    "model.userFeatures().take(1)"
   ]
  },
  {
   "cell_type": "markdown",
   "metadata": {},
   "source": [
    "As expected, there are 10 features in the array (rank 10 during training)"
   ]
  },
  {
   "cell_type": "markdown",
   "metadata": {},
   "source": [
    "### Question 8\n",
    "Show the top-5 artist names recommendated for user `2093760`.\n",
    "\n",
    "HINT: The recommendations can be given by function `recommendProducts(userID, num_recommendations)`. These recommendations are only artist ids. You have to map them to artist names by using data in `artist_data.txt`."
   ]
  },
  {
   "cell_type": "markdown",
   "metadata": {},
   "source": [
    "```python\n",
    "# Make five reccommendations to user 2093760\n",
    "recommendations = (model. ...)\n",
    "\n",
    "# construct set of recommendated artists\n",
    "recArtist = set( ... )\n",
    "```"
   ]
  },
  {
   "cell_type": "markdown",
   "metadata": {},
   "source": [
    "```python\n",
    "# construct data of artists (artist_id, artist_name)\n",
    "\n",
    "rawArtistData = sc.textFile(base + \"artist_data.txt\")\n",
    "\n",
    "def xtractFields(s):\n",
    "    line = re.split(\"\\s|\\t\",s,1)\n",
    "    if (len(line) > 1):\n",
    "        try:\n",
    "            return (int(line[0]), str(line[1].strip()))\n",
    "        except ValueError:\n",
    "            return (-1,\"\")\n",
    "    else: \n",
    "        return (-1,\"\")\n",
    "\n",
    "artistByID = rawArtistData.map(xtractFields).filter(lambda x: x[0] > 0)\n",
    "```"
   ]
  },
  {
   "cell_type": "markdown",
   "metadata": {},
   "source": [
    "```python\n",
    "# Filter in those artists, get just artist, and print\n",
    "def artistNames(line):\n",
    "#     [artistID, name]\n",
    "    if (...):\n",
    "        return True\n",
    "    else:\n",
    "        return False\n",
    "\n",
    "recList = artistByID.filter(...).values().collect()\n",
    "\n",
    "print(recList)\n",
    "```"
   ]
  },
  {
   "cell_type": "code",
   "execution_count": 67,
   "metadata": {
    "collapsed": false
   },
   "outputs": [],
   "source": [
    "# Make five reccommendations to user 2093760\n",
    "recommendations = (model.recommendProducts(2093760,5))\n",
    "# construct set of recommendated artists\n",
    "#this is a set of the recommended aritsts\n",
    "recArtist= set(r[1] for r in recommendations)"
   ]
  },
  {
   "cell_type": "code",
   "execution_count": 68,
   "metadata": {
    "collapsed": false
   },
   "outputs": [],
   "source": [
    "# construct data of artists (artist_id, artist_name)\n",
    "\n",
    "rawArtistData = sc.textFile(base + \"artist_data.txt\")\n",
    "\n",
    "def xtractFields(s):\n",
    "    line = re.split(\"\\s|\\t\",s,1)\n",
    "    if (len(line) > 1):\n",
    "        try:\n",
    "            return (int(line[0]), str(line[1].strip()))\n",
    "        except ValueError:\n",
    "            return (-1,\"\")\n",
    "    else: \n",
    "        return (-1,\"\")\n",
    "\n",
    "artistByID = rawArtistData.map(xtractFields).filter(lambda x: x[0] > 0)\n",
    "#print(artistByID.take(5))"
   ]
  },
  {
   "cell_type": "code",
   "execution_count": 69,
   "metadata": {
    "collapsed": false
   },
   "outputs": [
    {
     "name": "stdout",
     "output_type": "stream",
     "text": [
      "['50 Cent', 'Snoop Dogg', 'Jay-Z', '2Pac', 'The Game']\n"
     ]
    }
   ],
   "source": [
    "# Filter in those artists, get just artist, and print\n",
    "def artistNames(line):\n",
    "#     [artistID, name]\n",
    "    if (line[0] in recArtist):\n",
    "        return True\n",
    "    else:\n",
    "        return False\n",
    "\n",
    "recList = artistByID.filter(lambda s: artistNames(s) == True).values().collect()\n",
    "\n",
    "print(recList)"
   ]
  },
  {
   "cell_type": "code",
   "execution_count": 70,
   "metadata": {
    "collapsed": false
   },
   "outputs": [
    {
     "name": "stdout",
     "output_type": "stream",
     "text": [
      "Artists listened by user 2093760:\n",
      "+--------+---------------+-------------+\n",
      "|artistID|           name|audience_size|\n",
      "+--------+---------------+-------------+\n",
      "|     378|  Blackalicious|         4465|\n",
      "|     813|     Jurassic 5|         8548|\n",
      "| 1255340|The Saw Doctors|          152|\n",
      "|     942|         Xzibit|         6069|\n",
      "|    1180|     David Gray|         7707|\n",
      "+--------+---------------+-------------+\n",
      "\n",
      "Artists recommended for user 2093760:\n",
      "+--------+----------+-------------+\n",
      "|artistID|      name|audience_size|\n",
      "+--------+----------+-------------+\n",
      "| 1001819|      2Pac|        13031|\n",
      "| 1007614|     Jay-Z|        16447|\n",
      "| 1300642|  The Game|         7011|\n",
      "|    2814|   50 Cent|        17062|\n",
      "|    4605|Snoop Dogg|        16010|\n",
      "+--------+----------+-------------+\n",
      "\n"
     ]
    }
   ],
   "source": [
    "print('Artists listened by user 2093760:')\n",
    "(\n",
    "    userArtist_cleanDF\n",
    "    .filter(userArtist_cleanDF['userID'] == 2093760)\n",
    "    .drop(userArtist_cleanDF.playCount)\n",
    "    .join(artistDF, userArtist_cleanDF.artistID == artistDF.artistID, \"left_outer\")\n",
    "    .drop(artistDF.artistID)\n",
    "    .join(ArtistsAS_clean, userArtist_cleanDF.artistID == ArtistsAS_clean.artistID, \"left_outer\")\n",
    "    .drop(ArtistsAS_clean.artistID)\n",
    "    .drop(ArtistsAS_clean.name)\n",
    "    .drop(userArtist_cleanDF.userID)\n",
    "    .show()\n",
    ")\n",
    "print('Artists recommended for user 2093760:')\n",
    "recArtistDF = artistByID.filter(lambda s: artistNames(s) == True).toDF(['artistID','name']).cache()\n",
    "recArtistDF_withAudience =(\n",
    "    recArtistDF\n",
    "    .join(ArtistsAS_clean, recArtistDF.artistID == ArtistsAS_clean.artistID, \"left_outer\")\n",
    "    .drop(ArtistsAS_clean.artistID)\n",
    "    .drop(ArtistsAS_clean.name)\n",
    ")\n",
    "recArtistDF_withAudience.show()"
   ]
  },
  {
   "cell_type": "markdown",
   "metadata": {},
   "source": [
    "We can see that the model recommends artists of the same genre of the listened ones. Looking at the recommended artists, we can state that generally they are more famous than the listened ones. So the model seems to recommend artists with high audience. Let's see if we have the same behaviour for an other user. "
   ]
  },
  {
   "cell_type": "code",
   "execution_count": 71,
   "metadata": {
    "collapsed": false
   },
   "outputs": [
    {
     "name": "stdout",
     "output_type": "stream",
     "text": [
      "Artists listened by user 1000002:\n",
      "+--------+--------------------+-------------+\n",
      "|artistID|                name|audience_size|\n",
      "+--------+--------------------+-------------+\n",
      "|    5409|                 AFI|        14296|\n",
      "| 1003514|          Chuck Loeb|           82|\n",
      "| 1004346|       Joshua Redman|          323|\n",
      "|    1224|    Joan Armatrading|          846|\n",
      "|    3009|         Kula Shaker|         2588|\n",
      "|    4371|        Lostprophets|        11977|\n",
      "| 1000674|       Harvey Danger|         3529|\n",
      "| 1000840|        Lee Ritenour|          246|\n",
      "| 1003488|       Erroll Garner|          204|\n",
      "|    2184|         Julian Cope|          743|\n",
      "|    3327|              Weezer|        31951|\n",
      "| 1001008|          Buckcherry|         1464|\n",
      "| 6691692|                渡辺貞夫|           66|\n",
      "| 1004378|       Marilyn Scott|           20|\n",
      "| 1052993|               metro|          129|\n",
      "| 1284697|Benny Goodman & P...|           54|\n",
      "| 2100785|               ג'נגו|           21|\n",
      "| 1036431|     Luciano Ligabue|          158|\n",
      "| 1053817|      Stanley Jordan|          210|\n",
      "|    3296|        James Taylor|         4860|\n",
      "+--------+--------------------+-------------+\n",
      "only showing top 20 rows\n",
      "\n",
      "The audience size average of the artists listened by user 1000002 is:\n",
      "+------------------+\n",
      "|avg(audience_size)|\n",
      "+------------------+\n",
      "| 4191.457280385078|\n",
      "+------------------+\n",
      "\n",
      "Top 5 recommended artists:\n",
      "+--------+------------+-------------+\n",
      "|artistID|        name|audience_size|\n",
      "+--------+------------+-------------+\n",
      "|    1428|Eric Clapton|        16112|\n",
      "|    3150|  The Police|        13359|\n",
      "| 1000188|Dire Straits|        12257|\n",
      "|    1270|       Queen|        28457|\n",
      "|    1205|          U2|        34853|\n",
      "+--------+------------+-------------+\n",
      "\n"
     ]
    }
   ],
   "source": [
    "print('Artists listened by user 1000002:')\n",
    "artistsListenedByUser1000002 = (\n",
    "    userArtist_cleanDF\n",
    "    .filter(userArtist_cleanDF['userID'] == 1000002)\n",
    "    .drop(userArtist_cleanDF.playCount)\n",
    "    .join(artistDF, userArtist_cleanDF.artistID == artistDF.artistID, \"left_outer\")\n",
    "    .drop(artistDF.artistID)\n",
    "    .join(ArtistsAS_clean, userArtist_cleanDF.artistID == ArtistsAS_clean.artistID, \"left_outer\")\n",
    "    .drop(ArtistsAS_clean.artistID)\n",
    "    .drop(ArtistsAS_clean.name)\n",
    "    .drop(userArtist_cleanDF.userID)\n",
    ")\n",
    "\n",
    "artistsListenedByUser1000002.show()\n",
    "\n",
    "print (\"The audience size average of the artists listened by user 1000002 is:\")\n",
    "artistsListenedByUser1000002.select('audience_size').groupBy().avg().show()\n",
    "\n",
    "\n",
    "# Make five reccommendations to user 2093760\n",
    "recommendations_2 = (model.recommendProducts(1000002,5))\n",
    "# construct set of recommendated artists\n",
    "#this is a set of the recommended aritsts\n",
    "recArtist_2= set(r[1] for r in recommendations_2)\n",
    "\n",
    "\n",
    "def artistNames_2(line):\n",
    "#     [artistID, name]\n",
    "    if (line[0] in recArtist_2):\n",
    "        return True\n",
    "    else:\n",
    "        return False\n",
    "\n",
    "recList_2 = artistByID.filter(lambda s: artistNames_2(s) == True).values().collect()\n",
    "\n",
    "print('Top 5 recommended artists:')\n",
    "recArtistDF_2 = artistByID.filter(lambda s: artistNames_2(s) == True).toDF(['artistID','name']).cache()\n",
    "(\n",
    "    recArtistDF_2\n",
    "    .join(ArtistsAS_clean, recArtistDF_2.artistID == ArtistsAS_clean.artistID, \"left_outer\")\n",
    "    .drop(ArtistsAS_clean.artistID)\n",
    "    .drop(ArtistsAS_clean.name)\n",
    "    .show()\n",
    ")"
   ]
  },
  {
   "cell_type": "markdown",
   "metadata": {},
   "source": [
    "As we can see the audience of the recommended artists is always greater than the audience of the artists listened by this user"
   ]
  },
  {
   "cell_type": "markdown",
   "metadata": {},
   "source": [
    "#### IMPORTANT NOTE\n",
    "\n",
    "At the moment, it is necessary to manually unpersist the RDDs inside the model when you are done with it. The following function can be used to make sure models are promptly uncached."
   ]
  },
  {
   "cell_type": "code",
   "execution_count": 137,
   "metadata": {
    "collapsed": false
   },
   "outputs": [],
   "source": [
    "\n",
    "def unpersist(model):\n",
    "    model.userFeatures().unpersist()\n",
    "    model.productFeatures().unpersist()\n",
    "\n",
    "# uncache data and model when they are no longer used  \n",
    "unpersist(model)"
   ]
  },
  {
   "cell_type": "markdown",
   "metadata": {
    "collapsed": true
   },
   "source": [
    "## 3.5 Evaluating Recommendation Quality \n",
    "\n",
    "In this section, we study how to evaluate the quality of our model. It's hard to say how good the recommendations are.\n",
    "One of serveral methods approach to evaluate  a recommender based on its ability to rank good items (artists) high in a list of recommendations. The problem is how to define \"good artists\". Currently, by training all data, \"good artists\" is defined as \"artists the user has listened to\", and the recommender system has already received all of this information as input. It could trivially return the users previously-listened artists as top recommendations and score perfectly. Indeed, this is not useful, because the recommender's is used to recommend artists that the user has **never** listened to. \n",
    "\n",
    "To overcome that problem, we can hide the some of the artist play data and only use the rest to train model. Then, this held-out data can be interpreted as a collection of \"good\" recommendations for each user. The recommender is asked to rank all items in the model, and the rank of the held-out artists are examined. Ideally the recommender places all of them at or near the top of the list.\n",
    "\n",
    "The recommender's score can then be computed by comparing all held-out artists' ranks to the rest.  The fraction of pairs where the held-out artist is ranked higher is its score. 1.0 is perfect, 0.0 is the worst possible score, and 0.5 is the expected value achieved from randomly ranking artists. \n",
    "\n",
    "AUC(Area Under the Curve) can be used as a metric to evaluate model. It is also viewed as the probability that a randomly-chosen \"good\" artist ranks above a randomly-chosen \"bad\" artist.\n",
    "\n",
    "Next, we split the training data into 2 parts: `trainData` and `cvData` with ratio 0.9:0.1 respectively, where `trainData` is the dataset that will be used to train model. Then we write a function to calculate AUC to evaluate the quality of our model.\n"
   ]
  },
  {
   "cell_type": "markdown",
   "metadata": {},
   "source": [
    "### Question 9\n",
    "\n",
    "#### Question 9.1\n",
    "Split the data into `trainData` and `cvData` with ratio 0.9:0.1 and use the first part to train a statistic model with:\n",
    "\n",
    "- rank=10\n",
    "- iterations=5\n",
    "- lambda_=0.01\n",
    "- alpha=1.0"
   ]
  },
  {
   "cell_type": "markdown",
   "metadata": {},
   "source": [
    "```python\n",
    "trainData, cvData = allData.randomSplit ...\n",
    "trainData.cache()\n",
    "cvData.cache()\n",
    "```"
   ]
  },
  {
   "cell_type": "markdown",
   "metadata": {},
   "source": [
    "```python\n",
    "t0 = time()\n",
    "model = ALS.trainImplicit( ... )\n",
    "t1 = time()\n",
    "print(\"finish training model in %f secs\" % (t1 - t0))\n",
    "```"
   ]
  },
  {
   "cell_type": "code",
   "execution_count": 63,
   "metadata": {
    "collapsed": false
   },
   "outputs": [
    {
     "data": {
      "text/plain": [
       "PythonRDD[1019] at RDD at PythonRDD.scala:48"
      ]
     },
     "execution_count": 63,
     "metadata": {},
     "output_type": "execute_result"
    }
   ],
   "source": [
    "trainData, cvData = allData.randomSplit([9,1])\n",
    "trainData.cache()\n",
    "cvData.cache()"
   ]
  },
  {
   "cell_type": "code",
   "execution_count": 64,
   "metadata": {
    "collapsed": false
   },
   "outputs": [
    {
     "name": "stdout",
     "output_type": "stream",
     "text": [
      "finish training model in 30.688690 secs\n"
     ]
    }
   ],
   "source": [
    "t0 = time()\n",
    "model = ALS.trainImplicit(ratings=trainData, rank=10, iterations=5, lambda_=0.01, alpha=1.0)\n",
    "t1 = time()\n",
    "print(\"finish training model in %f secs\" % (t1 - t0))"
   ]
  },
  {
   "cell_type": "markdown",
   "metadata": {},
   "source": [
    "#### Area under the ROC curve: a function to compute it"
   ]
  },
  {
   "cell_type": "code",
   "execution_count": 65,
   "metadata": {
    "collapsed": true
   },
   "outputs": [],
   "source": [
    "# Get all unique artistId, and broadcast them\n",
    "allItemIDs = np.array(allData.map(lambda x: x[1]).distinct().collect())\n",
    "bAllItemIDs = sc.broadcast(allItemIDs)"
   ]
  },
  {
   "cell_type": "code",
   "execution_count": 129,
   "metadata": {
    "collapsed": false
   },
   "outputs": [],
   "source": [
    "from random import randint\n",
    "\n",
    "# Depend on the number of item in userIDAndPosItemIDs,\n",
    "# create a set of \"negative\" products for each user. These are randomly chosen\n",
    "# from among all of the other items, excluding those that are \"positive\" for the user.\n",
    "# NOTE 1: mapPartitions operates on many (user,positive-items) pairs at once\n",
    "# NOTE 2: flatMap breaks the collections above down into one big set of tuples\n",
    "def xtractNegative(userIDAndPosItemIDs):\n",
    "    def pickEnoughNegatives(line):\n",
    "        userID = line[0]\n",
    "        posItemIDSet = set(line[1])\n",
    "        #posItemIDSet = line[1]\n",
    "        negative = []\n",
    "        allItemIDs = bAllItemIDs.value\n",
    "        # Keep about as many negative examples per user as positive. Duplicates are OK.\n",
    "        i = 0\n",
    "        while (i < len(allItemIDs) and len(negative) < len(posItemIDSet)):\n",
    "            itemID = allItemIDs[randint(0,len(allItemIDs)-1)]\n",
    "            if itemID not in posItemIDSet:\n",
    "                negative.append(itemID)\n",
    "            i += 1\n",
    "        \n",
    "        # Result is a collection of (user,negative-item) tuples\n",
    "        return map(lambda itemID: (userID, itemID), negative)\n",
    "\n",
    "    # Init an RNG and the item IDs set once for partition\n",
    "    # allItemIDs = bAllItemIDs.value\n",
    "    return map(pickEnoughNegatives, userIDAndPosItemIDs)\n",
    "\n",
    "def ratioOfCorrectRanks(positiveRatings, negativeRatings):\n",
    "    \n",
    "    # find number elements in arr that has index >= start and has value smaller than x\n",
    "    # arr is a sorted array\n",
    "    def findNumElementsSmallerThan(arr, x, start=0):\n",
    "        left = start\n",
    "        right = len(arr) -1\n",
    "        # if x is bigger than the biggest element in arr\n",
    "        if start > right or x > arr[right]:\n",
    "            return right + 1\n",
    "        mid = -1\n",
    "        while left <= right:\n",
    "            mid = (left + right) // 2\n",
    "            if arr[mid] < x:\n",
    "                left = mid + 1\n",
    "            elif arr[mid] > x:\n",
    "                right = mid - 1\n",
    "            else:\n",
    "                while mid-1 >= start and arr[mid-1] == x:\n",
    "                    mid -= 1\n",
    "                return mid\n",
    "        return mid if arr[mid] > x else mid + 1\n",
    "    \n",
    "    ## AUC may be viewed as the probability that a random positive item scores\n",
    "    ## higher than a random negative one. Here the proportion of all positive-negative\n",
    "    ## pairs that are correctly ranked is computed. The result is equal to the AUC metric.\n",
    "    correct = 0 ## L\n",
    "    total = 0 ## L\n",
    "    \n",
    "    # sorting positiveRatings array needs more cost\n",
    "    #positiveRatings = np.array(map(lambda x: x.rating, positiveRatings))\n",
    "\n",
    "    negativeRatings = list(map(lambda x:x.rating, negativeRatings))\n",
    "    \n",
    "    #np.sort(positiveRatings)\n",
    "    negativeRatings.sort()# = np.sort(negativeRatings)\n",
    "    total = len(positiveRatings)*len(negativeRatings)\n",
    "    \n",
    "    for positive in positiveRatings:\n",
    "        # Count the correctly-ranked pairs\n",
    "        correct += findNumElementsSmallerThan(negativeRatings, positive.rating)\n",
    "        \n",
    "    ## Return AUC: fraction of pairs ranked correctly\n",
    "    return float(correct) / total\n",
    "\n",
    "def calculateAUC(positiveData, bAllItemIDs, predictFunction):\n",
    "    # Take held-out data as the \"positive\", and map to tuples\n",
    "    positiveUserProducts = positiveData.map(lambda r: (r[0], r[1]))\n",
    "    # Make predictions for each of them, including a numeric score, and gather by user\n",
    "    positivePredictions = predictFunction(positiveUserProducts).groupBy(lambda r: r.user)\n",
    "    \n",
    "    # Create a set of \"negative\" products for each user. These are randomly chosen \n",
    "    # from among all of the other items, excluding those that are \"positive\" for the user. \n",
    "    negativeUserProducts = positiveUserProducts.groupByKey().mapPartitions(xtractNegative).flatMap(lambda x: x)\n",
    "    # Make predictions on the rest\n",
    "    negativePredictions = predictFunction(negativeUserProducts).groupBy(lambda r: r.user)\n",
    "    \n",
    "    return (\n",
    "            positivePredictions.join(negativePredictions)\n",
    "                .values()\n",
    "                .map(\n",
    "                    lambda positive_negativeRatings: ratioOfCorrectRanks(positive_negativeRatings[0], positive_negativeRatings[1])\n",
    "                )\n",
    "                .mean()\n",
    "            )"
   ]
  },
  {
   "cell_type": "markdown",
   "metadata": {},
   "source": [
    "####  Question 9.2\n",
    "Using part `cvData` and function `calculateAUC` to compute the AUC of the trained model."
   ]
  },
  {
   "cell_type": "markdown",
   "metadata": {},
   "source": [
    "```python\n",
    "t0 = time()\n",
    "auc = calculateAUC( ... , ..., model.predictAll)\n",
    "t1 = time()\n",
    "print(\"auc=\",auc)\n",
    "print(\"finish in %f seconds\" % (t1 - t0))\n",
    "```"
   ]
  },
  {
   "cell_type": "code",
   "execution_count": 67,
   "metadata": {
    "collapsed": false
   },
   "outputs": [
    {
     "name": "stdout",
     "output_type": "stream",
     "text": [
      "auc= 0.9685841748617482\n",
      "finish in 21.016390 seconds\n"
     ]
    }
   ],
   "source": [
    "t0 = time()\n",
    "auc = calculateAUC(cvData, bAllItemIDs, model.predictAll)\n",
    "t1 = time()\n",
    "print(\"auc=\",auc)\n",
    "print(\"finish in %f seconds\" % (t1 - t0))"
   ]
  },
  {
   "cell_type": "markdown",
   "metadata": {},
   "source": [
    "#### Question 9.3\n",
    "Now we have the UAC of our model, it’s helpful to benchmark this against a simpler approach. For example, consider recommending the globally most-played artists to every user. This is not personalized, but is simple and may be effective. \n",
    "\n",
    "Implement this simple pupolarity-based prediction algorithm, evaluate its AUC score, and compare to the results achieved by the more sophisticated ALS algorithm."
   ]
  },
  {
   "cell_type": "markdown",
   "metadata": {},
   "source": [
    "```python\n",
    "bListenCount = sc.broadcast(trainData.map(lambda r: (r[1], r[2])).reduceByKey(...).collectAsMap())\n",
    "def predictMostListened(allData):\n",
    "    return allData.map(lambda r: Rating(r[0], r[1], bListenCount.value.get( ... , 0.0)))\n",
    "```"
   ]
  },
  {
   "cell_type": "markdown",
   "metadata": {},
   "source": [
    "```python\n",
    "auc = calculateAUC(..., ..., predictMostListened)\n",
    "print(auc)\n",
    "```"
   ]
  },
  {
   "cell_type": "code",
   "execution_count": 68,
   "metadata": {
    "collapsed": true
   },
   "outputs": [],
   "source": [
    "bListenCount = sc.broadcast(trainData.map(lambda r: (r[1], r[2])).reduceByKey(lambda rate1,rate2: rate1 + rate2).collectAsMap())\n",
    "def predictMostListened(allData):\n",
    "    return allData.map(lambda r: Rating(r[0], r[1], bListenCount.value.get( r[1] , 0.0)))"
   ]
  },
  {
   "cell_type": "code",
   "execution_count": 69,
   "metadata": {
    "collapsed": false,
    "scrolled": true
   },
   "outputs": [
    {
     "name": "stdout",
     "output_type": "stream",
     "text": [
      "0.939015517648552\n"
     ]
    }
   ],
   "source": [
    "auc = calculateAUC(cvData, bAllItemIDs, predictMostListened)\n",
    "print(auc)"
   ]
  },
  {
   "cell_type": "markdown",
   "metadata": {},
   "source": [
    "If we compare the auc of the simple model with that of the model obtained using ALS, we can see that ALS wins."
   ]
  },
  {
   "cell_type": "markdown",
   "metadata": {
    "collapsed": true
   },
   "source": [
    "## 3.6 Personalized recommendations with ALS\n",
    "\n",
    "In the previous section, we build our models with some given paramters without any knowledge about them. Actually, choosing the best parameters' values is very important. It can significantly affect the quality of models. Especially, with the current implementation of ALS in MLLIB, these parameters are not learned by the algorithm, and must be chosen by the caller. The following parameters should get consideration before training models:\n",
    "\n",
    "* `rank = 10`: the number of latent factors in the model, or equivalently, the number of columns $k$ in the user-feature and product-feature matrices. In non-trivial cases, this is also their rank. \n",
    "\n",
    "* `iterations = 5`: the number of iterations that the factorization runs. Instead of runing the algorithm until RMSE converged which actually takes very long time to finish with large datasets, we only let it run in a given number of iterations. More iterations take more time but may produce a better factorization.\n",
    "\n",
    "* `lambda_ = 0.01`: a standard overfitting parameter. Higher values resist overfitting, but values that are too high hurt the factorization's accuracy.\n",
    "\n",
    "*  `alpha = 1.0`: controls the relative weight of observed versus unobserved userproduct interactions in the factorization. \n",
    "\n",
    "Although all of them have impact on the models' quality, `iterations` is more of a constraint on resources used in the factorization. So, `rank`, `lambda_` and `alpha` can be considered hyperparameters to the model. \n",
    "We will try to find \"good\" values for them. Indeed, the values of hyperparameter are not necessarily optimal. Choosing good hyperparameter values is a common problem in machine learning. The most basic way to choose values is to simply try combinations of values and evaluate a metric for each of them, and choose the combination that produces the best value of the metric. \n"
   ]
  },
  {
   "cell_type": "markdown",
   "metadata": {
    "collapsed": true
   },
   "source": [
    "### Question 10\n",
    "\n",
    "#### Question 10.1\n",
    "For simplicity, assume that we want to explore the following parameter space: $ rank \\in \\{10, 50\\}$, $lambda\\_ \\in \\{1.0, 0.0001\\}$ and $alpha \\in \\{1.0, 40.0\\}$.\n",
    "\n",
    "Find the best combination of them in terms of the highest AUC value."
   ]
  },
  {
   "cell_type": "markdown",
   "metadata": {},
   "source": [
    "```python\n",
    "evaluations = []\n",
    "\n",
    "for rank in [10, 50]:\n",
    "    for lambda_ in [1.0, 0.0001]:\n",
    "        for alpha in [1.0, 40.0]:\n",
    "            print(\"Train model with rank=%d lambda_=%f alpha=%f\" % (rank, lambda_, alpha))\n",
    "            # with each combination of params, we should run multiple times and get avg\n",
    "            # for simple, we only run one time.\n",
    "            model = ALS.trainImplicit( ... )\n",
    "            \n",
    "            auc = calculateAUC( ... )\n",
    "            \n",
    "            evaluations.append(((rank, lambda_, alpha), auc))\n",
    "            \n",
    "            unpersist(model)\n",
    "\n",
    "evaluations.sort( ... )\n",
    "                 \n",
    "evalDataFrame = pd.DataFrame(data=evaluations)\n",
    "print(evalDataFrame)\n",
    "\n",
    "trainData.unpersist()\n",
    "cvData.unpersist()\n",
    "```"
   ]
  },
  {
   "cell_type": "code",
   "execution_count": 139,
   "metadata": {
    "collapsed": false
   },
   "outputs": [
    {
     "name": "stdout",
     "output_type": "stream",
     "text": [
      "Train model with rank=10 lambda_=1.000000 alpha=1.000000\n",
      "Train model with rank=10 lambda_=1.000000 alpha=40.000000\n",
      "Train model with rank=10 lambda_=0.000100 alpha=1.000000\n",
      "Train model with rank=10 lambda_=0.000100 alpha=40.000000\n",
      "Train model with rank=50 lambda_=1.000000 alpha=1.000000\n",
      "Train model with rank=50 lambda_=1.000000 alpha=40.000000\n",
      "Train model with rank=50 lambda_=0.000100 alpha=1.000000\n",
      "Train model with rank=50 lambda_=0.000100 alpha=40.000000\n"
     ]
    }
   ],
   "source": [
    "evaluations = []\n",
    "\n",
    "for rank in [10, 50]:\n",
    "    for lambda_ in [1.0, 0.0001]:\n",
    "        for alpha in [1.0, 40.0]:\n",
    "            print(\"Train model with rank=%d lambda_=%f alpha=%f\" % (rank, lambda_, alpha))\n",
    "            # with each combination of params, we should run multiple times and get avg\n",
    "            # for simple, we only run one time.\n",
    "            model = ALS.trainImplicit(ratings=trainData, rank=rank, iterations=5, lambda_=lambda_, alpha=alpha)\n",
    "            \n",
    "            auc = calculateAUC( cvData, bAllItemIDs, model.predictAll )\n",
    "            \n",
    "            evaluations.append(((rank, lambda_, alpha), auc))\n",
    "            \n",
    "            unpersist(model)"
   ]
  },
  {
   "cell_type": "code",
   "execution_count": 160,
   "metadata": {
    "collapsed": false
   },
   "outputs": [
    {
     "name": "stdout",
     "output_type": "stream",
     "text": [
      "                    0         1\n",
      "0     (10, 1.0, 40.0)  0.976819\n",
      "1     (50, 1.0, 40.0)  0.976639\n",
      "2  (50, 0.0001, 40.0)  0.975961\n",
      "3  (10, 0.0001, 40.0)  0.975530\n",
      "4      (10, 1.0, 1.0)  0.970187\n",
      "5      (50, 1.0, 1.0)  0.967288\n",
      "6   (10, 0.0001, 1.0)  0.965071\n",
      "7   (50, 0.0001, 1.0)  0.953764\n",
      "the best parameters are: rank=10 lambda=1.000000 alpha=40.000000 \n"
     ]
    }
   ],
   "source": [
    "evaluations.sort(key=lambda table:table[1], reverse=True)\n",
    "                 \n",
    "evalDataFrame = pd.DataFrame(data=evaluations)\n",
    "print(evalDataFrame)\n",
    "\n",
    "trainData.unpersist()\n",
    "cvData.unpersist()\n",
    "print('the best parameters are: rank=%d lambda=%f alpha=%f ' % (evalDataFrame[0][0][0],evalDataFrame[0][0][1],evalDataFrame[0][0][2]))"
   ]
  },
  {
   "cell_type": "markdown",
   "metadata": {
    "collapsed": true
   },
   "source": [
    "#### Question 10.2 \n",
    "\n",
    "Using \"optimal\" hyper-parameters in question 10.1, re-train the model and show top-5 artist names recommendated for user 2093760."
   ]
  },
  {
   "cell_type": "markdown",
   "metadata": {},
   "source": [
    "```python\n",
    "model = ALS.trainImplicit( ... )\n",
    "allData.unpersist()\n",
    "\n",
    "userID = 2093760\n",
    "recommendations = model.recommendProducts(...)\n",
    "\n",
    "recommendedProductIDs = set( ... )\n",
    "\n",
    "recList = artistByID. ...\n",
    "print(recList)\n",
    "\n",
    "unpersist(model)\n",
    "```"
   ]
  },
  {
   "cell_type": "code",
   "execution_count": 163,
   "metadata": {
    "collapsed": false
   },
   "outputs": [
    {
     "name": "stdout",
     "output_type": "stream",
     "text": [
      "['50 Cent', 'Jay-Z', 'Kanye West', '2Pac', 'The Game']\n"
     ]
    }
   ],
   "source": [
    "model = ALS.trainImplicit(ratings=allData, rank=evalDataFrame[0][0][0],iterations=5, lambda_=evalDataFrame[0][0][1],alpha=evalDataFrame[0][0][2])\n",
    "allData.unpersist()\n",
    "\n",
    "userID = 2093760\n",
    "recommendations = model.recommendProducts(userID ,5)\n",
    "\n",
    "recommendedProductIDs =  set([r[1] for r in recommendations]) \n",
    "recList = artistByID.filter(lambda s: artistNames(s)==True).values().collect()\n",
    "print(recList)"
   ]
  },
  {
   "cell_type": "markdown",
   "metadata": {},
   "source": [
    "We note that using the best parameters the result does not change for this specific user. Maybe it's quite easy to recommend artists for this user."
   ]
  },
  {
   "cell_type": "markdown",
   "metadata": {},
   "source": [
    "Now we would like to plot the user features, but they are too much, thus we train the model setting rank=2"
   ]
  },
  {
   "cell_type": "code",
   "execution_count": 229,
   "metadata": {
    "collapsed": false
   },
   "outputs": [
    {
     "data": {
      "text/plain": [
       "MapPartitionsRDD[5079] at coalesce at NativeMethodAccessorImpl.java:0"
      ]
     },
     "execution_count": 229,
     "metadata": {},
     "output_type": "execute_result"
    }
   ],
   "source": [
    "model = ALS.trainImplicit(ratings=allData, rank=2, iterations=5, lambda_=evalDataFrame[0][0][1],alpha=evalDataFrame[0][0][2])\n",
    "model_2 = ALS.trainImplicit(ratings=allData, rank=2, iterations=5, lambda_=evalDataFrame[0][0][1],alpha=evalDataFrame[0][0][2])\n",
    "allData.unpersist()"
   ]
  },
  {
   "cell_type": "code",
   "execution_count": 230,
   "metadata": {
    "collapsed": false
   },
   "outputs": [],
   "source": [
    "features = list(zip(*[prod[1] for prod in model.userFeatures().collect()]))\n",
    "features_2 = list(zip(*[prod[1] for prod in model_2.userFeatures().collect()]))"
   ]
  },
  {
   "cell_type": "code",
   "execution_count": 233,
   "metadata": {
    "collapsed": false
   },
   "outputs": [
    {
     "name": "stderr",
     "output_type": "stream",
     "text": [
      "/opt/conda/lib/python3.5/site-packages/matplotlib/collections.py:590: FutureWarning: elementwise comparison failed; returning scalar instead, but in the future will perform elementwise comparison\n",
      "  if self._edgecolors == str('face'):\n"
     ]
    },
    {
     "data": {
      "image/png": "[encoded data removed]",
      "text/plain": [
       "<matplotlib.figure.Figure at 0x7f3859b65860>"
      ]
     },
     "metadata": {},
     "output_type": "display_data"
    }
   ],
   "source": [
    "plt.figure(figsize=(15,10))\n",
    "plt.subplot(121)\n",
    "plt.scatter(features[0], features[1])\n",
    "plt.xlabel('feature 0')\n",
    "plt.ylabel('feature 1')\n",
    "plt.grid(True,which=\"both\",ls=\"-\")\n",
    "plt.title('User distribution in the feature-space', fontsize=20)\n",
    "\n",
    "\n",
    "plt.subplot(122)\n",
    "plt.scatter(features_2[0], features_2[1])\n",
    "plt.xlabel('feature 0')\n",
    "plt.ylabel('feature 1')\n",
    "plt.grid(True,which=\"both\",ls=\"-\")\n",
    "plt.title('User distribution in the feature-space', fontsize=20)\n",
    "plt.show()\n"
   ]
  },
  {
   "cell_type": "markdown",
   "metadata": {},
   "source": [
    "We tried to plot the user features in a 2D space in order to look at some pattern, but we verified that every time we train our model we obtain different features. This probably depends from ALS."
   ]
  },
  {
   "cell_type": "markdown",
   "metadata": {},
   "source": [
    "# Summary\n",
    "\n",
    "In this notebook, we introduce an algorithm to do matrix factorization and the way of using it to make recommendation. Further more, we studied how to build a large-scale recommender system on SPARK using ALS algorithm and evaluate its quality. Finally, a simple approach to choose good parameters is mentioned."
   ]
  },
  {
   "cell_type": "markdown",
   "metadata": {
    "collapsed": true
   },
   "source": [
    "# References\n",
    "\n",
    "- The example in section 2 is taken from [Recommender system](infolab.stanford.edu/~ullman/mmds/ch9.pdf)"
   ]
  },
  {
   "cell_type": "markdown",
   "metadata": {
    "collapsed": true
   },
   "source": [
    "# Unknown and various artists"
   ]
  },
  {
   "cell_type": "markdown",
   "metadata": {},
   "source": [
    "During our analysis we have spotted these two artist names that are suspicious. In order to better understand how this can affect our recommendation, we decided to do a more detailed analysis. We specify that these two artists are still in our data after the cleaning phase"
   ]
  },
  {
   "cell_type": "code",
   "execution_count": 126,
   "metadata": {
    "collapsed": false
   },
   "outputs": [
    {
     "name": "stdout",
     "output_type": "stream",
     "text": [
      "+--------+---------------------------+---------+\n",
      "|artistID|name                       |playCount|\n",
      "+--------+---------------------------+---------+\n",
      "|1034635 |[unknown]                  |429447   |\n",
      "|393     |Various Artists            |134053   |\n",
      "|4629    |Unknown                    |16795    |\n",
      "|10213468|Artista desconhecido       |3410     |\n",
      "|6631690 |Spain In My Heart (Various)|2365     |\n",
      "|1322331 |Tracktor Bowling           |2049     |\n",
      "|1044731 |Unknown Source             |1395     |\n",
      "|1192790 |Tracker                    |1298     |\n",
      "|1099733 |Various Classical          |1214     |\n",
      "|1048037 |Unknown Prophets           |1191     |\n",
      "|1018255 |Track Star                 |1172     |\n",
      "|1031391 |Various Composers          |1120     |\n",
      "|6613024 |Various (Soundtrack)       |1120     |\n",
      "|6916755 |Unknown Forces             |1001     |\n",
      "|1060952 |Artista                    |807      |\n",
      "|10219373|Artistes variés            |668      |\n",
      "|6669292 |Unknown, zircon            |537      |\n",
      "|1093423 |Warp Records Various       |485      |\n",
      "|1091020 |Artisti Vari               |475      |\n",
      "|6865191 |Oasis_Various              |469      |\n",
      "+--------+---------------------------+---------+\n",
      "only showing top 20 rows\n",
      "\n"
     ]
    }
   ],
   "source": [
    "import re\n",
    "pattern_vau = re.compile(r'.*Various|unknown|Artist|Track.*|\\[unknown\\]', re.IGNORECASE)\n",
    "\n",
    "userArtistName = (\n",
    "    userArtist_cleanDF\n",
    "    .join(artistDF, userArtist_cleanDF.artistID == artistDF.artistID, \"left_outer\")\n",
    "    .drop(artistDF.artistID).cache()\n",
    ") \n",
    "\n",
    "ArtistName_filtered = userArtistName.drop('userID').rdd.filter(lambda line : pattern_vau.match(str(line[2]))).toDF(['artistID' ,'playCount','name']).cache()\n",
    "ArtistName_filtered_grouped = ArtistName_filtered.groupBy('artistID', 'name').sum('playCount').withColumnRenamed(\"sum(playCount)\", \"playCount\").cache()\n",
    "ArtistName_filtered_grouped.orderBy('playCount', ascending=0).show(20, truncate=False)"
   ]
  },
  {
   "cell_type": "markdown",
   "metadata": {},
   "source": [
    "Here we filtered the artists with suspicious names: names that contains 'Various','(Unknown','Artist'. From the resulting table we can see that many of them have a very large play count, in fact thay are above the 95% percentile. This is particularly true for the top 3, which are above the 99% percentile. Looking at the names, we can see that many of them are actually fake names, which can corrupt our recommendation system. Since we do not have a method to filter them without removing legit artist, we decided to remove only the top 3, which have an high play count and they are absolutely fake artist. When we look at other artists in the table, there are some example of artists with suspicious names but actually legit e.g. 'pain In My Heart', 'Unknown Source', 'Unknown Prophets'."
   ]
  },
  {
   "cell_type": "code",
   "execution_count": 127,
   "metadata": {
    "collapsed": false
   },
   "outputs": [
    {
     "name": "stdout",
     "output_type": "stream",
     "text": [
      "+--------+---------------------------------------------------------+---------+\n",
      "|artistID|name                                                     |playCount|\n",
      "+--------+---------------------------------------------------------+---------+\n",
      "|1259    |Oasis                                                    |605582   |\n",
      "|6865191 |Oasis_Various                                            |469      |\n",
      "|10078008|Green Day vs. Oasis vs. Travis vs. Eminem & Aerosmith    |214      |\n",
      "|10006634|Green Day vs. Oasis vs. Travis (vs. Aerosmith) vs. Eminem|180      |\n",
      "|6912244 |Green Day vs. Oasis vs. Travis vs. Eminem                |135      |\n",
      "|1018820 |Oasis with Paul Weller                                   |129      |\n",
      "|1350280 |Oasis & Robbie Williams                                  |120      |\n",
      "|1278325 |DJ Oasis                                                 |111      |\n",
      "|10709378|Oasis - Dont believe the Truth                           |109      |\n",
      "|10500926|Greenday vs Oasis vs Travis vs Eminem                    |108      |\n",
      "|6697142 |Franz Ferdinand VS Oasis VS NIN                          |103      |\n",
      "|10138053|oasis collaborating omar-s                               |86       |\n",
      "|6960741 |Green Day vs. Oasis vs. Travis vs. Aerosmith vs. Eminem  |82       |\n",
      "|10383729|Green Day v. Oasis                                       |65       |\n",
      "|10356738|Oasis News                                               |64       |\n",
      "|10725428|Oasis (What's the Story...?)                             |62       |\n",
      "|10290523|Oasis Familiar                                           |57       |\n",
      "|10024645|Greenday/Oasis                                           |56       |\n",
      "|10011702|Green Day & Oasis                                        |55       |\n",
      "|10265683|Green Day vs. Oasis vs. Eminem                           |55       |\n",
      "+--------+---------------------------------------------------------+---------+\n",
      "only showing top 20 rows\n",
      "\n"
     ]
    }
   ],
   "source": [
    "pattern_oasis = re.compile(r'.*oasis.*', re.IGNORECASE)\n",
    "\n",
    "ArtistName_filtered = userArtistName.drop('userID').rdd.filter(lambda line : pattern_oasis.match(str(line[2]))).toDF(['artistID' ,'playCount','name']).cache()\n",
    "ArtistName_filtered_grouped = ArtistName_filtered.groupBy('artistID', 'name').sum('playCount').withColumnRenamed(\"sum(playCount)\", \"playCount\").cache()\n",
    "ArtistName_filtered_grouped.orderBy('playCount', ascending=0).show(20, truncate=False)"
   ]
  },
  {
   "cell_type": "markdown",
   "metadata": {},
   "source": [
    "Here we filtered artists that match the name 'oasis'. We can see that many of them are actually feats with other artists, while only the second should be joined in the original artist. Regarding the feats, we don't know if they should be counted in the main artist or not. Since we do not have a confident way to join these artists, we do not do nothing."
   ]
  },
  {
   "cell_type": "code",
   "execution_count": 128,
   "metadata": {
    "collapsed": true
   },
   "outputs": [],
   "source": [
    "#filter \n",
    "userArtistName_filtered = (\n",
    "userArtistName.filter((userArtistName.artistID!='1034635') & (userArtistName.artistID!='393') & (userArtistName.artistID!='4629') & (userArtistName.artistID!='10213468')&(userArtistName.artistID!='1000239')).cache()\n",
    ".drop('name')\n",
    ")"
   ]
  },
  {
   "cell_type": "markdown",
   "metadata": {},
   "source": [
    "We thought that maybe the artists with very low playCounts and audience could be spurious data like songs or radio or in general something that is not a a band or a singer. So we thought interesting to show the names of these aristis."
   ]
  },
  {
   "cell_type": "code",
   "execution_count": 77,
   "metadata": {
    "collapsed": false
   },
   "outputs": [
    {
     "name": "stdout",
     "output_type": "stream",
     "text": [
      "Here the artists with the lower audience size:\n",
      "+--------+----------------------------------------------------+-------------+\n",
      "|artistID|name                                                |audience_size|\n",
      "+--------+----------------------------------------------------+-------------+\n",
      "|1032195 |Justin T. and Kylie M.                              |1            |\n",
      "|1024248 |Gong Shapeshifter 12 Can Yo                         |1            |\n",
      "|1031729 |mysterious Cambodian band                           |1            |\n",
      "|1008612 |Mary Bue                                            |1            |\n",
      "|1023669 |M.M.Bosstones                                       |1            |\n",
      "|1027912 |Professional Sntk                                   |1            |\n",
      "|1031336 |(03) Ultraspank                                     |1            |\n",
      "|1000061 |Capdown (Bollucks is it)                            |1            |\n",
      "|1007893 |Jonn Serrie Midsummer Century Distant Moment (Axioms|1            |\n",
      "|1012072 |Zevon/Hiaasen                                       |1            |\n",
      "|1021122 |everybody sexareeno!                                |1            |\n",
      "|1024316 |[Buffer: 28%] Fire And Ice                          |1            |\n",
      "|1025397 |Mektar                                              |1            |\n",
      "|1030359 |Enfields                                            |1            |\n",
      "|1030780 |Don't Stop Get it Get it                            |1            |\n",
      "|2250    |Maru + Comix                                        |1            |\n",
      "|3506    |KingSize Records                                    |1            |\n",
      "|1006587 |Orbital and Sneaker Pimps                           |1            |\n",
      "|1007837 |Osunlade-Power To Conquer (HOUSEMUSIQUE             |1            |\n",
      "|1009621 |13 kincaid                                          |1            |\n",
      "+--------+----------------------------------------------------+-------------+\n",
      "only showing top 20 rows\n",
      "\n"
     ]
    }
   ],
   "source": [
    "print('Here the artists with the lower audience size:')\n",
    "ArtistsAS_clean.orderBy('audience_size', ascending=1).show(20, truncate=False)"
   ]
  },
  {
   "cell_type": "code",
   "execution_count": 78,
   "metadata": {
    "collapsed": false
   },
   "outputs": [
    {
     "name": "stdout",
     "output_type": "stream",
     "text": [
      "Here the artists with the lower associated playcounts:\n",
      "+--------+--------------------------------------------------------------+--------------+\n",
      "|artistID|name                                                          |sum(playCount)|\n",
      "+--------+--------------------------------------------------------------+--------------+\n",
      "|1050233 |Where the Heart Is Soundtrack                                 |1             |\n",
      "|1033378 |very funn                                                     |1             |\n",
      "|1047610 |Bobby Leecan and Robert Cooksey                               |1             |\n",
      "|1027912 |Professional Sntk                                             |1             |\n",
      "|1032195 |Justin T. and Kylie M.                                        |1             |\n",
      "|1040019 |dj spooky that subliminal kid vs. the freight elevator quartet|1             |\n",
      "|1046601 |NateFeat Warren G                                             |1             |\n",
      "|1021122 |everybody sexareeno!                                          |1             |\n",
      "|1025397 |Mektar                                                        |1             |\n",
      "|1030780 |Don't Stop Get it Get it                                      |1             |\n",
      "|1031336 |(03) Ultraspank                                               |1             |\n",
      "|1033670 |pharoahe monch, shabaamsahdeeq                                |1             |\n",
      "|1034507 |14-VA-Track 14                                                |1             |\n",
      "|1040113 |Black Black Heart (hidden track)                              |1             |\n",
      "|1042280 |Karat and Peter Maffey                                        |1             |\n",
      "|3506    |KingSize Records                                              |1             |\n",
      "|1007837 |Osunlade-Power To Conquer (HOUSEMUSIQUE                       |1             |\n",
      "|1024248 |Gong Shapeshifter 12 Can Yo                                   |1             |\n",
      "|1024316 |[Buffer: 28%] Fire And Ice                                    |1             |\n",
      "|1030359 |Enfields                                                      |1             |\n",
      "+--------+--------------------------------------------------------------+--------------+\n",
      "only showing top 20 rows\n",
      "\n"
     ]
    }
   ],
   "source": [
    "print('Here the artists with the lower associated playcounts:')\n",
    "ArtistsPC_clean.orderBy('sum(playCount)', ascending=1).show(20, truncate=False)"
   ]
  },
  {
   "cell_type": "markdown",
   "metadata": {
    "collapsed": true
   },
   "source": [
    "As we can note from the tables below there are a lot of fake names, mispelled strings, featurings, songs. However sometimes there are names that seem clean so a complete removal is not a good approach because we would delete almost 60% of the artists. Later we have seen that our model is still good also with this dirty data."
   ]
  },
  {
   "cell_type": "code",
   "execution_count": 79,
   "metadata": {
    "collapsed": true
   },
   "outputs": [],
   "source": [
    "allData_filtered = userArtistName_filtered.rdd.map(lambda r: Rating(r[0],r[1],r[2])).repartition(48).cache()"
   ]
  },
  {
   "cell_type": "code",
   "execution_count": 76,
   "metadata": {
    "collapsed": false
   },
   "outputs": [
    {
     "data": {
      "text/plain": [
       "PythonRDD[1285] at RDD at PythonRDD.scala:48"
      ]
     },
     "execution_count": 76,
     "metadata": {},
     "output_type": "execute_result"
    }
   ],
   "source": [
    "trainData_filtered, cvData_filtered = allData_filtered.randomSplit([9,1])\n",
    "trainData_filtered.cache()\n",
    "cvData_filtered.cache()"
   ]
  },
  {
   "cell_type": "code",
   "execution_count": 77,
   "metadata": {
    "collapsed": false
   },
   "outputs": [
    {
     "name": "stdout",
     "output_type": "stream",
     "text": [
      "[10616832  1277952 10084224 10385376 10535952]\n"
     ]
    }
   ],
   "source": [
    "allItemIDs = np.array(allData_filtered.map(lambda x: x[1]).distinct().collect())\n",
    "print(allItemIDs[0:5])\n",
    "bAllItemIDs = sc.broadcast(allItemIDs)"
   ]
  },
  {
   "cell_type": "code",
   "execution_count": 258,
   "metadata": {
    "collapsed": false
   },
   "outputs": [
    {
     "name": "stdout",
     "output_type": "stream",
     "text": [
      "Train model with rank=10 lambda_=1.000000 alpha=1.000000\n",
      "Train model with rank=10 lambda_=1.000000 alpha=40.000000\n",
      "Train model with rank=10 lambda_=0.000100 alpha=1.000000\n",
      "Train model with rank=10 lambda_=0.000100 alpha=40.000000\n",
      "Train model with rank=50 lambda_=1.000000 alpha=1.000000\n",
      "Train model with rank=50 lambda_=1.000000 alpha=40.000000\n",
      "Train model with rank=50 lambda_=0.000100 alpha=1.000000\n",
      "Train model with rank=50 lambda_=0.000100 alpha=40.000000\n"
     ]
    }
   ],
   "source": [
    "evaluations = []\n",
    "\n",
    "for rank in [10, 50]:\n",
    "    for lambda_ in [1.0, 0.0001]:\n",
    "        for alpha in [1.0, 40.0]:\n",
    "            print(\"Train model with rank=%d lambda_=%f alpha=%f\" % (rank, lambda_, alpha))\n",
    "            # with each combination of params, we should run multiple times and get avg\n",
    "            # for simple, we only run one time.\n",
    "            model = ALS.trainImplicit(ratings=trainData_filtered, rank=rank, iterations=5, lambda_=lambda_, alpha=alpha)\n",
    "            \n",
    "            auc = calculateAUC( cvData_filtered, bAllItemIDs, model.predictAll )\n",
    "            \n",
    "            evaluations.append(((rank, lambda_, alpha), auc))\n",
    "            \n",
    "            unpersist(model)"
   ]
  },
  {
   "cell_type": "code",
   "execution_count": 259,
   "metadata": {
    "collapsed": false
   },
   "outputs": [
    {
     "name": "stdout",
     "output_type": "stream",
     "text": [
      "                    0         1\n",
      "0     (10, 1.0, 40.0)  0.977152\n",
      "1     (50, 1.0, 40.0)  0.976802\n",
      "2  (10, 0.0001, 40.0)  0.976594\n",
      "3  (50, 0.0001, 40.0)  0.975720\n",
      "4      (10, 1.0, 1.0)  0.969548\n",
      "5      (50, 1.0, 1.0)  0.967503\n",
      "6   (10, 0.0001, 1.0)  0.966541\n",
      "7   (50, 0.0001, 1.0)  0.954540\n"
     ]
    },
    {
     "data": {
      "text/plain": [
       "(10, 1.0, 40.0)"
      ]
     },
     "execution_count": 259,
     "metadata": {},
     "output_type": "execute_result"
    }
   ],
   "source": [
    "evaluations.sort(key=lambda table:table[1], reverse=True)\n",
    "                 \n",
    "evalDataFrame = pd.DataFrame(data=evaluations)\n",
    "print(evalDataFrame)\n",
    "\n",
    "trainData_filtered.unpersist()\n",
    "cvData_filtered.unpersist()\n",
    "evalDataFrame[0][0]"
   ]
  },
  {
   "cell_type": "code",
   "execution_count": 260,
   "metadata": {
    "collapsed": false
   },
   "outputs": [
    {
     "name": "stdout",
     "output_type": "stream",
     "text": [
      "finish training model in 19.224348 secs\n"
     ]
    }
   ],
   "source": [
    "t0 = time()\n",
    "model_1 = ALS.trainImplicit(ratings=allData_filtered,rank=evalDataFrame[0][0][0],iterations=5,lambda_=evalDataFrame[0][0][1],alpha=evalDataFrame[0][0][2])\n",
    "\n",
    "t1 = time()\n",
    "print(\"finish training model in %f secs\" % (t1 - t0))\n"
   ]
  },
  {
   "cell_type": "code",
   "execution_count": 261,
   "metadata": {
    "collapsed": false
   },
   "outputs": [
    {
     "name": "stdout",
     "output_type": "stream",
     "text": [
      "{1058104, 930, 1001819, 1007614, 2814}\n",
      "['50 Cent', 'Jay-Z', '2Pac', 'Eminem', 'Gwen Stefani']\n"
     ]
    }
   ],
   "source": [
    "recommendations_1 = (model_1.recommendProducts(2093760,5))\n",
    "# construct set of recommendated artists\n",
    "#this is a set of the recommended aritsts\n",
    "recArtist_1= set(r[1] for r in recommendations_1)\n",
    "\n",
    "\n",
    "print(recArtist_1)\n",
    "\n",
    "\n",
    "def artistNames_1(line):\n",
    "#     [artistID, name]\n",
    "    if (line[0] in recArtist_1):\n",
    "        return True\n",
    "    else:\n",
    "        return False\n",
    "\n",
    "recList_1 = artistByID.filter(lambda s: artistNames_1(s) == True).values().collect()\n",
    "\n",
    "print(recList_1)"
   ]
  },
  {
   "cell_type": "markdown",
   "metadata": {},
   "source": [
    "As we can see, the model trained with the data filtered recommends different artists than before. The new artists suggested are Eminem and Gwen Stefani. They are still famous artist of rap/hip-hop genre."
   ]
  },
  {
   "cell_type": "markdown",
   "metadata": {},
   "source": [
    "# INVERSE PLAYCOUNT MODEL"
   ]
  },
  {
   "cell_type": "markdown",
   "metadata": {},
   "source": [
    "The big question is: when does lastfm register a playcount as effective? For example, if a user listen for 10 seconds a song and then he skips it, than we have a playcount or not?\n",
    "Unfortunately we have not found the answer, but we have the answer from another music company: Spotify.\n",
    "A song, in order to count, needs to be listened for 30 seconds.\n",
    "If this is also true for our dataset, it meance that a user playcount equal to 1 meance that the user listened the song one time for at least 30 seconds, and probably liked it. This is fundamental for what we are going to do.\n",
    "\n",
    "We want to recommend artists related to those that the user listened few times. We Think that in this way we can explore in a better way the artist catalogue.\n",
    "\n",
    "In order to achieve this, since we do not have other data different from playcounts and matching a genre with an artist is not very easy, we decided to use the playcounts that we have in another way.\n",
    "ALS is able to factor our rating matrix, but at the end, the recommendations depend on the ratings that we put in the matrix. What if we change that kind of data? Maybe we change recommendation. We did this by replacing each playcount with its inverse, in this way artists with high playcount have a bad score and artist with low playcount have an high score. We don't know what are the consequences of using ALS with different values and how we should this. (calculating the inverse completely change di playcount distribution)"
   ]
  },
  {
   "cell_type": "code",
   "execution_count": 93,
   "metadata": {
    "collapsed": false
   },
   "outputs": [
    {
     "name": "stdout",
     "output_type": "stream",
     "text": [
      "[Rating(user=2190001, product=26, rating=0.625), Rating(user=2237761, product=26, rating=0.7142857142857143), Rating(user=1026084, product=26, rating=0.7142857142857143), Rating(user=1061434, product=26, rating=0.7142857142857143), Rating(user=2040688, product=26, rating=0.7142857142857143)]\n"
     ]
    }
   ],
   "source": [
    "allData_inverse = userArtistName_filtered.rdd.map(lambda r: Rating(r[0],r[1],str(5/int(r[2])))).repartition(12).cache()\n",
    "print(allData_inverse.take(5))"
   ]
  },
  {
   "cell_type": "code",
   "execution_count": 94,
   "metadata": {
    "collapsed": false
   },
   "outputs": [
    {
     "data": {
      "text/plain": [
       "PythonRDD[1497] at RDD at PythonRDD.scala:48"
      ]
     },
     "execution_count": 94,
     "metadata": {},
     "output_type": "execute_result"
    }
   ],
   "source": [
    "trainData_inverse, cvData_inverse = allData_inverse.randomSplit([9,1])\n",
    "trainData_inverse.cache()\n",
    "cvData_inverse.cache()"
   ]
  },
  {
   "cell_type": "code",
   "execution_count": 95,
   "metadata": {
    "collapsed": false
   },
   "outputs": [
    {
     "name": "stdout",
     "output_type": "stream",
     "text": [
      "[ 6881280  2162688 10234800 10385376 10686528]\n"
     ]
    }
   ],
   "source": [
    "# Get all unique artistId, and broadcast them\n",
    "allItemIDs = np.array(allData.map(lambda x: x[1]).distinct().collect())\n",
    "print(allItemIDs[0:5])\n",
    "bAllItemIDs = sc.broadcast(allItemIDs)"
   ]
  },
  {
   "cell_type": "code",
   "execution_count": 96,
   "metadata": {
    "collapsed": false
   },
   "outputs": [
    {
     "name": "stdout",
     "output_type": "stream",
     "text": [
      "Train model with rank=10 lambda_=1.000000 alpha=1.000000\n",
      "Train model with rank=10 lambda_=1.000000 alpha=40.000000\n",
      "Train model with rank=10 lambda_=0.000100 alpha=1.000000\n",
      "Train model with rank=10 lambda_=0.000100 alpha=40.000000\n",
      "Train model with rank=50 lambda_=1.000000 alpha=1.000000\n",
      "Train model with rank=50 lambda_=1.000000 alpha=40.000000\n",
      "Train model with rank=50 lambda_=0.000100 alpha=1.000000\n",
      "Train model with rank=50 lambda_=0.000100 alpha=40.000000\n"
     ]
    }
   ],
   "source": [
    "evaluations = []\n",
    "\n",
    "for rank in [10, 50]:\n",
    "    for lambda_ in [1.0, 0.0001]:\n",
    "        for alpha in [1.0, 40.0]:\n",
    "            print(\"Train model with rank=%d lambda_=%f alpha=%f\" % (rank, lambda_, alpha))\n",
    "            # with each combination of params, we should run multiple times and get avg\n",
    "            # for simple, we only run one time.\n",
    "            model = ALS.trainImplicit(ratings=trainData_inverse, rank=rank, iterations=5, lambda_=lambda_, alpha=alpha)\n",
    "            \n",
    "            auc = calculateAUC( cvData_inverse, bAllItemIDs, model.predictAll )\n",
    "            \n",
    "            evaluations.append(((rank, lambda_, alpha), auc))\n",
    "            \n",
    "            unpersist(model)"
   ]
  },
  {
   "cell_type": "code",
   "execution_count": 97,
   "metadata": {
    "collapsed": false
   },
   "outputs": [
    {
     "name": "stdout",
     "output_type": "stream",
     "text": [
      "                    0         1\n",
      "0      (50, 1.0, 1.0)  0.979985\n",
      "1     (10, 1.0, 40.0)  0.979467\n",
      "2     (50, 1.0, 40.0)  0.979036\n",
      "3  (10, 0.0001, 40.0)  0.978913\n",
      "4      (10, 1.0, 1.0)  0.977786\n",
      "5  (50, 0.0001, 40.0)  0.977683\n",
      "6   (10, 0.0001, 1.0)  0.966469\n",
      "7   (50, 0.0001, 1.0)  0.953093\n",
      "the best parameters are: rank=50 lambda=1.000000 alpha=1.000000 \n"
     ]
    }
   ],
   "source": [
    "evaluations.sort(key=lambda table:table[1], reverse=True)\n",
    "                 \n",
    "evalDataFrame = pd.DataFrame(data=evaluations)\n",
    "print(evalDataFrame)\n",
    "\n",
    "trainData_inverse.unpersist()\n",
    "cvData_inverse.unpersist()\n",
    "print('the best parameters are: rank=%d lambda=%f alpha=%f ' % (evalDataFrame[0][0][0],evalDataFrame[0][0][1],evalDataFrame[0][0][2]))"
   ]
  },
  {
   "cell_type": "code",
   "execution_count": 98,
   "metadata": {
    "collapsed": false
   },
   "outputs": [
    {
     "name": "stdout",
     "output_type": "stream",
     "text": [
      "finish training model in 88.462468 secs\n"
     ]
    }
   ],
   "source": [
    "t0 = time()\n",
    "model_1 = ALS.trainImplicit(ratings=allData_inverse,rank=evalDataFrame[0][0][0],iterations=5,lambda_=evalDataFrame[0][0][1],alpha=evalDataFrame[0][0][2])\n",
    "\n",
    "t1 = time()\n",
    "print(\"finish training model in %f secs\" % (t1 - t0))\n"
   ]
  },
  {
   "cell_type": "code",
   "execution_count": 99,
   "metadata": {
    "collapsed": false
   },
   "outputs": [
    {
     "name": "stdout",
     "output_type": "stream",
     "text": [
      "{3656, 4569, 250, 1306, 1002470}\n",
      "['The Verve', 'No Doubt', 'Simon & Garfunkel', 'Elton John', 'Outkast']\n"
     ]
    }
   ],
   "source": [
    "recommendations_1 = (model_1.recommendProducts(2093760,5))\n",
    "# construct set of recommendated artists\n",
    "#this is a set of the recommended aritsts\n",
    "recArtist= set(r[1] for r in recommendations_1)\n",
    "\n",
    "\n",
    "print(recArtist)\n",
    "\n",
    "\n",
    "def artistNames_1(line):\n",
    "#     [artistID, name]\n",
    "    if (line[0] in recArtist):\n",
    "        return True\n",
    "    else:\n",
    "        return False\n",
    "\n",
    "recList = artistByID.filter(lambda s: artistNames_1(s) == True).values().collect()\n",
    "\n",
    "print(recList)"
   ]
  },
  {
   "cell_type": "code",
   "execution_count": 100,
   "metadata": {
    "collapsed": false
   },
   "outputs": [
    {
     "name": "stdout",
     "output_type": "stream",
     "text": [
      "Artists listened by user 2093760:\n",
      "+--------+---------------+-------------+\n",
      "|artistID|           name|audience_size|\n",
      "+--------+---------------+-------------+\n",
      "|     378|  Blackalicious|         4465|\n",
      "|     813|     Jurassic 5|         8548|\n",
      "| 1255340|The Saw Doctors|          152|\n",
      "|     942|         Xzibit|         6069|\n",
      "|    1180|     David Gray|         7707|\n",
      "+--------+---------------+-------------+\n",
      "\n",
      "Artists recommended for user 2093760:\n",
      "+--------+-----------------+-------------+\n",
      "|artistID|             name|audience_size|\n",
      "+--------+-----------------+-------------+\n",
      "|     250|          Outkast|        24774|\n",
      "| 1002470|       Elton John|        14965|\n",
      "|    1306|        The Verve|        12979|\n",
      "|    3656|         No Doubt|        20787|\n",
      "|    4569|Simon & Garfunkel|        19887|\n",
      "+--------+-----------------+-------------+\n",
      "\n"
     ]
    }
   ],
   "source": [
    "print('Artists listened by user 2093760:')\n",
    "(\n",
    "    userArtist_cleanDF\n",
    "    .filter(userArtist_cleanDF['userID'] == 2093760)\n",
    "    .drop(userArtist_cleanDF.playCount)\n",
    "    .join(artistDF, userArtist_cleanDF.artistID == artistDF.artistID, \"left_outer\")\n",
    "    .drop(artistDF.artistID)\n",
    "    .join(ArtistsAS_clean, userArtist_cleanDF.artistID == ArtistsAS_clean.artistID, \"left_outer\")\n",
    "    .drop(ArtistsAS_clean.artistID)\n",
    "    .drop(ArtistsAS_clean.name)\n",
    "    .drop(userArtist_cleanDF.userID)\n",
    "    .show()\n",
    ")\n",
    "\n",
    "print('Artists recommended for user 2093760:')\n",
    "recArtistDF = artistByID.filter(lambda s: artistNames(s) == True).toDF(['artistID','name']).cache()\n",
    "(\n",
    "    recArtistDF\n",
    "    .join(ArtistsAS_clean, recArtistDF.artistID == ArtistsAS_clean.artistID, \"left_outer\")\n",
    "    .drop(ArtistsAS_clean.artistID)\n",
    "    .drop(ArtistsAS_clean.name)\n",
    "    .show()\n",
    ")"
   ]
  },
  {
   "cell_type": "markdown",
   "metadata": {},
   "source": [
    "It seems that the recommender system recommends famous artists, but with a different genre: this looks plausible because we penalize artists that the user listen often and we try to recommend artist that the user listened few times. In this case, 'The Verve', 'No Doubt' and 'Simon & Garfunkel', which are rock artists, match the genre of 'The Saw Doctors', a rock artist that the user listened few times. We think that the recommendation engine works. "
   ]
  },
  {
   "cell_type": "markdown",
   "metadata": {},
   "source": [
    "# AUDIENCE BASED MODEL"
   ]
  },
  {
   "cell_type": "markdown",
   "metadata": {},
   "source": [
    "As we have written before, the model generally proposes artists with an high audience. Our idea was to balance this behaviour looking at the artist audience. Every user listened many artists, each one with a different audience, so every user has associated different audience values, one for each listened artist. Computing the average or the median of these audience values, it's possibile to obtain  a new measure associated to the user that should express which is the popularity of the artists that he listens to. If this value is low, the user usually plays  \"underground\" music, at the opposite, if the value is high, the user plays \"mainstream\" music. Keeping this into account, we want try to build a model that recommends \"underground\" songs to the users that usually plays less popular artists and \"commercial\" songs to the users that usually plays more popular artists. Actually our idea is to start with the base recommendation method based on the playcount, penalizing the recommended artists that has a different audience respect to the median value (or mean avalue) audience associated to the user.\n",
    "\n",
    "Let's start! All the model will be tested using the new cleaned data, without \"unknown\" and spurious artists."
   ]
  },
  {
   "cell_type": "code",
   "execution_count": 101,
   "metadata": {
    "collapsed": true
   },
   "outputs": [],
   "source": [
    "userArtist_cleanDF = userArtistName_filtered\n",
    "TOTAL_ARTISTS_NUMBER = userArtist_cleanDF.select('artistID').distinct().count()"
   ]
  },
  {
   "cell_type": "code",
   "execution_count": 104,
   "metadata": {
    "collapsed": false
   },
   "outputs": [
    {
     "name": "stdout",
     "output_type": "stream",
     "text": [
      "439771.0\n",
      "+-------+---------+--------+-------------+-------------+\n",
      "| userID|playCount|artistID|         name|audience_size|\n",
      "+-------+---------+--------+-------------+-------------+\n",
      "|1067932|      174|      26|Barry Adamson|         1132|\n",
      "|2241392|      116|      26|Barry Adamson|         1132|\n",
      "|1066803|      112|      26|Barry Adamson|         1132|\n",
      "|2171854|      105|      26|Barry Adamson|         1132|\n",
      "|2376555|       87|      26|Barry Adamson|         1132|\n",
      "+-------+---------+--------+-------------+-------------+\n",
      "only showing top 5 rows\n",
      "\n",
      "+-------+------------------+\n",
      "| userID|     audience_mean|\n",
      "+-------+------------------+\n",
      "|2061120|1874.8306569343065|\n",
      "|2025959| 4362.404669260701|\n",
      "|2293749|3358.5840455840457|\n",
      "|1056146| 7061.093632958801|\n",
      "|2080232| 3222.328703703704|\n",
      "+-------+------------------+\n",
      "only showing top 5 rows\n",
      "\n"
     ]
    }
   ],
   "source": [
    "MAX_playcount= float(userArtist_cleanDF.agg({\"playCount\": \"max\"}).collect()[0][0])\n",
    "print(MAX_playcount)\n",
    "\n",
    "Users_artists_audience = ( \n",
    "    userArtist_cleanDF\n",
    "    .join(ArtistsAS_clean,userArtist_cleanDF.artistID == ArtistsAS_clean.artistID, \"left_outer\")\n",
    "    .drop(ArtistsAS_clean.artistID)\n",
    "    .cache()\n",
    "    \n",
    ")\n",
    "\n",
    "Users_artists_audience.show(5)\n",
    "\n",
    "Users_audience_mean = (\n",
    "    Users_artists_audience\n",
    "    .select('userID','audience_size')\n",
    "    .groupBy('userID')\n",
    "    .avg('audience_size')\n",
    "    .withColumnRenamed(\"avg(audience_size)\", \"audience_mean\")\n",
    "    .cache()\n",
    ")\n",
    "\n",
    "Users_audience_mean.show(5)"
   ]
  },
  {
   "cell_type": "markdown",
   "metadata": {},
   "source": [
    "The code above shows how to obtain a table in which an audience_mean is associated to every user. However we though that the audience mean is not a good measure because is sensitive to the outliers, so in the code below we created a different table (user, audience_median)."
   ]
  },
  {
   "cell_type": "code",
   "execution_count": 106,
   "metadata": {
    "collapsed": false
   },
   "outputs": [
    {
     "name": "stdout",
     "output_type": "stream",
     "text": [
      "+-------+---------------+\n",
      "| userID|audience_median|\n",
      "+-------+---------------+\n",
      "|1000061|          687.0|\n",
      "|1000070|         8936.0|\n",
      "|1000313|         7757.0|\n",
      "|1000832|          143.5|\n",
      "|1000905|         2970.5|\n",
      "|1001372|         2680.0|\n",
      "|1001409|         1664.0|\n",
      "|1001530|          282.5|\n",
      "|1001700|         5902.5|\n",
      "|1001731|          356.0|\n",
      "+-------+---------------+\n",
      "only showing top 10 rows\n",
      "\n"
     ]
    }
   ],
   "source": [
    "import numpy\n",
    "Users_audience = Users_artists_audience.select('userID','audience_size')\n",
    "\n",
    "def compute_median(line):\n",
    "    median=float((numpy.median(numpy.array(line[1]))))\n",
    "    return (line[0],median)\n",
    "    \n",
    "Users_audience_median = (\n",
    "    Users_audience\n",
    "    .groupBy('userID')\n",
    "    .agg(collect_list(\"audience_size\"))\n",
    "    .withColumnRenamed(\"collect_list(audience_size)\", \"audience_arr\")\n",
    "    .rdd.map(compute_median).toDF(['userID','audience_median'])\n",
    "    .cache()\n",
    ")\n",
    "\n",
    "Users_audience_median.show(10)\n"
   ]
  },
  {
   "cell_type": "markdown",
   "metadata": {},
   "source": [
    "After computing the median we train the model as before."
   ]
  },
  {
   "cell_type": "code",
   "execution_count": 107,
   "metadata": {
    "collapsed": false
   },
   "outputs": [
    {
     "name": "stdout",
     "output_type": "stream",
     "text": [
      "finish training model in 47.202203 secs\n"
     ]
    }
   ],
   "source": [
    "t0 = time()\n",
    "model_1 = ALS.trainImplicit(ratings=allData_filtered, rank=10, iterations=5, lambda_=0.01, alpha=1.0)\n",
    "t1 = time()\n",
    "print(\"finish training model in %f secs\" % (t1 - t0))"
   ]
  },
  {
   "cell_type": "markdown",
   "metadata": {},
   "source": [
    "It's time to indroduce a new function:\"compute_recommendation\". This function starts with the original recommendation retrieving all the ratings associated with an user and computing the new raitings subtracting the audience_distance (a value that express how much an artist audience is different from the user audience median value) to the previous one. The audience_distance is weighted: if the weight is 0 the new recommendation will be identical to the previous one because the new variable will not have any impact. At the opposite, bigger is the weight, bigger is the impact of this new variable.\n",
    "\n",
    "In the cell below there is the function code, with comments to explain it."
   ]
  },
  {
   "cell_type": "code",
   "execution_count": 108,
   "metadata": {
    "collapsed": true
   },
   "outputs": [],
   "source": [
    "def compute_recommendation(userID,n_top,w):\n",
    "    #userID is the identifier of the user for which we want to perform the recommendation\n",
    "    #n_top is the number of recommendation items we want to visualize, ordered by ratings\n",
    "    #w is the value of the weight\n",
    "    recommendations= sqlContext.createDataFrame(model_1.recommendProducts(userID,TOTAL_ARTISTS_NUMBER), ['userID','artistID','Rating_PlayCount'])\n",
    "    MAX_rating_playcount= recommendations.agg({\"Rating_PlayCount\": \"max\"}).collect()[0][0]\n",
    "    \n",
    "    #the recommendations_AS dataframe is a new table formed by tuples like this (userID,playCount,artistID,audience_size)\n",
    "    recommendations_AS = ( \n",
    "        recommendations\n",
    "        .join(ArtistsAS_clean,recommendations.artistID == ArtistsAS_clean.artistID, \"left_outer\")\n",
    "        .drop(recommendations.artistID)\n",
    "        .cache()\n",
    "\n",
    "    )\n",
    "    \n",
    "    \n",
    "    already_listened_artists =  userArtist_cleanDF.filter(userArtist_cleanDF['userID'] == 2093760).select('userID').collect()\n",
    "\n",
    "    # below the function to compute the audience deviation given the audience median value and the audience associated\n",
    "    # to each recommended artist for the considered user.\n",
    "    # The audience_difference is high when the artist listened by the user has a popularity different from the popularity\n",
    "    # of the artists that the user normally listens to. So higher this value is, low the rating in the recommendation model\n",
    "    # should be. \n",
    "    \n",
    "    def audience_dist(line):\n",
    "        audience_dist = line[0] - line[5]\n",
    "        if audience_dist < 0:\n",
    "            audience_dist = audience_dist * -1\n",
    "        return (line[1],line[3],line[2],audience_dist)\n",
    "\n",
    "    Users_recommendation_median_dist = (\n",
    "        Users_audience_median\n",
    "        .filter(Users_audience_median['userID'] == userID)\n",
    "        .join(recommendations_AS, Users_audience_median.userID == recommendations_AS.userID, \"left_outer\")\n",
    "        .drop(Users_audience_median.userID )\n",
    "        .rdd.map(audience_dist).toDF(['userID','artistID','rating_playcount','audience_distance'])\n",
    "        .cache()   \n",
    "    )\n",
    "    \n",
    "\n",
    "    MAX_median_dist= float(Users_recommendation_median_dist.agg({\"audience_distance\": \"max\"}).collect()[0][0])\n",
    "    \n",
    "    # To compute the final rating we have to subract the audience_distance to the playcount.\n",
    "    # However the playcount raiting scale has a different range of value compared to the audience_difference.\n",
    "    # So the code below is useful to change the audience_similarity range of values to make this similar to \n",
    "    # the playcount range of values. The compute_new_rating function performs these two steps\n",
    "\n",
    "    def compute_new_rating(line):\n",
    "        diff =  MAX_rating_playcount* line[3]/MAX_median_dist\n",
    "        new_rating = line[2] - w*diff\n",
    "        return (line[0],line[1],new_rating,line[3])\n",
    "\n",
    "\n",
    "    Users_recommendation_final  = (\n",
    "        Users_recommendation_median_dist\n",
    "        .rdd.map(compute_new_rating).toDF(['userID','artistID','new_rating','audience_distance'])\n",
    "        .orderBy('new_rating', ascending=0)\n",
    "        .cache()   \n",
    "    )   \n",
    "    # at the end we return the new top-n recommended artists \n",
    "    return Users_recommendation_final.select('artistID','new_rating','audience_distance').limit(n_top)"
   ]
  },
  {
   "cell_type": "code",
   "execution_count": 109,
   "metadata": {
    "collapsed": false
   },
   "outputs": [
    {
     "name": "stdout",
     "output_type": "stream",
     "text": [
      "Artists recommended for user 2093760 with associated audience size and audience_distance:\n",
      "+--------+--------------------+-----------------+----------------+-------------+\n",
      "|artistID|          new_rating|audience_distance|            name|audience_size|\n",
      "+--------+--------------------+-----------------+----------------+-------------+\n",
      "| 1300642|0.026596620564814915|            942.0|        The Game|         7011|\n",
      "| 1003249|  0.0242157141765418|           4300.0|        Ludacris|        10369|\n",
      "|     829| 0.02411642091931513|           3895.0|             Nas|         9964|\n",
      "|     942| 0.02380024177607018|              0.0|          Xzibit|         6069|\n",
      "| 1004028| 0.02345033708195774|           1141.0|Notorious B.I.G.|         7210|\n",
      "+--------+--------------------+-----------------+----------------+-------------+\n",
      "\n",
      "Remember! This were the predicted artists using the simple model\n",
      "+--------+--------+-------------+\n",
      "|artistID|    name|audience_size|\n",
      "+--------+--------+-------------+\n",
      "| 1003249|Ludacris|        10369|\n",
      "| 1001819|    2Pac|        13031|\n",
      "|     829|     Nas|         9964|\n",
      "| 1300642|The Game|         7011|\n",
      "|    2814| 50 Cent|        17062|\n",
      "+--------+--------+-------------+\n",
      "\n",
      "and here the already listended artists with related audience size\n",
      "+--------+---------------+-------------+\n",
      "|artistID|           name|audience_size|\n",
      "+--------+---------------+-------------+\n",
      "|     378|  Blackalicious|         4465|\n",
      "|     813|     Jurassic 5|         8548|\n",
      "| 1255340|The Saw Doctors|          152|\n",
      "|     942|         Xzibit|         6069|\n",
      "|    1180|     David Gray|         7707|\n",
      "+--------+---------------+-------------+\n",
      "\n"
     ]
    }
   ],
   "source": [
    "new_recommendation = compute_recommendation(2093760,5,0.5)\n",
    "\n",
    "print('Artists recommended for user 2093760 with associated audience size and audience_distance:')\n",
    "(\n",
    "    new_recommendation\n",
    "    .join(ArtistsAS_clean, new_recommendation.artistID == ArtistsAS_clean.artistID, \"left_outer\")\n",
    "    .drop(ArtistsAS_clean.artistID)\n",
    "    .orderBy('new_rating', ascending=0)\n",
    "    .show()\n",
    ")\n",
    "\n",
    "print(\"Remember! This were the predicted artists using the simple model\")\n",
    "\n",
    "recArtistDF_withAudience.show()\n",
    "\n",
    "print(\"and here the already listended artists with related audience size\")\n",
    "(\n",
    "    userArtist_cleanDF\n",
    "    .filter(userArtist_cleanDF['userID'] == 2093760)\n",
    "    .drop(userArtist_cleanDF.playCount)\n",
    "    .join(artistDF, userArtist_cleanDF.artistID == artistDF.artistID, \"left_outer\")\n",
    "    .drop(artistDF.artistID)\n",
    "    .join(ArtistsAS_clean, userArtist_cleanDF.artistID == ArtistsAS_clean.artistID, \"left_outer\")\n",
    "    .drop(ArtistsAS_clean.artistID)\n",
    "    .drop(ArtistsAS_clean.name)\n",
    "    .drop(userArtist_cleanDF.userID)\n",
    "    .show()\n",
    ")"
   ]
  },
  {
   "cell_type": "markdown",
   "metadata": {},
   "source": [
    "As we can see, the new recommended artists have an audience_size value nearer to the median value (for this user 6069).\n",
    "However there is a problem because an already listened user is recommended (\"Xzibit\"). However we can filter the artists that the user already listened.\n",
    "\n",
    "But let's test the new model with a different weight. "
   ]
  },
  {
   "cell_type": "code",
   "execution_count": 111,
   "metadata": {
    "collapsed": false
   },
   "outputs": [
    {
     "name": "stdout",
     "output_type": "stream",
     "text": [
      "Artists recommended for user 2093760 with associated audience size and audience_distance:\n",
      "+--------+--------------------+-----------------+--------------------+-------------+\n",
      "|artistID|          new_rating|audience_distance|                name|audience_size|\n",
      "+--------+--------------------+-----------------+--------------------+-------------+\n",
      "|     942| 0.02380024177607018|              0.0|              Xzibit|         6069|\n",
      "| 1300642| 0.02371242832704949|            942.0|            The Game|         7011|\n",
      "| 1253195|0.021453356699027745|            290.0|Lil Jon & The Eas...|         5779|\n",
      "|    3106|0.021004429463998685|              8.0|           Sean Paul|         6061|\n",
      "| 1004496| 0.02080510259984792|            218.0|            Ice Cube|         5851|\n",
      "+--------+--------------------+-----------------+--------------------+-------------+\n",
      "\n"
     ]
    }
   ],
   "source": [
    "new_recommendation = compute_recommendation(2093760,5,5)\n",
    "\n",
    "print('Artists recommended for user 2093760 with associated audience size and audience_distance:')\n",
    "(\n",
    "    new_recommendation\n",
    "    .join(ArtistsAS_clean, new_recommendation.artistID == ArtistsAS_clean.artistID, \"left_outer\")\n",
    "    .drop(ArtistsAS_clean.artistID)\n",
    "    .orderBy('new_rating', ascending=0)\n",
    "    .show()\n",
    ")"
   ]
  },
  {
   "cell_type": "markdown",
   "metadata": {},
   "source": [
    "As we can see, increasing the weight value, the deviation from the audience median value has a bigger impact, as we expected. \n",
    "\n",
    "At the opposite, setting the weight equals to 0, we will have the same prediction as the base model. So playing with the weight, we can change the final result.\n",
    "\n",
    "But what can we do also? \n",
    "Changing the sign of audience_distance, we can obtain the opposite result: to suggest to the users tha usually listen \"underground\" music some \"mainstream\" songs and the opposite. It could be with a different intention: to help expoloring more. At the opposite our original approach has a more conservative impact.\n",
    "\n",
    "In addition to retrieve informations about music style could be a good improvement. We think that it is possible to retrieve some informations by DBpedia, however this process will rewuire a lot of time. It's also important to say that a prediction absed only on the music style is not good. In fact generally the music rivalries are between artists of the same genre."
   ]
  },
  {
   "cell_type": "markdown",
   "metadata": {},
   "source": [
    "# Crossvalidation and configuration optimization "
   ]
  },
  {
   "cell_type": "markdown",
   "metadata": {},
   "source": [
    "Running different times ALS we have seen that the result is never the same. This is due to internal aproximations of ALS, but also to the fact that our training and validation set change every time. We need a way to select in a deterministic way our model parameters.\n",
    "The answer is crossvalidation, but there are many types of crossvalidations. The most common are k-fold and Monte Carlo.\n",
    "\n",
    "Each method has its own advantages and disadvantages. Under cross validation, each point gets tested exactly once, which seems fair. However, cross-validation only explores a few of the possible ways that your data could have been partitioned. Monte Carlo lets you explore somewhat more possible partitions, though you're unlikely to get all of them.\n",
    "\n",
    "Here we decided to use Monte Carlo because it's easier to implement in a distributed system."
   ]
  },
  {
   "cell_type": "code",
   "execution_count": 85,
   "metadata": {
    "collapsed": true
   },
   "outputs": [],
   "source": [
    "allData_filtered = userArtistName_filtered.rdd.map(lambda r: Rating(r[0],r[1],r[2])).repartition(48).cache()"
   ]
  },
  {
   "cell_type": "code",
   "execution_count": 86,
   "metadata": {
    "collapsed": false
   },
   "outputs": [
    {
     "name": "stdout",
     "output_type": "stream",
     "text": [
      "[ 6881280 10518528 10084224 10385376 10535952]\n"
     ]
    }
   ],
   "source": [
    "allItemIDs = np.array(allData_filtered.map(lambda x: x[1]).distinct().collect())\n",
    "print(allItemIDs[0:5])\n",
    "bAllItemIDs = sc.broadcast(allItemIDs)"
   ]
  },
  {
   "cell_type": "code",
   "execution_count": null,
   "metadata": {
    "collapsed": false
   },
   "outputs": [
    {
     "name": "stdout",
     "output_type": "stream",
     "text": [
      "Train model with rank=5 lambda_=1.000000 alpha=1.000000, it=0\n",
      "finish training of model in 54.992420 secs\n",
      "Auc of trained model is 0.969923\n",
      "Train model with rank=5 lambda_=1.000000 alpha=20.000000, it=0\n",
      "finish training of model in 40.100281 secs\n",
      "Auc of trained model is 0.973570\n",
      "Train model with rank=5 lambda_=1.000000 alpha=40.000000, it=0\n",
      "finish training of model in 39.962695 secs\n",
      "Auc of trained model is 0.970754\n",
      "Train model with rank=5 lambda_=0.010000 alpha=1.000000, it=0\n",
      "finish training of model in 39.157573 secs\n",
      "Auc of trained model is 0.968302\n",
      "Train model with rank=5 lambda_=0.010000 alpha=20.000000, it=0\n",
      "finish training of model in 39.007560 secs\n",
      "Auc of trained model is 0.971190\n",
      "Train model with rank=5 lambda_=0.010000 alpha=40.000000, it=0\n",
      "finish training of model in 41.287128 secs\n",
      "Auc of trained model is 0.973174\n",
      "Train model with rank=5 lambda_=0.001000 alpha=1.000000, it=0\n",
      "finish training of model in 39.314432 secs\n",
      "Auc of trained model is 0.968194\n",
      "Train model with rank=5 lambda_=0.001000 alpha=20.000000, it=0\n",
      "finish training of model in 39.510251 secs\n",
      "Auc of trained model is 0.973183\n",
      "Train model with rank=5 lambda_=0.001000 alpha=40.000000, it=0\n",
      "finish training of model in 44.266861 secs\n",
      "Auc of trained model is 0.973284\n",
      "Train model with rank=5 lambda_=0.000100 alpha=1.000000, it=0\n",
      "finish training of model in 39.873858 secs\n",
      "Auc of trained model is 0.969344\n",
      "Train model with rank=5 lambda_=0.000100 alpha=20.000000, it=0\n",
      "finish training of model in 41.858539 secs\n",
      "Auc of trained model is 0.973729\n",
      "Train model with rank=5 lambda_=0.000100 alpha=40.000000, it=0\n",
      "finish training of model in 42.581686 secs\n",
      "Auc of trained model is 0.971484\n",
      "Train model with rank=10 lambda_=1.000000 alpha=1.000000, it=0\n",
      "finish training of model in 46.117479 secs\n",
      "Auc of trained model is 0.968028\n",
      "Train model with rank=10 lambda_=1.000000 alpha=20.000000, it=0\n",
      "finish training of model in 44.499783 secs\n",
      "Auc of trained model is 0.973451\n",
      "Train model with rank=10 lambda_=1.000000 alpha=40.000000, it=0\n",
      "finish training of model in 43.185628 secs\n",
      "Auc of trained model is 0.976025\n",
      "Train model with rank=10 lambda_=0.010000 alpha=1.000000, it=0\n",
      "finish training of model in 44.599496 secs\n",
      "Auc of trained model is 0.963589\n",
      "Train model with rank=10 lambda_=0.010000 alpha=20.000000, it=0\n",
      "finish training of model in 47.547296 secs\n",
      "Auc of trained model is 0.972245\n",
      "Train model with rank=10 lambda_=0.010000 alpha=40.000000, it=0\n",
      "finish training of model in 46.802462 secs\n",
      "Auc of trained model is 0.975090\n",
      "Train model with rank=10 lambda_=0.001000 alpha=1.000000, it=0\n",
      "finish training of model in 48.019647 secs\n",
      "Auc of trained model is 0.960619\n",
      "Train model with rank=10 lambda_=0.001000 alpha=20.000000, it=0\n",
      "finish training of model in 48.765436 secs\n",
      "Auc of trained model is 0.972001\n",
      "Train model with rank=10 lambda_=0.001000 alpha=40.000000, it=0\n",
      "finish training of model in 44.147281 secs\n",
      "Auc of trained model is 0.973626\n",
      "Train model with rank=10 lambda_=0.000100 alpha=1.000000, it=0\n",
      "finish training of model in 44.047348 secs\n",
      "Auc of trained model is 0.961579\n",
      "Train model with rank=10 lambda_=0.000100 alpha=20.000000, it=0\n",
      "finish training of model in 44.429277 secs\n",
      "Auc of trained model is 0.973014\n",
      "Train model with rank=10 lambda_=0.000100 alpha=40.000000, it=0\n",
      "finish training of model in 43.765423 secs\n",
      "Auc of trained model is 0.974645\n",
      "Train model with rank=25 lambda_=1.000000 alpha=1.000000, it=0\n",
      "finish training of model in 59.372305 secs\n",
      "Auc of trained model is 0.965288\n",
      "Train model with rank=25 lambda_=1.000000 alpha=20.000000, it=0\n",
      "finish training of model in 61.680577 secs\n",
      "Auc of trained model is 0.973631\n",
      "Train model with rank=25 lambda_=1.000000 alpha=40.000000, it=0\n",
      "finish training of model in 65.568127 secs\n",
      "Auc of trained model is 0.975692\n",
      "Train model with rank=25 lambda_=0.010000 alpha=1.000000, it=0\n",
      "finish training of model in 95.420364 secs\n",
      "Auc of trained model is 0.957255\n",
      "Train model with rank=25 lambda_=0.010000 alpha=20.000000, it=0\n",
      "finish training of model in 69.034476 secs\n",
      "Auc of trained model is 0.972391\n",
      "Train model with rank=25 lambda_=0.010000 alpha=40.000000, it=0\n",
      "finish training of model in 59.686474 secs\n",
      "Auc of trained model is 0.974916\n",
      "Train model with rank=25 lambda_=0.001000 alpha=1.000000, it=0\n",
      "finish training of model in 58.865936 secs\n",
      "Auc of trained model is 0.956650\n",
      "Train model with rank=25 lambda_=0.001000 alpha=20.000000, it=0\n",
      "finish training of model in 61.533924 secs\n",
      "Auc of trained model is 0.971993\n",
      "Train model with rank=25 lambda_=0.001000 alpha=40.000000, it=0\n",
      "finish training of model in 61.253374 secs\n",
      "Auc of trained model is 0.974867\n",
      "Train model with rank=25 lambda_=0.000100 alpha=1.000000, it=0\n",
      "finish training of model in 61.912725 secs\n",
      "Auc of trained model is 0.955457\n",
      "Train model with rank=25 lambda_=0.000100 alpha=20.000000, it=0\n",
      "finish training of model in 60.317894 secs\n",
      "Auc of trained model is 0.972371\n",
      "Train model with rank=25 lambda_=0.000100 alpha=40.000000, it=0\n",
      "finish training of model in 60.742136 secs\n",
      "Auc of trained model is 0.974575\n",
      "Train model with rank=40 lambda_=1.000000 alpha=1.000000, it=0\n",
      "finish training of model in 82.580377 secs\n",
      "Auc of trained model is 0.963975\n",
      "Train model with rank=40 lambda_=1.000000 alpha=20.000000, it=0\n",
      "finish training of model in 85.996917 secs\n",
      "Auc of trained model is 0.972747\n",
      "Train model with rank=40 lambda_=1.000000 alpha=40.000000, it=0\n",
      "finish training of model in 88.095836 secs\n",
      "Auc of trained model is 0.975101\n",
      "Train model with rank=40 lambda_=0.010000 alpha=1.000000, it=0\n",
      "finish training of model in 93.185864 secs\n",
      "Auc of trained model is 0.952749\n",
      "Train model with rank=40 lambda_=0.010000 alpha=20.000000, it=0\n",
      "finish training of model in 91.193513 secs\n",
      "Auc of trained model is 0.970733\n",
      "Train model with rank=40 lambda_=0.010000 alpha=40.000000, it=0\n",
      "finish training of model in 88.818270 secs\n",
      "Auc of trained model is 0.973497\n",
      "Train model with rank=40 lambda_=0.001000 alpha=1.000000, it=0\n",
      "finish training of model in 88.697298 secs\n",
      "Auc of trained model is 0.951740\n",
      "Train model with rank=40 lambda_=0.001000 alpha=20.000000, it=0\n",
      "finish training of model in 89.009035 secs\n",
      "Auc of trained model is 0.971089\n",
      "Train model with rank=40 lambda_=0.001000 alpha=40.000000, it=0\n",
      "finish training of model in 88.006737 secs\n",
      "Auc of trained model is 0.973640\n",
      "Train model with rank=40 lambda_=0.000100 alpha=1.000000, it=0\n",
      "finish training of model in 90.514071 secs\n",
      "Auc of trained model is 0.952169\n",
      "Train model with rank=40 lambda_=0.000100 alpha=20.000000, it=0\n",
      "finish training of model in 94.949595 secs\n",
      "Auc of trained model is 0.970629\n",
      "Train model with rank=40 lambda_=0.000100 alpha=40.000000, it=0\n",
      "finish training of model in 98.340552 secs\n",
      "Auc of trained model is 0.973819\n",
      "Train model with rank=5 lambda_=1.000000 alpha=1.000000, it=1\n",
      "finish training of model in 64.349873 secs\n",
      "Auc of trained model is 0.970041\n",
      "Train model with rank=5 lambda_=1.000000 alpha=20.000000, it=1\n",
      "finish training of model in 41.241868 secs\n",
      "Auc of trained model is 0.974003\n",
      "Train model with rank=5 lambda_=1.000000 alpha=40.000000, it=1\n",
      "finish training of model in 41.439834 secs\n",
      "Auc of trained model is 0.971706\n",
      "Train model with rank=5 lambda_=0.010000 alpha=1.000000, it=1\n",
      "finish training of model in 39.086732 secs\n",
      "Auc of trained model is 0.968006\n",
      "Train model with rank=5 lambda_=0.010000 alpha=20.000000, it=1\n",
      "finish training of model in 40.642273 secs\n",
      "Auc of trained model is 0.970882\n",
      "Train model with rank=5 lambda_=0.010000 alpha=40.000000, it=1\n",
      "finish training of model in 38.970630 secs\n",
      "Auc of trained model is 0.974620\n",
      "Train model with rank=5 lambda_=0.001000 alpha=1.000000, it=1\n",
      "finish training of model in 40.101623 secs\n",
      "Auc of trained model is 0.965801\n",
      "Train model with rank=5 lambda_=0.001000 alpha=20.000000, it=1\n",
      "finish training of model in 39.814139 secs\n",
      "Auc of trained model is 0.971183\n",
      "Train model with rank=5 lambda_=0.001000 alpha=40.000000, it=1\n",
      "finish training of model in 41.628840 secs\n",
      "Auc of trained model is 0.974714\n",
      "Train model with rank=5 lambda_=0.000100 alpha=1.000000, it=1\n",
      "finish training of model in 41.516462 secs\n",
      "Auc of trained model is 0.967041\n",
      "Train model with rank=5 lambda_=0.000100 alpha=20.000000, it=1\n",
      "finish training of model in 41.445851 secs\n",
      "Auc of trained model is 0.973405\n",
      "Train model with rank=5 lambda_=0.000100 alpha=40.000000, it=1\n",
      "finish training of model in 41.393784 secs\n",
      "Auc of trained model is 0.973614\n",
      "Train model with rank=10 lambda_=1.000000 alpha=1.000000, it=1\n",
      "finish training of model in 44.118676 secs\n",
      "Auc of trained model is 0.966799\n",
      "Train model with rank=10 lambda_=1.000000 alpha=20.000000, it=1\n",
      "finish training of model in 46.984801 secs\n",
      "Auc of trained model is 0.973929\n",
      "Train model with rank=10 lambda_=1.000000 alpha=40.000000, it=1\n",
      "finish training of model in 44.096781 secs\n",
      "Auc of trained model is 0.976474\n",
      "Train model with rank=10 lambda_=0.010000 alpha=1.000000, it=1\n",
      "finish training of model in 45.367995 secs\n",
      "Auc of trained model is 0.962013\n",
      "Train model with rank=10 lambda_=0.010000 alpha=20.000000, it=1\n",
      "finish training of model in 43.633682 secs\n",
      "Auc of trained model is 0.973244\n",
      "Train model with rank=10 lambda_=0.010000 alpha=40.000000, it=1\n",
      "finish training of model in 44.723190 secs\n",
      "Auc of trained model is 0.973758\n",
      "Train model with rank=10 lambda_=0.001000 alpha=1.000000, it=1\n",
      "finish training of model in 45.119026 secs\n",
      "Auc of trained model is 0.962040\n",
      "Train model with rank=10 lambda_=0.001000 alpha=20.000000, it=1\n",
      "finish training of model in 43.525013 secs\n",
      "Auc of trained model is 0.972096\n",
      "Train model with rank=10 lambda_=0.001000 alpha=40.000000, it=1\n",
      "finish training of model in 44.562506 secs\n",
      "Auc of trained model is 0.974634\n",
      "Train model with rank=10 lambda_=0.000100 alpha=1.000000, it=1\n",
      "finish training of model in 44.874197 secs\n",
      "Auc of trained model is 0.960966\n",
      "Train model with rank=10 lambda_=0.000100 alpha=20.000000, it=1\n",
      "finish training of model in 43.075717 secs\n",
      "Auc of trained model is 0.972281\n",
      "Train model with rank=10 lambda_=0.000100 alpha=40.000000, it=1\n",
      "finish training of model in 43.517830 secs\n",
      "Auc of trained model is 0.974872\n",
      "Train model with rank=25 lambda_=1.000000 alpha=1.000000, it=1\n",
      "finish training of model in 60.498309 secs\n",
      "Auc of trained model is 0.965288\n",
      "Train model with rank=25 lambda_=1.000000 alpha=20.000000, it=1\n",
      "finish training of model in 59.509969 secs\n",
      "Auc of trained model is 0.973758\n",
      "Train model with rank=25 lambda_=1.000000 alpha=40.000000, it=1\n",
      "finish training of model in 59.433499 secs\n",
      "Auc of trained model is 0.976184\n",
      "Train model with rank=25 lambda_=0.010000 alpha=1.000000, it=1\n",
      "finish training of model in 59.906377 secs\n",
      "Auc of trained model is 0.957361\n",
      "Train model with rank=25 lambda_=0.010000 alpha=20.000000, it=1\n",
      "finish training of model in 59.925847 secs\n",
      "Auc of trained model is 0.971831\n",
      "Train model with rank=25 lambda_=0.010000 alpha=40.000000, it=1\n",
      "finish training of model in 60.321244 secs\n",
      "Auc of trained model is 0.974805\n",
      "Train model with rank=25 lambda_=0.001000 alpha=1.000000, it=1\n",
      "finish training of model in 57.199466 secs\n",
      "Auc of trained model is 0.956131\n",
      "Train model with rank=25 lambda_=0.001000 alpha=20.000000, it=1\n",
      "finish training of model in 61.174242 secs\n",
      "Auc of trained model is 0.971825\n",
      "Train model with rank=25 lambda_=0.001000 alpha=40.000000, it=1\n",
      "finish training of model in 58.122991 secs\n",
      "Auc of trained model is 0.974761\n",
      "Train model with rank=25 lambda_=0.000100 alpha=1.000000, it=1\n",
      "finish training of model in 59.440804 secs\n",
      "Auc of trained model is 0.955695\n",
      "Train model with rank=25 lambda_=0.000100 alpha=20.000000, it=1\n",
      "finish training of model in 64.447617 secs\n",
      "Auc of trained model is 0.972210\n",
      "Train model with rank=25 lambda_=0.000100 alpha=40.000000, it=1\n",
      "finish training of model in 70.523175 secs\n",
      "Auc of trained model is 0.974770\n",
      "Train model with rank=40 lambda_=1.000000 alpha=1.000000, it=1\n",
      "finish training of model in 83.369767 secs\n",
      "Auc of trained model is 0.964030\n",
      "Train model with rank=40 lambda_=1.000000 alpha=20.000000, it=1\n",
      "finish training of model in 81.944873 secs\n",
      "Auc of trained model is 0.972177\n",
      "Train model with rank=40 lambda_=1.000000 alpha=40.000000, it=1\n",
      "finish training of model in 85.655658 secs\n",
      "Auc of trained model is 0.975124\n",
      "Train model with rank=40 lambda_=0.010000 alpha=1.000000, it=1\n",
      "finish training of model in 83.359890 secs\n",
      "Auc of trained model is 0.952734\n",
      "Train model with rank=40 lambda_=0.010000 alpha=20.000000, it=1\n",
      "finish training of model in 88.864404 secs\n",
      "Auc of trained model is 0.971046\n",
      "Train model with rank=40 lambda_=0.010000 alpha=40.000000, it=1\n",
      "finish training of model in 89.793735 secs\n",
      "Auc of trained model is 0.973525\n",
      "Train model with rank=40 lambda_=0.001000 alpha=1.000000, it=1\n",
      "finish training of model in 88.099177 secs\n",
      "Auc of trained model is 0.951637\n",
      "Train model with rank=40 lambda_=0.001000 alpha=20.000000, it=1\n",
      "finish training of model in 92.816661 secs\n",
      "Auc of trained model is 0.970807\n",
      "Train model with rank=40 lambda_=0.001000 alpha=40.000000, it=1\n",
      "finish training of model in 81.810078 secs\n",
      "Auc of trained model is 0.973732\n",
      "Train model with rank=40 lambda_=0.000100 alpha=1.000000, it=1\n",
      "finish training of model in 93.176639 secs\n",
      "Auc of trained model is 0.951558\n",
      "Train model with rank=40 lambda_=0.000100 alpha=20.000000, it=1\n",
      "finish training of model in 83.190499 secs\n",
      "Auc of trained model is 0.970642\n",
      "Train model with rank=40 lambda_=0.000100 alpha=40.000000, it=1\n",
      "finish training of model in 83.202974 secs\n",
      "Auc of trained model is 0.973559\n",
      "finish training in 5720.639279 secs\n"
     ]
    }
   ],
   "source": [
    "num_split = 2\n",
    "\n",
    "evaluations = []\n",
    "t0  = time()\n",
    "for it in range(num_split):\n",
    "    trainData_filtered, cvData_filtered = allData_filtered.randomSplit([8,2])\n",
    "    trainData_filtered.cache()\n",
    "    cvData_filtered.cache()\n",
    "    \n",
    "    for rank in [5,10,25,40]:\n",
    "        for lambda_ in [1.0, 0.01,0.001, 0.0001]:\n",
    "            for alpha in [1.0, 20.0, 40.0]:\n",
    "                print(\"Train model with rank=%d lambda_=%f alpha=%f, it=%d\" % (rank, lambda_, alpha, it))\n",
    "                # with each combination of params, we should run multiple times and get avg\n",
    "                # for simple, we only run one time.\n",
    "                t2  = time()\n",
    "                model = ALS.trainImplicit(ratings=trainData_filtered, rank=rank, iterations=5, lambda_=lambda_, alpha=alpha)\n",
    "                auc = calculateAUC( cvData_filtered, bAllItemIDs, model.predictAll )\n",
    "                t3  = time()\n",
    "                evaluations.append(((rank, lambda_, alpha, it, t3-t2), auc))\n",
    "                unpersist(model)\n",
    "                print(\"finish training of model in %f secs\" % (t3 - t2))\n",
    "                print(\"Auc of trained model is %f\" % auc)\n",
    "    trainData_filtered.unpersist()\n",
    "    cvData_filtered.unpersist()\n",
    "    \n",
    "\n",
    "t1 = time()\n",
    "print(\"finish training in %f secs\" % (t1 - t0))\n",
    "   "
   ]
  },
  {
   "cell_type": "code",
   "execution_count": 92,
   "metadata": {
    "collapsed": true
   },
   "outputs": [],
   "source": [
    "eval_tup = [list((*x[0],x[1])) for x in evaluations]"
   ]
  },
  {
   "cell_type": "code",
   "execution_count": 93,
   "metadata": {
    "collapsed": false
   },
   "outputs": [
    {
     "name": "stdout",
     "output_type": "stream",
     "text": [
      "+----+------+-----+------------------+\n",
      "|rank|lambda|alpha|          avg(auc)|\n",
      "+----+------+-----+------------------+\n",
      "|  25|1.0E-4| 40.0|0.9746723732810352|\n",
      "|  40|1.0E-4|  1.0|0.9518635302758107|\n",
      "|   5|   1.0| 20.0|0.9737866266253347|\n",
      "|  40| 0.001|  1.0|0.9516883345754839|\n",
      "|  10|  0.01| 40.0|0.9744238712320558|\n",
      "|  10|   1.0|  1.0|0.9674138705934625|\n",
      "|  25|   1.0|  1.0|0.9652881244838396|\n",
      "|   5| 0.001|  1.0|0.9669973082636184|\n",
      "|  25| 0.001| 20.0|0.9719092765669555|\n",
      "|  40|1.0E-4| 40.0|0.9736890424566946|\n",
      "|  25|  0.01|  1.0| 0.957308324720267|\n",
      "|   5|  0.01|  1.0|0.9681537384162767|\n",
      "|  25| 0.001| 40.0|0.9748137812112151|\n",
      "|  10| 0.001| 40.0|0.9741302659248974|\n",
      "|  10|  0.01|  1.0|0.9628011161639782|\n",
      "|   5|1.0E-4|  1.0|0.9681923982418017|\n",
      "|  10|1.0E-4| 20.0|0.9726475393444091|\n",
      "|  40| 0.001| 40.0|0.9736862685346273|\n",
      "|  25|  0.01| 40.0|0.9748606423066525|\n",
      "|  10|1.0E-4|  1.0|0.9612723402686721|\n",
      "+----+------+-----+------------------+\n",
      "only showing top 20 rows\n",
      "\n"
     ]
    }
   ],
   "source": [
    "evalDF = sqlContext.createDataFrame(eval_tup, ['rank', 'lambda','alpha','it','time','auc'])\n",
    "evalDF.toPandas().to_csv('myeval.csv')\n",
    "eval_avgDF = evalDF.drop('it').drop('time').groupBy(['rank', 'lambda','alpha']).avg('auc')\n",
    "#eval_avgDF.show()\n",
    "eval_avgDF.toPandas().to_csv('myeval_avg.csv')"
   ]
  },
  {
   "cell_type": "code",
   "execution_count": 17,
   "metadata": {
    "collapsed": false
   },
   "outputs": [],
   "source": [
    "from_csv = pd.read_csv('myeval.csv')\n",
    "#from_csv.head()\n",
    "evalDF = sqlContext.createDataFrame(from_csv).drop('Unnamed: 0')\n",
    "#evalDF.show()"
   ]
  },
  {
   "cell_type": "code",
   "execution_count": 74,
   "metadata": {
    "collapsed": false
   },
   "outputs": [
    {
     "name": "stdout",
     "output_type": "stream",
     "text": [
      "+----+------+-----+------------------+------------------+\n",
      "|rank|lambda|alpha|          avg(auc)|         avg(time)|\n",
      "+----+------+-----+------------------+------------------+\n",
      "|  10|   1.0| 40.0|0.9762491409164824|43.641204595565796|\n",
      "|  25|   1.0| 40.0| 0.975938021980547| 62.50081324577332|\n",
      "|  40|   1.0| 40.0|0.9751123892551702| 86.87574696540833|\n",
      "|  25|  0.01| 40.0|0.9748606423066525| 60.00385916233063|\n",
      "|  25| 0.001| 40.0|0.9748137812112152| 59.68818247318268|\n",
      "|  10|1.0E-4| 40.0|0.9747585054313298|43.641626596450806|\n",
      "|  25|1.0E-4| 40.0|0.9746723732810352|  65.6326550245285|\n",
      "|  10|  0.01| 40.0|0.9744238712320559| 45.76282560825348|\n",
      "|  10| 0.001| 40.0|0.9741302659248974| 44.35489344596863|\n",
      "|   5| 0.001| 40.0|0.9739988442732825|42.947850584983826|\n",
      "|   5|  0.01| 40.0| 0.973897272447475| 40.12887907028198|\n",
      "|   5|   1.0| 20.0|0.9737866266253348| 40.67107427120209|\n",
      "|  25|   1.0| 20.0|0.9736943539538554| 60.59527313709259|\n",
      "|  10|   1.0| 20.0|0.9736899599873934| 45.74229156970978|\n",
      "|  40|1.0E-4| 40.0|0.9736890424566946| 90.77176332473755|\n",
      "|  40| 0.001| 40.0|0.9736862685346273|   84.908407330513|\n",
      "|   5|1.0E-4| 20.0|0.9735669064644682| 41.65219497680664|\n",
      "|  40|  0.01| 40.0|0.9735107188783658| 89.30600237846375|\n",
      "|  10|  0.01| 20.0|0.9727441489552879| 45.59048902988434|\n",
      "|  10|1.0E-4| 20.0| 0.972647539344409| 43.75249719619751|\n",
      "+----+------+-----+------------------+------------------+\n",
      "only showing top 20 rows\n",
      "\n"
     ]
    }
   ],
   "source": [
    "eval_avgDF = (\n",
    "    evalDF.drop('it')\n",
    "    .groupBy(['rank','lambda','alpha'])\n",
    "    .avg('auc','time')\n",
    "    .orderBy('avg(auc)',ascending=0)\n",
    ")\n",
    "eval_avgDF.show()"
   ]
  },
  {
   "cell_type": "markdown",
   "metadata": {},
   "source": [
    "Here we ordered our configuration by the best auc value and we found that when lambda=1.0 and alpha=40.0 we obtain the best results."
   ]
  },
  {
   "cell_type": "code",
   "execution_count": 75,
   "metadata": {
    "collapsed": false
   },
   "outputs": [],
   "source": [
    "eval_time_rank = (\n",
    "eval_avgDF.drop('avg(auc)','lambda','alpha').collect()\n",
    ")\n",
    "eval_time_lambda = (\n",
    "eval_avgDF.drop('avg(auc)','rank','alpha').collect()\n",
    ")\n",
    "eval_time_alpha = (\n",
    "eval_avgDF.drop('avg(auc)','rank','lambda').collect()\n",
    ")"
   ]
  },
  {
   "cell_type": "code",
   "execution_count": 79,
   "metadata": {
    "collapsed": false
   },
   "outputs": [],
   "source": [
    "rank = [w[0] for w in eval_time_rank]\n",
    "time = [w[1] for w in eval_time_rank]\n",
    "lambda_ = [w[0] for w in eval_time_lambda]\n",
    "alpha = [w[0] for w in eval_time_alpha]"
   ]
  },
  {
   "cell_type": "code",
   "execution_count": 77,
   "metadata": {
    "collapsed": false
   },
   "outputs": [
    {
     "name": "stderr",
     "output_type": "stream",
     "text": [
      "/opt/conda/lib/python3.5/site-packages/matplotlib/collections.py:590: FutureWarning: elementwise comparison failed; returning scalar instead, but in the future will perform elementwise comparison\n",
      "  if self._edgecolors == str('face'):\n"
     ]
    },
    {
     "data": {
      "image/png": "[encoded data removed]",
      "text/plain": [
       "<matplotlib.figure.Figure at 0x7f646015a2b0>"
      ]
     },
     "metadata": {},
     "output_type": "display_data"
    }
   ],
   "source": [
    "plt.figure(figsize=(15,7))\n",
    "#plt.title(' space', fontsize=20)\n",
    "\n",
    "plt.subplot(131)\n",
    "plt.scatter(rank, time)\n",
    "plt.xlabel('rank')\n",
    "plt.ylabel('time (seconds)')\n",
    "plt.grid(True,which=\"both\",ls=\"-\")\n",
    "\n",
    "\n",
    "plt.subplot(132)\n",
    "plt.scatter(lambda_, time)\n",
    "plt.xlabel('lambda')\n",
    "plt.ylabel('time (seconds)')\n",
    "plt.xscale('log')\n",
    "plt.xlim([0.00005,1.3])\n",
    "plt.xticks([0.00001,0.001,0.01,0.1,1.0])\n",
    "plt.grid(True,which=\"both\",ls=\"-\")\n",
    "\n",
    "\n",
    "plt.subplot(133)\n",
    "plt.scatter(alpha, time)\n",
    "plt.xlabel('alpha')\n",
    "plt.ylabel('time (seconds)')\n",
    "plt.grid(True,which=\"both\",ls=\"-\")\n",
    "\n",
    "\n",
    "plt.show()"
   ]
  },
  {
   "cell_type": "markdown",
   "metadata": {},
   "source": [
    "Here we plotted the training time in function of the learning parameters.\n",
    "For each value of the parameters we have many points because they refer to different combinations of the other parameters that are not plotted.\n",
    "\n",
    "For what concerns the rank, we see a clear relation between time and rank value: the training time is higher when the rank increases.\n",
    "\n",
    "For what concerns the lambda value, the training time is independent from this value.\n",
    "\n",
    "For what concerns the alpha value, the training time is independent from this value."
   ]
  },
  {
   "cell_type": "code",
   "execution_count": 70,
   "metadata": {
    "collapsed": true
   },
   "outputs": [],
   "source": [
    "eval_auc_rank = (\n",
    "eval_avgDF.drop('avg(time)','lambda','alpha').collect()\n",
    ")\n",
    "eval_auc_lambda = (\n",
    "eval_avgDF.drop('avg(time)','rank','alpha').collect()\n",
    ")\n",
    "eval_auc_alpha = (\n",
    "eval_avgDF.drop('avg(time)','rank','lambda').collect()\n",
    ")"
   ]
  },
  {
   "cell_type": "code",
   "execution_count": 71,
   "metadata": {
    "collapsed": false
   },
   "outputs": [
    {
     "name": "stdout",
     "output_type": "stream",
     "text": [
      "[25, 40, 5, 40, 10, 10, 25, 5, 25, 40, 25, 5, 25, 10, 10, 5, 10, 40, 25, 10, 5, 40, 10, 40, 40, 40, 5, 5, 25, 25, 5, 25, 10, 25, 40, 5, 25, 5, 40, 25, 40, 10, 5, 40, 10, 10, 10, 5]\n"
     ]
    }
   ],
   "source": [
    "rank = [w[0] for w in eval_auc_rank]\n",
    "time = [w[1] for w in eval_auc_rank]\n",
    "lambda_ = [w[0] for w in eval_auc_lambda]\n",
    "alpha = [w[0] for w in eval_auc_alpha]\n",
    "\n",
    "print(rank)\n"
   ]
  },
  {
   "cell_type": "code",
   "execution_count": 72,
   "metadata": {
    "collapsed": false
   },
   "outputs": [
    {
     "name": "stderr",
     "output_type": "stream",
     "text": [
      "/opt/conda/lib/python3.5/site-packages/matplotlib/collections.py:590: FutureWarning: elementwise comparison failed; returning scalar instead, but in the future will perform elementwise comparison\n",
      "  if self._edgecolors == str('face'):\n"
     ]
    },
    {
     "data": {
      "image/png": "[encoded data removed]",
      "text/plain": [
       "<matplotlib.figure.Figure at 0x7f6458018a90>"
      ]
     },
     "metadata": {},
     "output_type": "display_data"
    }
   ],
   "source": [
    "plt.figure(figsize=(15,7))\n",
    "#plt.title(' space', fontsize=20)\n",
    "\n",
    "plt.subplot(131)\n",
    "plt.scatter(rank, time)\n",
    "plt.xlabel('rank')\n",
    "plt.ylabel('auc')\n",
    "plt.grid(True,which=\"both\",ls=\"-\")\n",
    "\n",
    "\n",
    "plt.subplot(132)\n",
    "plt.scatter(lambda_, time)\n",
    "plt.xlabel('lambda')\n",
    "plt.ylabel('auc')\n",
    "plt.xscale('log')\n",
    "plt.xlim([0.00005,1.3])\n",
    "plt.xticks([0.00001,0.001,0.01,0.1,1.0])\n",
    "plt.grid(True,which=\"both\",ls=\"-\")\n",
    "\n",
    "\n",
    "plt.subplot(133)\n",
    "plt.scatter(alpha, time)\n",
    "plt.xlabel('alpha')\n",
    "plt.ylabel('auc')\n",
    "plt.grid(True,which=\"both\",ls=\"-\")\n",
    "\n",
    "\n",
    "plt.show()"
   ]
  },
  {
   "cell_type": "markdown",
   "metadata": {},
   "source": [
    "Here we plotted the auc value in function of the learning parameters.\n",
    "\n",
    "For what concerns the rank, we do not see a clear relation between auc and rank value. We see that there is a big improvement concerning the auc when we pass from rank=5 to rank=10. Actually, the improvement is visible only in some configurations of the other parameters. When the rank increases, the max auc in each group remain stable, while the worst value always decreases.\n",
    "\n",
    "For what concerns the lambda value, the training time is independent from this value. We see a general improvement regarding the max value and the average value in the subgroup when we set lambda=1\n",
    "\n",
    "For what concerns the alpha value, the auc increases when alpha increases. We don't know what happens when we use alpha values greater that 40."
   ]
  },
  {
   "cell_type": "markdown",
   "metadata": {},
   "source": [
    "General consideration about the crossvalidation phase:\n",
    "\n",
    "From our data we obtained that the best parameters are: rank=10, lambda=1.0, alpha=40.0\n",
    "We have also seen that with this parameters the training time is acceptable:43 seconds.\n",
    "\n",
    "In order to improve our parameter choice we should run the crossvalidation using more splits in order to have less uncertainty in our results, and we should look at parameter values that are near the best ones that we have found so far."
   ]
  },
  {
   "cell_type": "markdown",
   "metadata": {},
   "source": [
    "Since our best values are the same found in the previous phase, we do not train again our model to look at different recommendations"
   ]
  },
  {
   "cell_type": "markdown",
   "metadata": {},
   "source": [
    "# Crossvalidation split analysis"
   ]
  },
  {
   "cell_type": "markdown",
   "metadata": {},
   "source": [
    "Here we want to analyse how the splitting of our data influences the performances and the results of the training"
   ]
  },
  {
   "cell_type": "code",
   "execution_count": 134,
   "metadata": {
    "collapsed": false
   },
   "outputs": [],
   "source": [
    "allData_filtered = userArtistName_filtered.rdd.map(lambda r: Rating(r[0],r[1],r[2])).repartition(48).cache()"
   ]
  },
  {
   "cell_type": "code",
   "execution_count": 135,
   "metadata": {
    "collapsed": false
   },
   "outputs": [
    {
     "name": "stdout",
     "output_type": "stream",
     "text": [
      "[ 2162688  1277952 10084224 10385376 10535952]\n"
     ]
    }
   ],
   "source": [
    "allItemIDs = np.array(allData_filtered.map(lambda x: x[1]).distinct().collect())\n",
    "print(allItemIDs[0:5])\n",
    "bAllItemIDs = sc.broadcast(allItemIDs)"
   ]
  },
  {
   "cell_type": "code",
   "execution_count": 139,
   "metadata": {
    "collapsed": false
   },
   "outputs": [
    {
     "name": "stdout",
     "output_type": "stream",
     "text": [
      "Train model with training = 9, validation = 1 \n",
      "finish training of model in 66.741003 secs\n",
      "Auc of trained model is 0.976627\n",
      "Train model with training = 8, validation = 2 \n",
      "finish training of model in 65.696388 secs\n",
      "Auc of trained model is 0.975840\n",
      "Train model with training = 7, validation = 3 \n",
      "finish training of model in 77.299791 secs\n",
      "Auc of trained model is 0.974414\n",
      "Train model with training = 6, validation = 4 \n",
      "finish training of model in 84.648691 secs\n",
      "Auc of trained model is 0.971842\n",
      "Train model with training = 5, validation = 5 \n",
      "finish training of model in 90.615174 secs\n",
      "Auc of trained model is 0.968336\n",
      "Train model with training = 9, validation = 1 \n",
      "finish training of model in 50.803398 secs\n",
      "Auc of trained model is 0.976714\n",
      "Train model with training = 8, validation = 2 \n",
      "finish training of model in 61.009112 secs\n",
      "Auc of trained model is 0.975505\n",
      "Train model with training = 7, validation = 3 \n",
      "finish training of model in 88.228812 secs\n",
      "Auc of trained model is 0.974325\n",
      "Train model with training = 6, validation = 4 \n",
      "finish training of model in 91.151918 secs\n",
      "Auc of trained model is 0.970755\n",
      "Train model with training = 5, validation = 5 \n",
      "finish training of model in 94.269315 secs\n",
      "Auc of trained model is 0.969115\n",
      "finish training in 771.471046 secs\n"
     ]
    }
   ],
   "source": [
    "num_split = 2\n",
    "splits = [(9,1),(8,2),(7,3),(6,4),(5,5)]\n",
    "evaluations = []\n",
    "t0  = time()\n",
    "for it in range(num_split):\n",
    "    for spl in splits:\n",
    "        trainData_filtered, cvData_filtered = allData_filtered.randomSplit(spl)\n",
    "        trainData_filtered.cache()\n",
    "        cvData_filtered.cache()\n",
    "\n",
    "        print(\"Train model with training = %d, validation = %d \" % (spl[0],spl[1]))\n",
    "\n",
    "        t2  = time()\n",
    "        model = ALS.trainImplicit(ratings=trainData_filtered, rank=10, iterations=5, lambda_=1.0, alpha=40.0)\n",
    "        auc = calculateAUC( cvData_filtered, bAllItemIDs, model.predictAll )\n",
    "        t3  = time()\n",
    "        evaluations.append(((it, t3-t2,*spl), auc))\n",
    "        unpersist(model)\n",
    "        print(\"finish training of model in %f secs\" % (t3 - t2))\n",
    "        print(\"Auc of trained model is %f\" % auc)\n",
    "        trainData_filtered.unpersist()\n",
    "        cvData_filtered.unpersist()\n",
    "    \n",
    "\n",
    "t1 = time()\n",
    "print(\"finish training in %f secs\" % (t1 - t0))\n",
    "   "
   ]
  },
  {
   "cell_type": "code",
   "execution_count": 148,
   "metadata": {
    "collapsed": true
   },
   "outputs": [],
   "source": [
    "eval_tup = [list((*x[0],x[1])) for x in evaluations]"
   ]
  },
  {
   "cell_type": "code",
   "execution_count": 151,
   "metadata": {
    "collapsed": false
   },
   "outputs": [
    {
     "name": "stdout",
     "output_type": "stream",
     "text": [
      "+--------+----------+------------------+------------------+\n",
      "|training|validation|          avg(auc)|         avg(time)|\n",
      "+--------+----------+------------------+------------------+\n",
      "|       9|         1|0.9766702068254994| 58.77220046520233|\n",
      "|       8|         2|0.9756728613120307|63.352750062942505|\n",
      "|       7|         3|0.9743694620142531| 82.76430141925812|\n",
      "|       6|         4|0.9712983644079728| 87.90030431747437|\n",
      "|       5|         5|0.9687255250597538| 92.44224452972412|\n",
      "+--------+----------+------------------+------------------+\n",
      "\n"
     ]
    }
   ],
   "source": [
    "evalDF = sqlContext.createDataFrame(eval_tup, ['it', 'time','training','validation','auc'])\n",
    "eval_avgDF = (\n",
    "    evalDF.drop('it')\n",
    "    .groupBy(['training','validation'])\n",
    "    .avg('auc','time')\n",
    "    .orderBy('avg(auc)',ascending=0)\n",
    ")\n",
    "eval_avgDF.show()"
   ]
  },
  {
   "cell_type": "code",
   "execution_count": 153,
   "metadata": {
    "collapsed": true
   },
   "outputs": [],
   "source": [
    "eval_auc = (\n",
    "eval_avgDF.drop('validation','avg(time)').collect()\n",
    ")\n",
    "\n",
    "eval_time = (\n",
    "eval_avgDF.drop('validation','avg(auc)').collect()\n",
    ")"
   ]
  },
  {
   "cell_type": "code",
   "execution_count": 160,
   "metadata": {
    "collapsed": true
   },
   "outputs": [],
   "source": [
    "avg = [w[1] for w in eval_auc]\n",
    "train_avg = [w[0]*10 for w in eval_auc]\n",
    "time = [w[1] for w in eval_time]\n",
    "train_time = [w[0]*10 for w in eval_time]"
   ]
  },
  {
   "cell_type": "code",
   "execution_count": 165,
   "metadata": {
    "collapsed": false
   },
   "outputs": [
    {
     "name": "stderr",
     "output_type": "stream",
     "text": [
      "/opt/conda/lib/python3.5/site-packages/matplotlib/collections.py:590: FutureWarning: elementwise comparison failed; returning scalar instead, but in the future will perform elementwise comparison\n",
      "  if self._edgecolors == str('face'):\n"
     ]
    },
    {
     "data": {
      "image/png": "[encoded data removed]",
      "text/plain": [
       "<matplotlib.figure.Figure at 0x7f641e00c940>"
      ]
     },
     "metadata": {},
     "output_type": "display_data"
    }
   ],
   "source": [
    "plt.figure(figsize=(15,6))\n",
    "#plt.title(' space', fontsize=20)\n",
    "\n",
    "plt.subplot(121)\n",
    "plt.scatter(train_avg, avg)\n",
    "plt.xlabel('training % of the split')\n",
    "plt.ylabel('auc')\n",
    "plt.grid(True,which=\"both\",ls=\"-\")\n",
    "\n",
    "\n",
    "plt.subplot(122)\n",
    "plt.scatter(train_time, time)\n",
    "plt.xlabel('training % of the split')\n",
    "plt.ylabel('time')\n",
    "plt.grid(True,which=\"both\",ls=\"-\")\n",
    "\n",
    "\n",
    "plt.show()"
   ]
  },
  {
   "cell_type": "markdown",
   "metadata": {},
   "source": [
    "From the graph on the left we see that, as expected, the model trained with more data is more accurate in the prediction.\n",
    "\n",
    "Looking at the training time we see that it decreases when the training part is bigger, this is because in our time measurements we include the training and the validation of the model. We think that in this case the calculation of the auc is quite expensive."
   ]
  },
  {
   "cell_type": "markdown",
   "metadata": {},
   "source": [
    "# Outlier removal"
   ]
  },
  {
   "cell_type": "markdown",
   "metadata": {},
   "source": [
    "We decided to remove user outliers. Here we consider as an outlier all users that have more than 200000 playcounts and more than 5000 different artists listened. \n",
    "Users in the first group are those that listen many times few artists, while users in the second group are those that listen many different artists. We think that these users can affect considerably our recommendations, expecially those that have many playcounts."
   ]
  },
  {
   "cell_type": "code",
   "execution_count": 196,
   "metadata": {
    "collapsed": false
   },
   "outputs": [
    {
     "name": "stdout",
     "output_type": "stream",
     "text": [
      "+-------+--------------+\n",
      "| userID|sum(playCount)|\n",
      "+-------+--------------+\n",
      "|1059637|        674411|\n",
      "|2064012|        548411|\n",
      "|2069337|        390816|\n",
      "|2023977|        285978|\n",
      "|1046559|        183972|\n",
      "|1052461|        175822|\n",
      "|1070932|        168977|\n",
      "|1031009|        167032|\n",
      "|2020513|        165642|\n",
      "|2062243|        151504|\n",
      "|2069889|        143091|\n",
      "|1001440|        136265|\n",
      "|2014936|        135235|\n",
      "|2017397|        134032|\n",
      "|1024631|        122316|\n",
      "|1007308|        111128|\n",
      "|2023742|        102030|\n",
      "|1058890|         98477|\n",
      "|1021940|         97296|\n",
      "|1059245|         96058|\n",
      "+-------+--------------+\n",
      "only showing top 20 rows\n",
      "\n"
     ]
    }
   ],
   "source": [
    "UsersPC_clean = UsersPC_clean.withColumnRenamed(\"sum(playCount)\", \"playCount\")\n",
    "UsersPC_clean_filtered =UsersPC_clean.filter(UsersPC_clean.playCount < 200000)\n",
    "\n",
    "users_outliers_filtered = (\n",
    "    UsersAS_clean\n",
    "    .filter(UsersAS_clean.curiosity < 5000)\n",
    "    .join(UsersPC_clean, UsersAS_clean.userID == UsersPC_clean.userID, \"left_outer\")\n",
    "    .drop(UsersPC_clean.userID)\n",
    "    .select('userID')\n",
    ")\n",
    "\n",
    "\n",
    "allData_filtered_without_outliers = (\n",
    "    userArtistName_filtered\n",
    "    .join(users_outliers_filtered, users_outliers_filtered.userID == userArtistName_filtered.userID, \"left_outer\")\n",
    "    .drop(users_outliers_filtered.userID)\n",
    ")\n"
   ]
  },
  {
   "cell_type": "code",
   "execution_count": 198,
   "metadata": {
    "collapsed": false
   },
   "outputs": [
    {
     "name": "stdout",
     "output_type": "stream",
     "text": [
      "[ 6881280  2162688 10084224 10234800 10385376]\n"
     ]
    }
   ],
   "source": [
    "allData_filtered = allData_filtered_without_outliers.rdd.map(lambda r: Rating(r[0],r[1],r[2])).repartition(48).cache()\n",
    "\n",
    "\n",
    "trainData_filtered, cvData_filtered = allData_filtered.randomSplit([9,1])\n",
    "trainData_filtered.cache()\n",
    "cvData_filtered.cache()\n",
    "\n",
    "allItemIDs = np.array(allData_filtered.map(lambda x: x[1]).distinct().collect())\n",
    "print(allItemIDs[0:5])\n",
    "bAllItemIDs = sc.broadcast(allItemIDs)"
   ]
  },
  {
   "cell_type": "code",
   "execution_count": 199,
   "metadata": {
    "collapsed": true
   },
   "outputs": [],
   "source": [
    "model = ALS.trainImplicit(ratings=allData_filtered,rank=10,iterations=5,lambda_=1.0,alpha=40.0)\n"
   ]
  },
  {
   "cell_type": "code",
   "execution_count": 200,
   "metadata": {
    "collapsed": true
   },
   "outputs": [],
   "source": [
    "# Make five reccommendations to user 2093760\n",
    "recommendations = (model.recommendProducts(2093760,5))\n",
    "# construct set of recommendated artists\n",
    "#this is a set of the recommended aritsts\n",
    "recArtist= set(r[1] for r in recommendations)"
   ]
  },
  {
   "cell_type": "code",
   "execution_count": 201,
   "metadata": {
    "collapsed": true
   },
   "outputs": [],
   "source": [
    "# construct data of artists (artist_id, artist_name)\n",
    "\n",
    "rawArtistData = sc.textFile(base + \"artist_data.txt\")\n",
    "\n",
    "def xtractFields(s):\n",
    "    line = re.split(\"\\s|\\t\",s,1)\n",
    "    if (len(line) > 1):\n",
    "        try:\n",
    "            return (int(line[0]), str(line[1].strip()))\n",
    "        except ValueError:\n",
    "            return (-1,\"\")\n",
    "    else: \n",
    "        return (-1,\"\")\n",
    "\n",
    "artistByID = rawArtistData.map(xtractFields).filter(lambda x: x[0] > 0)\n",
    "#print(artistByID.take(5))"
   ]
  },
  {
   "cell_type": "code",
   "execution_count": 202,
   "metadata": {
    "collapsed": false
   },
   "outputs": [
    {
     "name": "stdout",
     "output_type": "stream",
     "text": [
      "['Maroon 5', 'The Killers', 'Green Day', 'Gwen Stefani', 'blink-182']\n"
     ]
    }
   ],
   "source": [
    "# Filter in those artists, get just artist, and print\n",
    "def artistNames(line):\n",
    "#     [artistID, name]\n",
    "    if (line[0] in recArtist):\n",
    "        return True\n",
    "    else:\n",
    "        return False\n",
    "\n",
    "recList = artistByID.filter(lambda s: artistNames(s) == True).values().collect()\n",
    "\n",
    "print(recList)"
   ]
  },
  {
   "cell_type": "markdown",
   "metadata": {},
   "source": [
    "We can see that the recommended artists change completely. Looking at the artists, we see that three of them are rock bands, while our user likes mostly rap/hip-hop artists, and a bit of rock. "
   ]
  }
 ],
 "metadata": {
  "kernelspec": {
   "display_name": "Python 3",
   "language": "python",
   "name": "python3"
  },
  "language_info": {
   "codemirror_mode": {
    "name": "ipython",
    "version": 3
   },
   "file_extension": ".py",
   "mimetype": "text/x-python",
   "name": "python",
   "nbconvert_exporter": "python",
   "pygments_lexer": "ipython3",
   "version": "3.5.2"
  }
 },
 "nbformat": 4,
 "nbformat_minor": 0
}
